{
  "cells": [
    {
      "cell_type": "markdown",
      "metadata": {
        "id": "view-in-github",
        "colab_type": "text"
      },
      "source": [
        "<a href=\"https://colab.research.google.com/github/IkeKobby/fatima-fellowship/blob/main/Isaac_Kobby_Anni_Fatima_Fellowship_.ipynb\" target=\"_parent\"><img src=\"https://colab.research.google.com/assets/colab-badge.svg\" alt=\"Open In Colab\"/></a>"
      ]
    },
    {
      "cell_type": "markdown",
      "metadata": {
        "id": "eBpjBBZc6IvA"
      },
      "source": [
        "# Fatima Fellowship Quick Coding Challenge (Pick 1)\n",
        "\n",
        "Thank you for applying to the Fatima Fellowship. To help us select the Fellows and assess your ability to do machine learning research, we are asking that you complete a short coding challenge. Please pick **1 of these 5** coding challenges, whichever is most aligned with your interests. \n",
        "\n",
        "**Due date: 1 week**\n",
        "\n",
        "**How to submit**: Please make a copy of this colab notebook, add your code and results, and submit your colab notebook to the submission link below. If you have never used a colab notebook, [check out this video](https://www.youtube.com/watch?v=i-HnvsehuSw).\n",
        "\n",
        "**Submission link**: https://airtable.com/shrXy3QKSsO2yALd3"
      ]
    },
    {
      "cell_type": "markdown",
      "metadata": {
        "id": "sFU9LTOyMiMj"
      },
      "source": [
        "# 2. Deep Learning for NLP\n",
        "\n",
        "**Fake news classifier**: Train a text classification model to detect fake news articles!\n",
        "\n",
        "* Download the dataset here: https://www.kaggle.com/clmentbisaillon/fake-and-real-news-dataset\n",
        "* Develop an NLP model for classification that uses a pretrained language model\n",
        "* Finetune your model on the dataset, and generate an AUC curve of your model on the test set of your choice. \n",
        "* [Upload the the model to the Hugging Face Hub](https://huggingface.co/docs/hub/adding-a-model), and add a link to your model below.\n",
        "* *Answer the following question*: Look at some of the news articles that were classified incorrectly. Please explain what you might do to improve your model's performance on these news articles in the future (you do not need to impelement these suggestions)"
      ]
    },
    {
      "cell_type": "code",
      "execution_count": 1,
      "metadata": {
        "colab": {
          "base_uri": "https://localhost:8080/"
        },
        "id": "E90i018KyJH3",
        "outputId": "f2622e10-02d2-45d2-8326-8cb1f902e000"
      },
      "outputs": [
        {
          "output_type": "stream",
          "name": "stdout",
          "text": [
            "Drive already mounted at /content/drive; to attempt to forcibly remount, call drive.mount(\"/content/drive\", force_remount=True).\n"
          ]
        }
      ],
      "source": [
        "from google.colab import drive\n",
        "drive.mount('/content/drive')"
      ]
    },
    {
      "cell_type": "code",
      "execution_count": null,
      "metadata": {
        "id": "L__w398EOz5F"
      },
      "outputs": [],
      "source": [
        "# installing ktrain\n",
        "!pip install ktrain"
      ]
    },
    {
      "cell_type": "markdown",
      "source": [
        "### Setting keras training configuration"
      ],
      "metadata": {
        "id": "xdK5bmxhhLKu"
      }
    },
    {
      "cell_type": "code",
      "execution_count": 2,
      "metadata": {
        "id": "2GHgtSjMOatP"
      },
      "outputs": [],
      "source": [
        "%reload_ext autoreload\n",
        "%autoreload 2\n",
        "%matplotlib inline\n",
        "import os\n",
        "os.environ[\"CUDA_DEVICE_ORDER\"]=\"PCI_BUS_ID\";\n",
        "os.environ[\"CUDA_VISIBLE_DEVICES\"]=\"0\";"
      ]
    },
    {
      "cell_type": "code",
      "execution_count": 4,
      "metadata": {
        "id": "X1Ou8UUH43Ji"
      },
      "outputs": [],
      "source": [
        "import pandas as pd\n",
        "import numpy as np\n",
        "\n",
        "import ktrain\n",
        "from ktrain import text"
      ]
    },
    {
      "cell_type": "code",
      "execution_count": 5,
      "metadata": {
        "id": "zkKx-1XdRPdY"
      },
      "outputs": [],
      "source": [
        "clean_data_path = '/content/drive/MyDrive/fake-and-real-news-dataset/cleaned_text.csv'"
      ]
    },
    {
      "cell_type": "markdown",
      "source": [
        "- The preprocessing code can be found [here](https://github.com/IkeKobby/fatima-fellowship/blob/main/Data_Preprocessing_Fatima_Fellowship.ipynb). The data comes with both the original article plus `(title and subject)` concatenated to together. "
      ],
      "metadata": {
        "id": "LNLP1L6n3xCV"
      }
    },
    {
      "cell_type": "code",
      "execution_count": 6,
      "metadata": {
        "colab": {
          "base_uri": "https://localhost:8080/",
          "height": 362
        },
        "id": "8wkSCg9oKzci",
        "outputId": "619ad6db-185a-4e3c-b242-c8133afdb0eb"
      },
      "outputs": [
        {
          "output_type": "execute_result",
          "data": {
            "text/plain": [
              "                                             article  label  \\\n",
              "0  MATT DAMON Says America Needs IMMEDIATE GUN BA...      0   \n",
              "1  SEE GEORGE STEPHANOPOULOS’ Reaction When Hilla...      0   \n",
              "2   Listen To Ann Coulter Pretend She Likes Jews ...      0   \n",
              "3  Transcripts of Clinton's Wall Street talks rel...      1   \n",
              "4  Jailed Cameroon writer who criticized governme...      1   \n",
              "5   Watch Bernie Sanders DESTROY Republican Ranti...      0   \n",
              "6  Kenya officials change way of announcing elect...      1   \n",
              "7  HYSTERICAL: Trump Warns “Sleepy Eyes” Chuck To...      0   \n",
              "8  AMERICANS FURIOUS, Lash Out After Liberals Use...      0   \n",
              "9   Dem Senator On Trump World: ‘They Lie As Easi...      0   \n",
              "\n",
              "                                       clean_article  \n",
              "0  matt damon says america needs immediate gun ba...  \n",
              "1  see george stephanopoulos reaction when hillar...  \n",
              "2  listen to ann counter pretend she likes jews w...  \n",
              "3  transcripts clinton wall street talks released...  \n",
              "4  jailed cameroon writer criticized government e...  \n",
              "5  watch bernie sanders destroy republican rantin...  \n",
              "6  kenya officials change way announcing election...  \n",
              "7  hysterical trump warns sleepy eyes chuck todd ...  \n",
              "8  americans furious lash out after liberals use ...  \n",
              "9  dem senator on trump world they lie as easily ...  "
            ],
            "text/html": [
              "\n",
              "  <div id=\"df-025ff177-20e7-41d6-aef6-74407006fec8\">\n",
              "    <div class=\"colab-df-container\">\n",
              "      <div>\n",
              "<style scoped>\n",
              "    .dataframe tbody tr th:only-of-type {\n",
              "        vertical-align: middle;\n",
              "    }\n",
              "\n",
              "    .dataframe tbody tr th {\n",
              "        vertical-align: top;\n",
              "    }\n",
              "\n",
              "    .dataframe thead th {\n",
              "        text-align: right;\n",
              "    }\n",
              "</style>\n",
              "<table border=\"1\" class=\"dataframe\">\n",
              "  <thead>\n",
              "    <tr style=\"text-align: right;\">\n",
              "      <th></th>\n",
              "      <th>article</th>\n",
              "      <th>label</th>\n",
              "      <th>clean_article</th>\n",
              "    </tr>\n",
              "  </thead>\n",
              "  <tbody>\n",
              "    <tr>\n",
              "      <th>0</th>\n",
              "      <td>MATT DAMON Says America Needs IMMEDIATE GUN BA...</td>\n",
              "      <td>0</td>\n",
              "      <td>matt damon says america needs immediate gun ba...</td>\n",
              "    </tr>\n",
              "    <tr>\n",
              "      <th>1</th>\n",
              "      <td>SEE GEORGE STEPHANOPOULOS’ Reaction When Hilla...</td>\n",
              "      <td>0</td>\n",
              "      <td>see george stephanopoulos reaction when hillar...</td>\n",
              "    </tr>\n",
              "    <tr>\n",
              "      <th>2</th>\n",
              "      <td>Listen To Ann Coulter Pretend She Likes Jews ...</td>\n",
              "      <td>0</td>\n",
              "      <td>listen to ann counter pretend she likes jews w...</td>\n",
              "    </tr>\n",
              "    <tr>\n",
              "      <th>3</th>\n",
              "      <td>Transcripts of Clinton's Wall Street talks rel...</td>\n",
              "      <td>1</td>\n",
              "      <td>transcripts clinton wall street talks released...</td>\n",
              "    </tr>\n",
              "    <tr>\n",
              "      <th>4</th>\n",
              "      <td>Jailed Cameroon writer who criticized governme...</td>\n",
              "      <td>1</td>\n",
              "      <td>jailed cameroon writer criticized government e...</td>\n",
              "    </tr>\n",
              "    <tr>\n",
              "      <th>5</th>\n",
              "      <td>Watch Bernie Sanders DESTROY Republican Ranti...</td>\n",
              "      <td>0</td>\n",
              "      <td>watch bernie sanders destroy republican rantin...</td>\n",
              "    </tr>\n",
              "    <tr>\n",
              "      <th>6</th>\n",
              "      <td>Kenya officials change way of announcing elect...</td>\n",
              "      <td>1</td>\n",
              "      <td>kenya officials change way announcing election...</td>\n",
              "    </tr>\n",
              "    <tr>\n",
              "      <th>7</th>\n",
              "      <td>HYSTERICAL: Trump Warns “Sleepy Eyes” Chuck To...</td>\n",
              "      <td>0</td>\n",
              "      <td>hysterical trump warns sleepy eyes chuck todd ...</td>\n",
              "    </tr>\n",
              "    <tr>\n",
              "      <th>8</th>\n",
              "      <td>AMERICANS FURIOUS, Lash Out After Liberals Use...</td>\n",
              "      <td>0</td>\n",
              "      <td>americans furious lash out after liberals use ...</td>\n",
              "    </tr>\n",
              "    <tr>\n",
              "      <th>9</th>\n",
              "      <td>Dem Senator On Trump World: ‘They Lie As Easi...</td>\n",
              "      <td>0</td>\n",
              "      <td>dem senator on trump world they lie as easily ...</td>\n",
              "    </tr>\n",
              "  </tbody>\n",
              "</table>\n",
              "</div>\n",
              "      <button class=\"colab-df-convert\" onclick=\"convertToInteractive('df-025ff177-20e7-41d6-aef6-74407006fec8')\"\n",
              "              title=\"Convert this dataframe to an interactive table.\"\n",
              "              style=\"display:none;\">\n",
              "        \n",
              "  <svg xmlns=\"http://www.w3.org/2000/svg\" height=\"24px\"viewBox=\"0 0 24 24\"\n",
              "       width=\"24px\">\n",
              "    <path d=\"M0 0h24v24H0V0z\" fill=\"none\"/>\n",
              "    <path d=\"M18.56 5.44l.94 2.06.94-2.06 2.06-.94-2.06-.94-.94-2.06-.94 2.06-2.06.94zm-11 1L8.5 8.5l.94-2.06 2.06-.94-2.06-.94L8.5 2.5l-.94 2.06-2.06.94zm10 10l.94 2.06.94-2.06 2.06-.94-2.06-.94-.94-2.06-.94 2.06-2.06.94z\"/><path d=\"M17.41 7.96l-1.37-1.37c-.4-.4-.92-.59-1.43-.59-.52 0-1.04.2-1.43.59L10.3 9.45l-7.72 7.72c-.78.78-.78 2.05 0 2.83L4 21.41c.39.39.9.59 1.41.59.51 0 1.02-.2 1.41-.59l7.78-7.78 2.81-2.81c.8-.78.8-2.07 0-2.86zM5.41 20L4 18.59l7.72-7.72 1.47 1.35L5.41 20z\"/>\n",
              "  </svg>\n",
              "      </button>\n",
              "      \n",
              "  <style>\n",
              "    .colab-df-container {\n",
              "      display:flex;\n",
              "      flex-wrap:wrap;\n",
              "      gap: 12px;\n",
              "    }\n",
              "\n",
              "    .colab-df-convert {\n",
              "      background-color: #E8F0FE;\n",
              "      border: none;\n",
              "      border-radius: 50%;\n",
              "      cursor: pointer;\n",
              "      display: none;\n",
              "      fill: #1967D2;\n",
              "      height: 32px;\n",
              "      padding: 0 0 0 0;\n",
              "      width: 32px;\n",
              "    }\n",
              "\n",
              "    .colab-df-convert:hover {\n",
              "      background-color: #E2EBFA;\n",
              "      box-shadow: 0px 1px 2px rgba(60, 64, 67, 0.3), 0px 1px 3px 1px rgba(60, 64, 67, 0.15);\n",
              "      fill: #174EA6;\n",
              "    }\n",
              "\n",
              "    [theme=dark] .colab-df-convert {\n",
              "      background-color: #3B4455;\n",
              "      fill: #D2E3FC;\n",
              "    }\n",
              "\n",
              "    [theme=dark] .colab-df-convert:hover {\n",
              "      background-color: #434B5C;\n",
              "      box-shadow: 0px 1px 3px 1px rgba(0, 0, 0, 0.15);\n",
              "      filter: drop-shadow(0px 1px 2px rgba(0, 0, 0, 0.3));\n",
              "      fill: #FFFFFF;\n",
              "    }\n",
              "  </style>\n",
              "\n",
              "      <script>\n",
              "        const buttonEl =\n",
              "          document.querySelector('#df-025ff177-20e7-41d6-aef6-74407006fec8 button.colab-df-convert');\n",
              "        buttonEl.style.display =\n",
              "          google.colab.kernel.accessAllowed ? 'block' : 'none';\n",
              "\n",
              "        async function convertToInteractive(key) {\n",
              "          const element = document.querySelector('#df-025ff177-20e7-41d6-aef6-74407006fec8');\n",
              "          const dataTable =\n",
              "            await google.colab.kernel.invokeFunction('convertToInteractive',\n",
              "                                                     [key], {});\n",
              "          if (!dataTable) return;\n",
              "\n",
              "          const docLinkHtml = 'Like what you see? Visit the ' +\n",
              "            '<a target=\"_blank\" href=https://colab.research.google.com/notebooks/data_table.ipynb>data table notebook</a>'\n",
              "            + ' to learn more about interactive tables.';\n",
              "          element.innerHTML = '';\n",
              "          dataTable['output_type'] = 'display_data';\n",
              "          await google.colab.output.renderOutput(dataTable, element);\n",
              "          const docLink = document.createElement('div');\n",
              "          docLink.innerHTML = docLinkHtml;\n",
              "          element.appendChild(docLink);\n",
              "        }\n",
              "      </script>\n",
              "    </div>\n",
              "  </div>\n",
              "  "
            ]
          },
          "metadata": {},
          "execution_count": 6
        }
      ],
      "source": [
        "# Loading cleaned text. \n",
        "cleaned_data = pd.read_csv(clean_data_path)\n",
        "cleaned_data.head(10)"
      ]
    },
    {
      "cell_type": "markdown",
      "source": [
        "### Getting data ready for training\n",
        "The original data was processed and prepared for modeling as follows;\n",
        "\n",
        "- I concatenated the `title`, `article` and `subject` together as one text for training. Prior to this each set, that is, `real.csv` and `fake.csv` was created a `label` column. `0` for the `fake.csv` and `1` for the `real.csv` after the concatenation. \n",
        "- for ease of training, even though transformer models especially the `uncased` do have their preprocessing methods, I like to do it manually after exploring the data. I removed `special characters, non english characters, unnecessary spaces, spell check`, after which the data was saved for training. \n",
        "- unfortunately for me, after several trial to train the model in `colab's GPU` and colab disconnecting several times, I resulted to using only `30%` of the entire dataset to get results after using `60%`, `50%` and `40%` but GPU issues. Hence, the model, `pretrained distilbert-base-uncased` I used here was only trained on `30%` of the dataset and of course it had an incredible results. Looking forward, if resources, like `GPU supported laptops` are available, i could train the entire dataset to have a full glimpse on the model's performance."
      ],
      "metadata": {
        "id": "UIWV0UyEdCKQ"
      }
    },
    {
      "cell_type": "code",
      "execution_count": 7,
      "metadata": {
        "colab": {
          "base_uri": "https://localhost:8080/"
        },
        "id": "xUm_g6Uhr8rU",
        "outputId": "51ac10a3-a0fb-45a4-f8ef-172855db3dc3"
      },
      "outputs": [
        {
          "output_type": "execute_result",
          "data": {
            "text/plain": [
              "(13469, 3)"
            ]
          },
          "metadata": {},
          "execution_count": 7
        }
      ],
      "source": [
        "\n",
        "data_for_modeling = cleaned_data[: int(len(cleaned_data) * .3)]\n",
        "data_for_modeling.shape"
      ]
    },
    {
      "cell_type": "code",
      "execution_count": 8,
      "metadata": {
        "id": "M0ngeSJzB3Mi"
      },
      "outputs": [],
      "source": [
        "# getting data ready for training \n",
        "# data splitting \n",
        "train_input, validation_input, test_input = np.split(data_for_modeling['clean_article'], [int(.70 * len(data_for_modeling)), int(.90 * len(data_for_modeling))])\n",
        "train_label, validation_label, test_label = np.split(data_for_modeling['label'], [int(.70 * len(data_for_modeling)), int(.90 * len(data_for_modeling))])\n",
        "\n",
        "# reset indexes for validation and training\n",
        "train_input = train_input.values\n",
        "train_label = train_label.values\n",
        "validation_input = validation_input.reset_index(drop = True).values\n",
        "validation_label = validation_label.reset_index(drop = True).values\n",
        "test_input = test_input.reset_index(drop = True).values\n",
        "test_label = test_label.reset_index(drop = True).values"
      ]
    },
    {
      "cell_type": "code",
      "execution_count": 10,
      "metadata": {
        "id": "etNzUXxThB9T"
      },
      "outputs": [],
      "source": [
        "# class names\n",
        "class_names = ['fake', 'real']"
      ]
    },
    {
      "cell_type": "code",
      "execution_count": 11,
      "metadata": {
        "id": "XuYOURZmTC-t",
        "colab": {
          "base_uri": "https://localhost:8080/",
          "height": 49,
          "referenced_widgets": [
            "0ff6b0e7199144ff85b3443e420be300",
            "cb71acc8c5854a6abcb7200feefa8a8d",
            "ff74ca5c6d4c4c6b8e2aee51e49d6072",
            "a4f6ee1495b346ffb09f5f5159e05cbc",
            "aaaadb3ee3ee45a0898d1ea926f0ff7a",
            "e2d592544a8142cf859d17e51fe13441",
            "f7021446e5ca41a1b3a1813af0d1ae1c",
            "99704611b5e94997af81a589335e6954",
            "1862648076834d4baf8189c34502dd79",
            "cb28a958ffd54a82ac284fd0f196d804",
            "cdaef1cfcb4747e39814197973f6c975"
          ]
        },
        "outputId": "a5f9415a-e9fe-4bd7-f228-953d55a91d61"
      },
      "outputs": [
        {
          "output_type": "display_data",
          "data": {
            "text/plain": [
              "Downloading:   0%|          | 0.00/483 [00:00<?, ?B/s]"
            ],
            "application/vnd.jupyter.widget-view+json": {
              "version_major": 2,
              "version_minor": 0,
              "model_id": "0ff6b0e7199144ff85b3443e420be300"
            }
          },
          "metadata": {}
        }
      ],
      "source": [
        "### Some global variables \n",
        "MODEL_NAME = 'distilbert-base-uncased'\n",
        "MAX_LEN = 512\n",
        "BATCH_SIZE = 16\n",
        "EPOCHS = 5\n",
        "\n",
        "transformer = text.Transformer(model_name=MODEL_NAME, maxlen=MAX_LEN, class_names=class_names)"
      ]
    },
    {
      "cell_type": "code",
      "execution_count": 12,
      "metadata": {
        "colab": {
          "base_uri": "https://localhost:8080/",
          "height": 362,
          "referenced_widgets": [
            "d3f330d73e2e410b8bfa308aa44a2a55",
            "1f665c2ef1af4530833e407cc722ce46",
            "ab269ed62d124d4e93f1e611a48a1dcb",
            "b77bc0a1cf6446b39aee2d91c4907714",
            "8de3403e75ed47968203881236b83655",
            "6cef1cea2a4549aa9b0ce3de1f05bf74",
            "70d595865f8c431795a320d7b47c1922",
            "6ae7b7531fad4a8cb394c3e819b17853",
            "b14b2a6e31be495c86d0be8a161cac66",
            "0a8db14eda434d6685205fbefa159957",
            "3e98e1ca41cb4f7d807726abbdfa94a3",
            "826cf6aaab034932a4de4c6593c9d99c",
            "a74f75978daa4358a0868f879b90990b",
            "ce18db03843f4bfba9690ba2a98aeabf",
            "df98bf99aaa94220a81cec7ccf63d04e",
            "2486682628094105a4b9485a14d97d3e",
            "b4445b5cf28c41a9a92208efb016e18d",
            "06df1398814d49f88480fbc197e275b3",
            "b5ad3a15b75545b3b9a7f9fdcf6c2e43",
            "66ce9a649b794f33a7cf835126001917",
            "386b9a9235784ac4897abed6802088be",
            "8de5671364b44a23a5fd3ad929fdc521",
            "d845e36d1b3044138d663676e2add5ae",
            "425885fe79d34ec385776e3037d4bcd7",
            "834b6d403ac54df7a1e1c7210e6dbeb9",
            "41d437d4146b45be88ec4d0e47d76833",
            "e809c4625d9f4c0ea7bef33a41eb42d9",
            "825e94888c3740b3a21420d82cbcfe85",
            "7573f1f1816a4f9c96b70856896faaf8",
            "cb4830c72b7a402682701ac2fbee1477",
            "c4a3cb86d87e4819950b1ca2dc89dbe2",
            "4d9e0ef420004379969aaf20f7108510",
            "d5240db62e3648c9bf004e2021100065"
          ]
        },
        "id": "a59ae1F5Uw1w",
        "outputId": "a1d2e4df-cbf6-4374-fb06-f2c74516b620"
      },
      "outputs": [
        {
          "output_type": "stream",
          "name": "stdout",
          "text": [
            "preprocessing train...\n",
            "language: en\n",
            "train sequence lengths:\n",
            "\tmean : 241\n",
            "\t95percentile : 537\n",
            "\t99percentile : 817\n"
          ]
        },
        {
          "output_type": "display_data",
          "data": {
            "text/plain": [
              "Downloading:   0%|          | 0.00/232k [00:00<?, ?B/s]"
            ],
            "application/vnd.jupyter.widget-view+json": {
              "version_major": 2,
              "version_minor": 0,
              "model_id": "d3f330d73e2e410b8bfa308aa44a2a55"
            }
          },
          "metadata": {}
        },
        {
          "output_type": "display_data",
          "data": {
            "text/plain": [
              "Downloading:   0%|          | 0.00/466k [00:00<?, ?B/s]"
            ],
            "application/vnd.jupyter.widget-view+json": {
              "version_major": 2,
              "version_minor": 0,
              "model_id": "826cf6aaab034932a4de4c6593c9d99c"
            }
          },
          "metadata": {}
        },
        {
          "output_type": "display_data",
          "data": {
            "text/plain": [
              "Downloading:   0%|          | 0.00/28.0 [00:00<?, ?B/s]"
            ],
            "application/vnd.jupyter.widget-view+json": {
              "version_major": 2,
              "version_minor": 0,
              "model_id": "d845e36d1b3044138d663676e2add5ae"
            }
          },
          "metadata": {}
        },
        {
          "output_type": "display_data",
          "data": {
            "text/plain": [
              "<IPython.core.display.HTML object>"
            ],
            "text/html": [
              "\n",
              "<style>\n",
              "    /* Turns off some styling */\n",
              "    progress {\n",
              "        /* gets rid of default border in Firefox and Opera. */\n",
              "        border: none;\n",
              "        /* Needs to be in here for Safari polyfill so background images work as expected. */\n",
              "        background-size: auto;\n",
              "    }\n",
              "    .progress-bar-interrupted, .progress-bar-interrupted::-webkit-progress-bar {\n",
              "        background: #F44336;\n",
              "    }\n",
              "</style>\n"
            ]
          },
          "metadata": {}
        },
        {
          "output_type": "display_data",
          "data": {
            "text/plain": [
              "<IPython.core.display.HTML object>"
            ],
            "text/html": [
              ""
            ]
          },
          "metadata": {}
        },
        {
          "output_type": "stream",
          "name": "stdout",
          "text": [
            "Is Multi-Label? False\n",
            "preprocessing train...\n",
            "language: en\n",
            "train sequence lengths:\n",
            "\tmean : 244\n",
            "\t95percentile : 525\n",
            "\t99percentile : 868\n"
          ]
        },
        {
          "output_type": "display_data",
          "data": {
            "text/plain": [
              "<IPython.core.display.HTML object>"
            ],
            "text/html": [
              "\n",
              "<style>\n",
              "    /* Turns off some styling */\n",
              "    progress {\n",
              "        /* gets rid of default border in Firefox and Opera. */\n",
              "        border: none;\n",
              "        /* Needs to be in here for Safari polyfill so background images work as expected. */\n",
              "        background-size: auto;\n",
              "    }\n",
              "    .progress-bar-interrupted, .progress-bar-interrupted::-webkit-progress-bar {\n",
              "        background: #F44336;\n",
              "    }\n",
              "</style>\n"
            ]
          },
          "metadata": {}
        },
        {
          "output_type": "display_data",
          "data": {
            "text/plain": [
              "<IPython.core.display.HTML object>"
            ],
            "text/html": [
              ""
            ]
          },
          "metadata": {}
        },
        {
          "output_type": "stream",
          "name": "stdout",
          "text": [
            "Is Multi-Label? False\n"
          ]
        }
      ],
      "source": [
        "# train data\n",
        "train_data = transformer.preprocess_train(train_input, train_label)\n",
        "validation_data = transformer.preprocess_train(validation_input, validation_label)"
      ]
    },
    {
      "cell_type": "markdown",
      "source": [
        "### Building classifier"
      ],
      "metadata": {
        "id": "oKItO5-7cVI2"
      }
    },
    {
      "cell_type": "code",
      "execution_count": 13,
      "metadata": {
        "id": "Xm1kzcK8W7YT",
        "colab": {
          "base_uri": "https://localhost:8080/",
          "height": 49,
          "referenced_widgets": [
            "ab9ea81450ec47eeaca1dc4d8c41ba43",
            "378f98fead7348c3bde29a4ed43e92a9",
            "a2e2e103bb2b4e9baa4b83eea962c914",
            "14345a889d3e4ddcb081f0d0a84168eb",
            "fa86958b1f1141eb83e6b673dc431cea",
            "821126e0c553475693d685711fe26521",
            "9dbdbecf03824a519abbc4fde5d105a8",
            "8de1846c35ad47c79846e74dadd6ec2c",
            "ff4a4bfa4f4c44bd829b8e909968cfcc",
            "130cfa8d86ba4a87888d63de3a17ab8c",
            "20d4920739a64e1e902eb95ffae3bae9"
          ]
        },
        "outputId": "2337e64f-2cfc-4366-c45d-4e52bd6ea05f"
      },
      "outputs": [
        {
          "output_type": "display_data",
          "data": {
            "text/plain": [
              "Downloading:   0%|          | 0.00/363M [00:00<?, ?B/s]"
            ],
            "application/vnd.jupyter.widget-view+json": {
              "version_major": 2,
              "version_minor": 0,
              "model_id": "ab9ea81450ec47eeaca1dc4d8c41ba43"
            }
          },
          "metadata": {}
        }
      ],
      "source": [
        "transformer_classifier = transformer.get_classifier()"
      ]
    },
    {
      "cell_type": "markdown",
      "source": [
        "### Compiling the model for training"
      ],
      "metadata": {
        "id": "g-mwzqDtcep8"
      }
    },
    {
      "cell_type": "code",
      "execution_count": 14,
      "metadata": {
        "id": "-xPV8X1rXEgq"
      },
      "outputs": [],
      "source": [
        "training_learner = ktrain.get_learner(model = transformer_classifier,\n",
        "                                      train_data = train_data,\n",
        "                                      val_data = validation_data,\n",
        "                                      batch_size = BATCH_SIZE)"
      ]
    },
    {
      "cell_type": "markdown",
      "source": [
        "### Finding an optimal learning rate"
      ],
      "metadata": {
        "id": "58d17_wtcMp3"
      }
    },
    {
      "cell_type": "code",
      "execution_count": 15,
      "metadata": {
        "colab": {
          "base_uri": "https://localhost:8080/",
          "height": 479
        },
        "id": "-_GODw85Xuqm",
        "outputId": "c0934db8-f03b-4ebe-ddcf-a09ee5f8a023"
      },
      "outputs": [
        {
          "output_type": "stream",
          "name": "stdout",
          "text": [
            "simulating training for different learning rates... this may take a few moments...\n",
            "Epoch 1/5\n",
            "589/589 [==============================] - 566s 940ms/step - loss: 0.5260 - accuracy: 0.7228\n",
            "Epoch 2/5\n",
            "589/589 [==============================] - 556s 945ms/step - loss: 0.0445 - accuracy: 0.9917\n",
            "Epoch 3/5\n",
            "589/589 [==============================] - 414s 702ms/step - loss: 0.2168 - accuracy: 0.8714\n",
            "\n",
            "\n",
            "done.\n",
            "Visually inspect loss plot and select learning rate associated with falling loss\n"
          ]
        },
        {
          "output_type": "display_data",
          "data": {
            "text/plain": [
              "<Figure size 432x288 with 1 Axes>"
            ],
            "image/png": "[encoded data removed]"
          },
          "metadata": {
            "needs_background": "light"
          }
        }
      ],
      "source": [
        "training_learner.lr_find(show_plot=True, max_epochs=EPOCHS)"
      ]
    },
    {
      "cell_type": "markdown",
      "source": [
        "### Training"
      ],
      "metadata": {
        "id": "Ye0mU8B4cJk_"
      }
    },
    {
      "cell_type": "code",
      "execution_count": 16,
      "metadata": {
        "id": "pZ9u_00WZ2FF",
        "colab": {
          "base_uri": "https://localhost:8080/"
        },
        "outputId": "b822791a-b540-450e-a60e-a4f263014e1d"
      },
      "outputs": [
        {
          "output_type": "stream",
          "name": "stdout",
          "text": [
            "\n",
            "\n",
            "begin training using onecycle policy with max lr of 0.0001...\n",
            "Epoch 1/5\n",
            "590/590 [==============================] - 622s 1s/step - loss: 0.0794 - accuracy: 0.9756 - val_loss: 0.0169 - val_accuracy: 0.9970\n",
            "Epoch 2/5\n",
            "590/590 [==============================] - 613s 1s/step - loss: 0.0174 - accuracy: 0.9965 - val_loss: 0.0324 - val_accuracy: 0.9929\n",
            "Epoch 3/5\n",
            "590/590 [==============================] - 613s 1s/step - loss: 0.0095 - accuracy: 0.9978 - val_loss: 0.0083 - val_accuracy: 0.9978\n",
            "Epoch 4/5\n",
            "590/590 [==============================] - 612s 1s/step - loss: 0.0074 - accuracy: 0.9987 - val_loss: 0.0034 - val_accuracy: 0.9993\n",
            "Epoch 5/5\n",
            "590/590 [==============================] - 615s 1s/step - loss: 9.1651e-04 - accuracy: 0.9999 - val_loss: 0.0030 - val_accuracy: 0.9993\n"
          ]
        },
        {
          "output_type": "execute_result",
          "data": {
            "text/plain": [
              "<keras.callbacks.History at 0x7f28a22b22d0>"
            ]
          },
          "metadata": {},
          "execution_count": 16
        }
      ],
      "source": [
        "# fit model\n",
        "training_learner.fit_onecycle(lr = 1e-4, epochs=EPOCHS)"
      ]
    },
    {
      "cell_type": "markdown",
      "source": [
        "### Evaluating"
      ],
      "metadata": {
        "id": "hjbnSOzecDRw"
      }
    },
    {
      "cell_type": "code",
      "source": [
        "# prepare test data for evaluations\n",
        "test_data = transformer.preprocess_train(test_input, test_label)"
      ],
      "metadata": {
        "colab": {
          "base_uri": "https://localhost:8080/",
          "height": 142
        },
        "id": "6IYF2TsXetIe",
        "outputId": "ebcd348a-c803-4cc1-bc64-da57b2290942"
      },
      "execution_count": 18,
      "outputs": [
        {
          "output_type": "stream",
          "name": "stdout",
          "text": [
            "preprocessing train...\n",
            "language: en\n",
            "train sequence lengths:\n",
            "\tmean : 232\n",
            "\t95percentile : 517\n",
            "\t99percentile : 794\n"
          ]
        },
        {
          "output_type": "display_data",
          "data": {
            "text/plain": [
              "<IPython.core.display.HTML object>"
            ],
            "text/html": [
              "\n",
              "<style>\n",
              "    /* Turns off some styling */\n",
              "    progress {\n",
              "        /* gets rid of default border in Firefox and Opera. */\n",
              "        border: none;\n",
              "        /* Needs to be in here for Safari polyfill so background images work as expected. */\n",
              "        background-size: auto;\n",
              "    }\n",
              "    .progress-bar-interrupted, .progress-bar-interrupted::-webkit-progress-bar {\n",
              "        background: #F44336;\n",
              "    }\n",
              "</style>\n"
            ]
          },
          "metadata": {}
        },
        {
          "output_type": "display_data",
          "data": {
            "text/plain": [
              "<IPython.core.display.HTML object>"
            ],
            "text/html": [
              ""
            ]
          },
          "metadata": {}
        },
        {
          "output_type": "stream",
          "name": "stdout",
          "text": [
            "Is Multi-Label? False\n"
          ]
        }
      ]
    },
    {
      "cell_type": "code",
      "execution_count": 20,
      "metadata": {
        "id": "koh6xGKsakdo",
        "colab": {
          "base_uri": "https://localhost:8080/"
        },
        "outputId": "c19e4f3c-fd62-4ccd-fc87-b385c00ab2f7"
      },
      "outputs": [
        {
          "output_type": "stream",
          "name": "stdout",
          "text": [
            "              precision    recall  f1-score   support\n",
            "\n",
            "           0       1.00      1.00      1.00       721\n",
            "           1       1.00      1.00      1.00       626\n",
            "\n",
            "    accuracy                           1.00      1347\n",
            "   macro avg       1.00      1.00      1.00      1347\n",
            "weighted avg       1.00      1.00      1.00      1347\n",
            "\n"
          ]
        },
        {
          "output_type": "execute_result",
          "data": {
            "text/plain": [
              "array([[721,   0],\n",
              "       [  1, 625]])"
            ]
          },
          "metadata": {},
          "execution_count": 20
        }
      ],
      "source": [
        "# evaluate model\n",
        "training_learner.validate(val_data=test_data)"
      ]
    },
    {
      "cell_type": "code",
      "source": [
        "# get predictor for predictions\n",
        "predictor = ktrain.get_predictor(training_learner.model, preproc= transformer)"
      ],
      "metadata": {
        "id": "OV7AQ5E3cB0H"
      },
      "execution_count": 21,
      "outputs": []
    },
    {
      "cell_type": "markdown",
      "source": [
        "### Saving model"
      ],
      "metadata": {
        "id": "yzIAfAJtb4tX"
      }
    },
    {
      "cell_type": "code",
      "source": [
        "save_directory = '/content/drive/MyDrive/fake-and-real-news-dataset/training/fake-real-news-predictor'\n",
        "predictor.save(save_directory)"
      ],
      "metadata": {
        "id": "kRBNOMLAdDiw"
      },
      "execution_count": 22,
      "outputs": []
    },
    {
      "cell_type": "markdown",
      "source": [
        "### Misclassified samples"
      ],
      "metadata": {
        "id": "zC9kUZnobsHZ"
      }
    },
    {
      "cell_type": "markdown",
      "source": [
        "- Include some examples of misclassified news articles. Please explain what you might do to improve your model's performance on these news articles in the future (you do not need to impelement these suggestions)"
      ],
      "metadata": {
        "id": "UnGJU5TNYqvX"
      }
    },
    {
      "cell_type": "code",
      "execution_count": 23,
      "metadata": {
        "id": "qeTxApmLa9_f",
        "colab": {
          "base_uri": "https://localhost:8080/"
        },
        "outputId": "f1619295-6b3e-4060-a449-4bbd81a795a9"
      },
      "outputs": [
        {
          "output_type": "stream",
          "name": "stdout",
          "text": [
            "----------\n",
            "id:846 | loss:4.75 | true:real | pred:fake)\n",
            "\n",
            "----------\n",
            "id:1295 | loss:2.42 | true:fake | pred:real)\n",
            "\n"
          ]
        }
      ],
      "source": [
        "# Top 10 misclassified news articles\n",
        "training_learner.view_top_losses(n=10, preproc = transformer)"
      ]
    },
    {
      "cell_type": "markdown",
      "source": [
        "- The model misclassified texts with `ids` `846` and `1295`. "
      ],
      "metadata": {
        "id": "eTv60d6sg8RH"
      }
    },
    {
      "cell_type": "code",
      "source": [
        "# Wrongly predicted texts\n",
        "text_with_id_846 = test_input[846]\n",
        "print(f'Text 1: {text_with_id_846}')\n",
        "\n",
        "print('\\n')\n",
        "\n",
        "text_with_id_1295 = test_input[1295]\n",
        "print(f'Text 2: {text_with_id_1295}')"
      ],
      "metadata": {
        "colab": {
          "base_uri": "https://localhost:8080/"
        },
        "id": "V2m4Vii8hOrb",
        "outputId": "86052fbf-6cab-4fe9-f26b-489cc5b29f17"
      },
      "execution_count": 15,
      "outputs": [
        {
          "output_type": "stream",
          "name": "stdout",
          "text": [
            "Text 1: trump twitter dec tax cut missile defense billie following statements posted verified twitter accounts president donald trump realdonaldtrump pots the opinions expressed reuters edited statements confirmed accuracy realdonaldtrump our big popular tax cut reform bill taken unexpected new source love big companies corporations showing workers bonuses this phenomenon nobody even thought rage merry christmas est at point good country i predict start working democrats bipartisan fashion infrastructure would perfect place start after foolish spent trillion middle east time start rebuilding country est the president accomplished absolutely historic things past thank charlie kirk turning points usa sadly fake mainstream media never talk accomplishments end year reviews we compiling long beautiful list est with administration done legislative approvals broke harry human record regulation cutting judicial appointments building military va tax cuts reform record market much i sure great credit given mainstream news est will signing biggest ever tax cut reform bill minutes oval office will also signing much needed billion dollar missile defense bill est source link politicsnews\n",
            "\n",
            "\n",
            "Text 2: democrat congressman wife of felon threatens paul ryan on twitter over cutting federal funds to kill babies speakerryan women america watching you regret attempt defend planned parenthood https jan schakowsky janschakowsky january wife felon bob dreamer apparently borrowing page husband chicago politics playbook the good news schakowsky wasting time silly rhetoric america spoken radical leftist agenda left found exactly belongs white house trash need simple majority members pass measures planned parenthood legislation would reconciliation bill ryan said reporters press conference asked house pass legislation defend organization i think bill passed make reconciliation part said mark meadows said nothing washington percent i believe high probability happens republicans across spectrum conservatism moderates far right members lined prepared support bill strip planned parenthood federal commitment new capitol hill republicans pushed since defend organization response secretly recorded videos abortion doctors discussing use fetal tissue deceptive edited house republicans passed defending bill bill never got vote senate we used fake news site buzzfeed source part story included schakowsky tweet as disclaimer not consider reliable source news in october james o keep released undercover video exposed democratic operatives working underbelly party coordinate commit violent illegal activities americans order defeat key figures o keep report convicted felon husband jan schakowsky robert dreamer oversaw scheme elaborate employees followed written manual complete detailed instructions float checks totaling millions mark see bob dreamer james o keep asked jan schakowsky felon husband saw tweet how husband bob dreamer https james jamesokeefeiii january turns convicted felon robert dreamer also frequent visitor white house between robert dreamer appears visited white house times times robert dreamer twice bob dreamer he logged times either guest barack obama lovely wife michelle one wonder business michelle criminal mmm here match copying democratic operative robert dreamer lotus pots invite convicted felon rbcreamer oversaw realdonaldtrump rally aviators whitehouse times james jamesokeefeiii october many democrats whose spouses convicted colonies sent prison radical activist congressman jan schakowsky found part husband crimes even though signed false forms used deceive irs executive director illinois public action fund robert dreamer actions led several banks experience shortfall least million authorities evasion resident charged counts bank fraud involving three alleged schemes indictment however alleges wrongdoing part schakowsky served group policy board currently holds similar position citizen that group formed dreamer resigned allegations first worked years illinois public action fund citizens action center consumer rights the groups influential pushing progressive causes campaign finance health care\n"
          ]
        }
      ]
    },
    {
      "cell_type": "markdown",
      "source": [
        "- The first text which is of a political subject is contained in a social domain and could contribute to the model misclassifying it as fake. Possibly, since the model is validated on only 20% of the 30% of the entire dataset, training with entire data could improve learning of similar articles.\n",
        "- Moreover, the second text also contains politically related context, which most definity confuses the model to be `real` instead of `fake`. As mentioned above, leveraging the entire data could contribute greatly to the model learning. "
      ],
      "metadata": {
        "id": "s6TgUvZbZQ4Q"
      }
    },
    {
      "cell_type": "markdown",
      "source": [
        "## Loading model and evaluating"
      ],
      "metadata": {
        "id": "F9Kbddf5bdPF"
      }
    },
    {
      "cell_type": "code",
      "source": [
        "save_directory = '/content/drive/MyDrive/fake-and-real-news-dataset/training/fake-real-news-predictor'\n",
        "# Evaluation with ROC_AUC\n",
        "predictor = ktrain.load_predictor(save_directory)\n",
        "# predict on test data\n",
        "predictions = predictor.predict(test_input, return_proba=True)\n",
        "predicted_labels = np.argmax(predictions, axis = 1)"
      ],
      "metadata": {
        "id": "mwqsaJBCdtFo"
      },
      "execution_count": 9,
      "outputs": []
    },
    {
      "cell_type": "markdown",
      "source": [
        "## AUC-ROC Curve\n",
        "\n",
        "* Finetune your model on the dataset, and generate an AUC curve of your model on the test set of your choice. "
      ],
      "metadata": {
        "id": "CXox4DW1h1ec"
      }
    },
    {
      "cell_type": "code",
      "source": [
        "from sklearn.metrics import roc_auc_score, roc_curve\n",
        "auc = round(roc_auc_score(test_label, predicted_labels), 2)\n",
        "\n",
        "# plotting the roc_curve\n",
        "predicted_probas = predictions[:, 1]\n",
        "false_positive_rate, true_positive_rate, _ = roc_curve(test_label,  predicted_probas)"
      ],
      "metadata": {
        "id": "6o_urc15iBdb"
      },
      "execution_count": 11,
      "outputs": []
    },
    {
      "cell_type": "code",
      "source": [
        "import matplotlib.pyplot as plt"
      ],
      "metadata": {
        "id": "MwvTozfXlrOy"
      },
      "execution_count": 13,
      "outputs": []
    },
    {
      "cell_type": "code",
      "source": [
        "plt.figure(figsize = (10,7))\n",
        "plt.title('Receiver Operating Characteristic - fake-real-news-classifier')\n",
        "plt.plot(false_positive_rate, true_positive_rate, label=\"AUC=\"+str(auc))\n",
        "plt.plot([0, 1], ls=\"--\")\n",
        "plt.plot([0, 0], [1, 0] , c=\".7\")\n",
        "plt.plot([1, 1] , c=\".7\")\n",
        "plt.ylabel('True Positive Rate')\n",
        "plt.xlabel('False Positive Rate')\n",
        "plt.legend(loc=4)\n",
        "plt.show()"
      ],
      "metadata": {
        "colab": {
          "base_uri": "https://localhost:8080/",
          "height": 458
        },
        "id": "lUn6Wb8xljkq",
        "outputId": "e462b693-41b3-4055-9e52-c72918a10e88"
      },
      "execution_count": 14,
      "outputs": [
        {
          "output_type": "display_data",
          "data": {
            "text/plain": [
              "<Figure size 720x504 with 1 Axes>"
            ],
            "image/png": "[encoded data removed]"
          },
          "metadata": {
            "needs_background": "light"
          }
        }
      ]
    },
    {
      "cell_type": "markdown",
      "metadata": {
        "id": "kpInVUMLyJ24"
      },
      "source": [
        "**Write up**: \n",
        "* Link to the model on Hugging Face Hub: [Click here](https://huggingface.co/ikekobby/fake-real-news-classifier) for the model on Hugging Face repo.\n",
        "\n",
        "**Conclusion**:\n",
        "- This coding has personally been helpful and taughtful to me having to read several documentations and articles to `preprocess data`, `prepare data for training`, `build model` and `evaluate model`. I believe that when the opportunity is given to me I shall be challenged to `read more`, `research more`, `implement more papers` while improving my research skills for future doctoral position.\n",
        "\n",
        "**Thank you.**"
      ]
    },
    {
      "cell_type": "code",
      "source": [
        ""
      ],
      "metadata": {
        "id": "A9sIc7Z_4vBH"
      },
      "execution_count": null,
      "outputs": []
    }
  ],
  "metadata": {
    "accelerator": "GPU",
    "colab": {
      "collapsed_sections": [],
      "name": "Isaac_Kobby_Anni_Fatima_Fellowship_.ipynb",
      "provenance": [],
      "include_colab_link": true
    },
    "kernelspec": {
      "display_name": "Python 3",
      "name": "python3"
    },
    "language_info": {
      "codemirror_mode": {
        "name": "ipython",
        "version": 3
      },
      "file_extension": ".py",
      "mimetype": "text/x-python",
      "name": "python",
      "nbconvert_exporter": "python",
      "pygments_lexer": "ipython3",
      "version": "3.9.5"
    },
    "widgets": {
      "application/vnd.jupyter.widget-state+json": {
        "0ff6b0e7199144ff85b3443e420be300": {
          "model_module": "@jupyter-widgets/controls",
          "model_name": "HBoxModel",
          "model_module_version": "1.5.0",
          "state": {
            "_dom_classes": [],
            "_model_module": "@jupyter-widgets/controls",
            "_model_module_version": "1.5.0",
            "_model_name": "HBoxModel",
            "_view_count": null,
            "_view_module": "@jupyter-widgets/controls",
            "_view_module_version": "1.5.0",
            "_view_name": "HBoxView",
            "box_style": "",
            "children": [
              "IPY_MODEL_cb71acc8c5854a6abcb7200feefa8a8d",
              "IPY_MODEL_ff74ca5c6d4c4c6b8e2aee51e49d6072",
              "IPY_MODEL_a4f6ee1495b346ffb09f5f5159e05cbc"
            ],
            "layout": "IPY_MODEL_aaaadb3ee3ee45a0898d1ea926f0ff7a"
          }
        },
        "cb71acc8c5854a6abcb7200feefa8a8d": {
          "model_module": "@jupyter-widgets/controls",
          "model_name": "HTMLModel",
          "model_module_version": "1.5.0",
          "state": {
            "_dom_classes": [],
            "_model_module": "@jupyter-widgets/controls",
            "_model_module_version": "1.5.0",
            "_model_name": "HTMLModel",
            "_view_count": null,
            "_view_module": "@jupyter-widgets/controls",
            "_view_module_version": "1.5.0",
            "_view_name": "HTMLView",
            "description": "",
            "description_tooltip": null,
            "layout": "IPY_MODEL_e2d592544a8142cf859d17e51fe13441",
            "placeholder": "​",
            "style": "IPY_MODEL_f7021446e5ca41a1b3a1813af0d1ae1c",
            "value": "Downloading: 100%"
          }
        },
        "ff74ca5c6d4c4c6b8e2aee51e49d6072": {
          "model_module": "@jupyter-widgets/controls",
          "model_name": "FloatProgressModel",
          "model_module_version": "1.5.0",
          "state": {
            "_dom_classes": [],
            "_model_module": "@jupyter-widgets/controls",
            "_model_module_version": "1.5.0",
            "_model_name": "FloatProgressModel",
            "_view_count": null,
            "_view_module": "@jupyter-widgets/controls",
            "_view_module_version": "1.5.0",
            "_view_name": "ProgressView",
            "bar_style": "success",
            "description": "",
            "description_tooltip": null,
            "layout": "IPY_MODEL_99704611b5e94997af81a589335e6954",
            "max": 483,
            "min": 0,
            "orientation": "horizontal",
            "style": "IPY_MODEL_1862648076834d4baf8189c34502dd79",
            "value": 483
          }
        },
        "a4f6ee1495b346ffb09f5f5159e05cbc": {
          "model_module": "@jupyter-widgets/controls",
          "model_name": "HTMLModel",
          "model_module_version": "1.5.0",
          "state": {
            "_dom_classes": [],
            "_model_module": "@jupyter-widgets/controls",
            "_model_module_version": "1.5.0",
            "_model_name": "HTMLModel",
            "_view_count": null,
            "_view_module": "@jupyter-widgets/controls",
            "_view_module_version": "1.5.0",
            "_view_name": "HTMLView",
            "description": "",
            "description_tooltip": null,
            "layout": "IPY_MODEL_cb28a958ffd54a82ac284fd0f196d804",
            "placeholder": "​",
            "style": "IPY_MODEL_cdaef1cfcb4747e39814197973f6c975",
            "value": " 483/483 [00:00&lt;00:00, 4.94kB/s]"
          }
        },
        "aaaadb3ee3ee45a0898d1ea926f0ff7a": {
          "model_module": "@jupyter-widgets/base",
          "model_name": "LayoutModel",
          "model_module_version": "1.2.0",
          "state": {
            "_model_module": "@jupyter-widgets/base",
            "_model_module_version": "1.2.0",
            "_model_name": "LayoutModel",
            "_view_count": null,
            "_view_module": "@jupyter-widgets/base",
            "_view_module_version": "1.2.0",
            "_view_name": "LayoutView",
            "align_content": null,
            "align_items": null,
            "align_self": null,
            "border": null,
            "bottom": null,
            "display": null,
            "flex": null,
            "flex_flow": null,
            "grid_area": null,
            "grid_auto_columns": null,
            "grid_auto_flow": null,
            "grid_auto_rows": null,
            "grid_column": null,
            "grid_gap": null,
            "grid_row": null,
            "grid_template_areas": null,
            "grid_template_columns": null,
            "grid_template_rows": null,
            "height": null,
            "justify_content": null,
            "justify_items": null,
            "left": null,
            "margin": null,
            "max_height": null,
            "max_width": null,
            "min_height": null,
            "min_width": null,
            "object_fit": null,
            "object_position": null,
            "order": null,
            "overflow": null,
            "overflow_x": null,
            "overflow_y": null,
            "padding": null,
            "right": null,
            "top": null,
            "visibility": null,
            "width": null
          }
        },
        "e2d592544a8142cf859d17e51fe13441": {
          "model_module": "@jupyter-widgets/base",
          "model_name": "LayoutModel",
          "model_module_version": "1.2.0",
          "state": {
            "_model_module": "@jupyter-widgets/base",
            "_model_module_version": "1.2.0",
            "_model_name": "LayoutModel",
            "_view_count": null,
            "_view_module": "@jupyter-widgets/base",
            "_view_module_version": "1.2.0",
            "_view_name": "LayoutView",
            "align_content": null,
            "align_items": null,
            "align_self": null,
            "border": null,
            "bottom": null,
            "display": null,
            "flex": null,
            "flex_flow": null,
            "grid_area": null,
            "grid_auto_columns": null,
            "grid_auto_flow": null,
            "grid_auto_rows": null,
            "grid_column": null,
            "grid_gap": null,
            "grid_row": null,
            "grid_template_areas": null,
            "grid_template_columns": null,
            "grid_template_rows": null,
            "height": null,
            "justify_content": null,
            "justify_items": null,
            "left": null,
            "margin": null,
            "max_height": null,
            "max_width": null,
            "min_height": null,
            "min_width": null,
            "object_fit": null,
            "object_position": null,
            "order": null,
            "overflow": null,
            "overflow_x": null,
            "overflow_y": null,
            "padding": null,
            "right": null,
            "top": null,
            "visibility": null,
            "width": null
          }
        },
        "f7021446e5ca41a1b3a1813af0d1ae1c": {
          "model_module": "@jupyter-widgets/controls",
          "model_name": "DescriptionStyleModel",
          "model_module_version": "1.5.0",
          "state": {
            "_model_module": "@jupyter-widgets/controls",
            "_model_module_version": "1.5.0",
            "_model_name": "DescriptionStyleModel",
            "_view_count": null,
            "_view_module": "@jupyter-widgets/base",
            "_view_module_version": "1.2.0",
            "_view_name": "StyleView",
            "description_width": ""
          }
        },
        "99704611b5e94997af81a589335e6954": {
          "model_module": "@jupyter-widgets/base",
          "model_name": "LayoutModel",
          "model_module_version": "1.2.0",
          "state": {
            "_model_module": "@jupyter-widgets/base",
            "_model_module_version": "1.2.0",
            "_model_name": "LayoutModel",
            "_view_count": null,
            "_view_module": "@jupyter-widgets/base",
            "_view_module_version": "1.2.0",
            "_view_name": "LayoutView",
            "align_content": null,
            "align_items": null,
            "align_self": null,
            "border": null,
            "bottom": null,
            "display": null,
            "flex": null,
            "flex_flow": null,
            "grid_area": null,
            "grid_auto_columns": null,
            "grid_auto_flow": null,
            "grid_auto_rows": null,
            "grid_column": null,
            "grid_gap": null,
            "grid_row": null,
            "grid_template_areas": null,
            "grid_template_columns": null,
            "grid_template_rows": null,
            "height": null,
            "justify_content": null,
            "justify_items": null,
            "left": null,
            "margin": null,
            "max_height": null,
            "max_width": null,
            "min_height": null,
            "min_width": null,
            "object_fit": null,
            "object_position": null,
            "order": null,
            "overflow": null,
            "overflow_x": null,
            "overflow_y": null,
            "padding": null,
            "right": null,
            "top": null,
            "visibility": null,
            "width": null
          }
        },
        "1862648076834d4baf8189c34502dd79": {
          "model_module": "@jupyter-widgets/controls",
          "model_name": "ProgressStyleModel",
          "model_module_version": "1.5.0",
          "state": {
            "_model_module": "@jupyter-widgets/controls",
            "_model_module_version": "1.5.0",
            "_model_name": "ProgressStyleModel",
            "_view_count": null,
            "_view_module": "@jupyter-widgets/base",
            "_view_module_version": "1.2.0",
            "_view_name": "StyleView",
            "bar_color": null,
            "description_width": ""
          }
        },
        "cb28a958ffd54a82ac284fd0f196d804": {
          "model_module": "@jupyter-widgets/base",
          "model_name": "LayoutModel",
          "model_module_version": "1.2.0",
          "state": {
            "_model_module": "@jupyter-widgets/base",
            "_model_module_version": "1.2.0",
            "_model_name": "LayoutModel",
            "_view_count": null,
            "_view_module": "@jupyter-widgets/base",
            "_view_module_version": "1.2.0",
            "_view_name": "LayoutView",
            "align_content": null,
            "align_items": null,
            "align_self": null,
            "border": null,
            "bottom": null,
            "display": null,
            "flex": null,
            "flex_flow": null,
            "grid_area": null,
            "grid_auto_columns": null,
            "grid_auto_flow": null,
            "grid_auto_rows": null,
            "grid_column": null,
            "grid_gap": null,
            "grid_row": null,
            "grid_template_areas": null,
            "grid_template_columns": null,
            "grid_template_rows": null,
            "height": null,
            "justify_content": null,
            "justify_items": null,
            "left": null,
            "margin": null,
            "max_height": null,
            "max_width": null,
            "min_height": null,
            "min_width": null,
            "object_fit": null,
            "object_position": null,
            "order": null,
            "overflow": null,
            "overflow_x": null,
            "overflow_y": null,
            "padding": null,
            "right": null,
            "top": null,
            "visibility": null,
            "width": null
          }
        },
        "cdaef1cfcb4747e39814197973f6c975": {
          "model_module": "@jupyter-widgets/controls",
          "model_name": "DescriptionStyleModel",
          "model_module_version": "1.5.0",
          "state": {
            "_model_module": "@jupyter-widgets/controls",
            "_model_module_version": "1.5.0",
            "_model_name": "DescriptionStyleModel",
            "_view_count": null,
            "_view_module": "@jupyter-widgets/base",
            "_view_module_version": "1.2.0",
            "_view_name": "StyleView",
            "description_width": ""
          }
        },
        "d3f330d73e2e410b8bfa308aa44a2a55": {
          "model_module": "@jupyter-widgets/controls",
          "model_name": "HBoxModel",
          "model_module_version": "1.5.0",
          "state": {
            "_dom_classes": [],
            "_model_module": "@jupyter-widgets/controls",
            "_model_module_version": "1.5.0",
            "_model_name": "HBoxModel",
            "_view_count": null,
            "_view_module": "@jupyter-widgets/controls",
            "_view_module_version": "1.5.0",
            "_view_name": "HBoxView",
            "box_style": "",
            "children": [
              "IPY_MODEL_1f665c2ef1af4530833e407cc722ce46",
              "IPY_MODEL_ab269ed62d124d4e93f1e611a48a1dcb",
              "IPY_MODEL_b77bc0a1cf6446b39aee2d91c4907714"
            ],
            "layout": "IPY_MODEL_8de3403e75ed47968203881236b83655"
          }
        },
        "1f665c2ef1af4530833e407cc722ce46": {
          "model_module": "@jupyter-widgets/controls",
          "model_name": "HTMLModel",
          "model_module_version": "1.5.0",
          "state": {
            "_dom_classes": [],
            "_model_module": "@jupyter-widgets/controls",
            "_model_module_version": "1.5.0",
            "_model_name": "HTMLModel",
            "_view_count": null,
            "_view_module": "@jupyter-widgets/controls",
            "_view_module_version": "1.5.0",
            "_view_name": "HTMLView",
            "description": "",
            "description_tooltip": null,
            "layout": "IPY_MODEL_6cef1cea2a4549aa9b0ce3de1f05bf74",
            "placeholder": "​",
            "style": "IPY_MODEL_70d595865f8c431795a320d7b47c1922",
            "value": "Downloading: 100%"
          }
        },
        "ab269ed62d124d4e93f1e611a48a1dcb": {
          "model_module": "@jupyter-widgets/controls",
          "model_name": "FloatProgressModel",
          "model_module_version": "1.5.0",
          "state": {
            "_dom_classes": [],
            "_model_module": "@jupyter-widgets/controls",
            "_model_module_version": "1.5.0",
            "_model_name": "FloatProgressModel",
            "_view_count": null,
            "_view_module": "@jupyter-widgets/controls",
            "_view_module_version": "1.5.0",
            "_view_name": "ProgressView",
            "bar_style": "success",
            "description": "",
            "description_tooltip": null,
            "layout": "IPY_MODEL_6ae7b7531fad4a8cb394c3e819b17853",
            "max": 231508,
            "min": 0,
            "orientation": "horizontal",
            "style": "IPY_MODEL_b14b2a6e31be495c86d0be8a161cac66",
            "value": 231508
          }
        },
        "b77bc0a1cf6446b39aee2d91c4907714": {
          "model_module": "@jupyter-widgets/controls",
          "model_name": "HTMLModel",
          "model_module_version": "1.5.0",
          "state": {
            "_dom_classes": [],
            "_model_module": "@jupyter-widgets/controls",
            "_model_module_version": "1.5.0",
            "_model_name": "HTMLModel",
            "_view_count": null,
            "_view_module": "@jupyter-widgets/controls",
            "_view_module_version": "1.5.0",
            "_view_name": "HTMLView",
            "description": "",
            "description_tooltip": null,
            "layout": "IPY_MODEL_0a8db14eda434d6685205fbefa159957",
            "placeholder": "​",
            "style": "IPY_MODEL_3e98e1ca41cb4f7d807726abbdfa94a3",
            "value": " 232k/232k [00:00&lt;00:00, 901kB/s]"
          }
        },
        "8de3403e75ed47968203881236b83655": {
          "model_module": "@jupyter-widgets/base",
          "model_name": "LayoutModel",
          "model_module_version": "1.2.0",
          "state": {
            "_model_module": "@jupyter-widgets/base",
            "_model_module_version": "1.2.0",
            "_model_name": "LayoutModel",
            "_view_count": null,
            "_view_module": "@jupyter-widgets/base",
            "_view_module_version": "1.2.0",
            "_view_name": "LayoutView",
            "align_content": null,
            "align_items": null,
            "align_self": null,
            "border": null,
            "bottom": null,
            "display": null,
            "flex": null,
            "flex_flow": null,
            "grid_area": null,
            "grid_auto_columns": null,
            "grid_auto_flow": null,
            "grid_auto_rows": null,
            "grid_column": null,
            "grid_gap": null,
            "grid_row": null,
            "grid_template_areas": null,
            "grid_template_columns": null,
            "grid_template_rows": null,
            "height": null,
            "justify_content": null,
            "justify_items": null,
            "left": null,
            "margin": null,
            "max_height": null,
            "max_width": null,
            "min_height": null,
            "min_width": null,
            "object_fit": null,
            "object_position": null,
            "order": null,
            "overflow": null,
            "overflow_x": null,
            "overflow_y": null,
            "padding": null,
            "right": null,
            "top": null,
            "visibility": null,
            "width": null
          }
        },
        "6cef1cea2a4549aa9b0ce3de1f05bf74": {
          "model_module": "@jupyter-widgets/base",
          "model_name": "LayoutModel",
          "model_module_version": "1.2.0",
          "state": {
            "_model_module": "@jupyter-widgets/base",
            "_model_module_version": "1.2.0",
            "_model_name": "LayoutModel",
            "_view_count": null,
            "_view_module": "@jupyter-widgets/base",
            "_view_module_version": "1.2.0",
            "_view_name": "LayoutView",
            "align_content": null,
            "align_items": null,
            "align_self": null,
            "border": null,
            "bottom": null,
            "display": null,
            "flex": null,
            "flex_flow": null,
            "grid_area": null,
            "grid_auto_columns": null,
            "grid_auto_flow": null,
            "grid_auto_rows": null,
            "grid_column": null,
            "grid_gap": null,
            "grid_row": null,
            "grid_template_areas": null,
            "grid_template_columns": null,
            "grid_template_rows": null,
            "height": null,
            "justify_content": null,
            "justify_items": null,
            "left": null,
            "margin": null,
            "max_height": null,
            "max_width": null,
            "min_height": null,
            "min_width": null,
            "object_fit": null,
            "object_position": null,
            "order": null,
            "overflow": null,
            "overflow_x": null,
            "overflow_y": null,
            "padding": null,
            "right": null,
            "top": null,
            "visibility": null,
            "width": null
          }
        },
        "70d595865f8c431795a320d7b47c1922": {
          "model_module": "@jupyter-widgets/controls",
          "model_name": "DescriptionStyleModel",
          "model_module_version": "1.5.0",
          "state": {
            "_model_module": "@jupyter-widgets/controls",
            "_model_module_version": "1.5.0",
            "_model_name": "DescriptionStyleModel",
            "_view_count": null,
            "_view_module": "@jupyter-widgets/base",
            "_view_module_version": "1.2.0",
            "_view_name": "StyleView",
            "description_width": ""
          }
        },
        "6ae7b7531fad4a8cb394c3e819b17853": {
          "model_module": "@jupyter-widgets/base",
          "model_name": "LayoutModel",
          "model_module_version": "1.2.0",
          "state": {
            "_model_module": "@jupyter-widgets/base",
            "_model_module_version": "1.2.0",
            "_model_name": "LayoutModel",
            "_view_count": null,
            "_view_module": "@jupyter-widgets/base",
            "_view_module_version": "1.2.0",
            "_view_name": "LayoutView",
            "align_content": null,
            "align_items": null,
            "align_self": null,
            "border": null,
            "bottom": null,
            "display": null,
            "flex": null,
            "flex_flow": null,
            "grid_area": null,
            "grid_auto_columns": null,
            "grid_auto_flow": null,
            "grid_auto_rows": null,
            "grid_column": null,
            "grid_gap": null,
            "grid_row": null,
            "grid_template_areas": null,
            "grid_template_columns": null,
            "grid_template_rows": null,
            "height": null,
            "justify_content": null,
            "justify_items": null,
            "left": null,
            "margin": null,
            "max_height": null,
            "max_width": null,
            "min_height": null,
            "min_width": null,
            "object_fit": null,
            "object_position": null,
            "order": null,
            "overflow": null,
            "overflow_x": null,
            "overflow_y": null,
            "padding": null,
            "right": null,
            "top": null,
            "visibility": null,
            "width": null
          }
        },
        "b14b2a6e31be495c86d0be8a161cac66": {
          "model_module": "@jupyter-widgets/controls",
          "model_name": "ProgressStyleModel",
          "model_module_version": "1.5.0",
          "state": {
            "_model_module": "@jupyter-widgets/controls",
            "_model_module_version": "1.5.0",
            "_model_name": "ProgressStyleModel",
            "_view_count": null,
            "_view_module": "@jupyter-widgets/base",
            "_view_module_version": "1.2.0",
            "_view_name": "StyleView",
            "bar_color": null,
            "description_width": ""
          }
        },
        "0a8db14eda434d6685205fbefa159957": {
          "model_module": "@jupyter-widgets/base",
          "model_name": "LayoutModel",
          "model_module_version": "1.2.0",
          "state": {
            "_model_module": "@jupyter-widgets/base",
            "_model_module_version": "1.2.0",
            "_model_name": "LayoutModel",
            "_view_count": null,
            "_view_module": "@jupyter-widgets/base",
            "_view_module_version": "1.2.0",
            "_view_name": "LayoutView",
            "align_content": null,
            "align_items": null,
            "align_self": null,
            "border": null,
            "bottom": null,
            "display": null,
            "flex": null,
            "flex_flow": null,
            "grid_area": null,
            "grid_auto_columns": null,
            "grid_auto_flow": null,
            "grid_auto_rows": null,
            "grid_column": null,
            "grid_gap": null,
            "grid_row": null,
            "grid_template_areas": null,
            "grid_template_columns": null,
            "grid_template_rows": null,
            "height": null,
            "justify_content": null,
            "justify_items": null,
            "left": null,
            "margin": null,
            "max_height": null,
            "max_width": null,
            "min_height": null,
            "min_width": null,
            "object_fit": null,
            "object_position": null,
            "order": null,
            "overflow": null,
            "overflow_x": null,
            "overflow_y": null,
            "padding": null,
            "right": null,
            "top": null,
            "visibility": null,
            "width": null
          }
        },
        "3e98e1ca41cb4f7d807726abbdfa94a3": {
          "model_module": "@jupyter-widgets/controls",
          "model_name": "DescriptionStyleModel",
          "model_module_version": "1.5.0",
          "state": {
            "_model_module": "@jupyter-widgets/controls",
            "_model_module_version": "1.5.0",
            "_model_name": "DescriptionStyleModel",
            "_view_count": null,
            "_view_module": "@jupyter-widgets/base",
            "_view_module_version": "1.2.0",
            "_view_name": "StyleView",
            "description_width": ""
          }
        },
        "826cf6aaab034932a4de4c6593c9d99c": {
          "model_module": "@jupyter-widgets/controls",
          "model_name": "HBoxModel",
          "model_module_version": "1.5.0",
          "state": {
            "_dom_classes": [],
            "_model_module": "@jupyter-widgets/controls",
            "_model_module_version": "1.5.0",
            "_model_name": "HBoxModel",
            "_view_count": null,
            "_view_module": "@jupyter-widgets/controls",
            "_view_module_version": "1.5.0",
            "_view_name": "HBoxView",
            "box_style": "",
            "children": [
              "IPY_MODEL_a74f75978daa4358a0868f879b90990b",
              "IPY_MODEL_ce18db03843f4bfba9690ba2a98aeabf",
              "IPY_MODEL_df98bf99aaa94220a81cec7ccf63d04e"
            ],
            "layout": "IPY_MODEL_2486682628094105a4b9485a14d97d3e"
          }
        },
        "a74f75978daa4358a0868f879b90990b": {
          "model_module": "@jupyter-widgets/controls",
          "model_name": "HTMLModel",
          "model_module_version": "1.5.0",
          "state": {
            "_dom_classes": [],
            "_model_module": "@jupyter-widgets/controls",
            "_model_module_version": "1.5.0",
            "_model_name": "HTMLModel",
            "_view_count": null,
            "_view_module": "@jupyter-widgets/controls",
            "_view_module_version": "1.5.0",
            "_view_name": "HTMLView",
            "description": "",
            "description_tooltip": null,
            "layout": "IPY_MODEL_b4445b5cf28c41a9a92208efb016e18d",
            "placeholder": "​",
            "style": "IPY_MODEL_06df1398814d49f88480fbc197e275b3",
            "value": "Downloading: 100%"
          }
        },
        "ce18db03843f4bfba9690ba2a98aeabf": {
          "model_module": "@jupyter-widgets/controls",
          "model_name": "FloatProgressModel",
          "model_module_version": "1.5.0",
          "state": {
            "_dom_classes": [],
            "_model_module": "@jupyter-widgets/controls",
            "_model_module_version": "1.5.0",
            "_model_name": "FloatProgressModel",
            "_view_count": null,
            "_view_module": "@jupyter-widgets/controls",
            "_view_module_version": "1.5.0",
            "_view_name": "ProgressView",
            "bar_style": "success",
            "description": "",
            "description_tooltip": null,
            "layout": "IPY_MODEL_b5ad3a15b75545b3b9a7f9fdcf6c2e43",
            "max": 466062,
            "min": 0,
            "orientation": "horizontal",
            "style": "IPY_MODEL_66ce9a649b794f33a7cf835126001917",
            "value": 466062
          }
        },
        "df98bf99aaa94220a81cec7ccf63d04e": {
          "model_module": "@jupyter-widgets/controls",
          "model_name": "HTMLModel",
          "model_module_version": "1.5.0",
          "state": {
            "_dom_classes": [],
            "_model_module": "@jupyter-widgets/controls",
            "_model_module_version": "1.5.0",
            "_model_name": "HTMLModel",
            "_view_count": null,
            "_view_module": "@jupyter-widgets/controls",
            "_view_module_version": "1.5.0",
            "_view_name": "HTMLView",
            "description": "",
            "description_tooltip": null,
            "layout": "IPY_MODEL_386b9a9235784ac4897abed6802088be",
            "placeholder": "​",
            "style": "IPY_MODEL_8de5671364b44a23a5fd3ad929fdc521",
            "value": " 466k/466k [00:00&lt;00:00, 821kB/s]"
          }
        },
        "2486682628094105a4b9485a14d97d3e": {
          "model_module": "@jupyter-widgets/base",
          "model_name": "LayoutModel",
          "model_module_version": "1.2.0",
          "state": {
            "_model_module": "@jupyter-widgets/base",
            "_model_module_version": "1.2.0",
            "_model_name": "LayoutModel",
            "_view_count": null,
            "_view_module": "@jupyter-widgets/base",
            "_view_module_version": "1.2.0",
            "_view_name": "LayoutView",
            "align_content": null,
            "align_items": null,
            "align_self": null,
            "border": null,
            "bottom": null,
            "display": null,
            "flex": null,
            "flex_flow": null,
            "grid_area": null,
            "grid_auto_columns": null,
            "grid_auto_flow": null,
            "grid_auto_rows": null,
            "grid_column": null,
            "grid_gap": null,
            "grid_row": null,
            "grid_template_areas": null,
            "grid_template_columns": null,
            "grid_template_rows": null,
            "height": null,
            "justify_content": null,
            "justify_items": null,
            "left": null,
            "margin": null,
            "max_height": null,
            "max_width": null,
            "min_height": null,
            "min_width": null,
            "object_fit": null,
            "object_position": null,
            "order": null,
            "overflow": null,
            "overflow_x": null,
            "overflow_y": null,
            "padding": null,
            "right": null,
            "top": null,
            "visibility": null,
            "width": null
          }
        },
        "b4445b5cf28c41a9a92208efb016e18d": {
          "model_module": "@jupyter-widgets/base",
          "model_name": "LayoutModel",
          "model_module_version": "1.2.0",
          "state": {
            "_model_module": "@jupyter-widgets/base",
            "_model_module_version": "1.2.0",
            "_model_name": "LayoutModel",
            "_view_count": null,
            "_view_module": "@jupyter-widgets/base",
            "_view_module_version": "1.2.0",
            "_view_name": "LayoutView",
            "align_content": null,
            "align_items": null,
            "align_self": null,
            "border": null,
            "bottom": null,
            "display": null,
            "flex": null,
            "flex_flow": null,
            "grid_area": null,
            "grid_auto_columns": null,
            "grid_auto_flow": null,
            "grid_auto_rows": null,
            "grid_column": null,
            "grid_gap": null,
            "grid_row": null,
            "grid_template_areas": null,
            "grid_template_columns": null,
            "grid_template_rows": null,
            "height": null,
            "justify_content": null,
            "justify_items": null,
            "left": null,
            "margin": null,
            "max_height": null,
            "max_width": null,
            "min_height": null,
            "min_width": null,
            "object_fit": null,
            "object_position": null,
            "order": null,
            "overflow": null,
            "overflow_x": null,
            "overflow_y": null,
            "padding": null,
            "right": null,
            "top": null,
            "visibility": null,
            "width": null
          }
        },
        "06df1398814d49f88480fbc197e275b3": {
          "model_module": "@jupyter-widgets/controls",
          "model_name": "DescriptionStyleModel",
          "model_module_version": "1.5.0",
          "state": {
            "_model_module": "@jupyter-widgets/controls",
            "_model_module_version": "1.5.0",
            "_model_name": "DescriptionStyleModel",
            "_view_count": null,
            "_view_module": "@jupyter-widgets/base",
            "_view_module_version": "1.2.0",
            "_view_name": "StyleView",
            "description_width": ""
          }
        },
        "b5ad3a15b75545b3b9a7f9fdcf6c2e43": {
          "model_module": "@jupyter-widgets/base",
          "model_name": "LayoutModel",
          "model_module_version": "1.2.0",
          "state": {
            "_model_module": "@jupyter-widgets/base",
            "_model_module_version": "1.2.0",
            "_model_name": "LayoutModel",
            "_view_count": null,
            "_view_module": "@jupyter-widgets/base",
            "_view_module_version": "1.2.0",
            "_view_name": "LayoutView",
            "align_content": null,
            "align_items": null,
            "align_self": null,
            "border": null,
            "bottom": null,
            "display": null,
            "flex": null,
            "flex_flow": null,
            "grid_area": null,
            "grid_auto_columns": null,
            "grid_auto_flow": null,
            "grid_auto_rows": null,
            "grid_column": null,
            "grid_gap": null,
            "grid_row": null,
            "grid_template_areas": null,
            "grid_template_columns": null,
            "grid_template_rows": null,
            "height": null,
            "justify_content": null,
            "justify_items": null,
            "left": null,
            "margin": null,
            "max_height": null,
            "max_width": null,
            "min_height": null,
            "min_width": null,
            "object_fit": null,
            "object_position": null,
            "order": null,
            "overflow": null,
            "overflow_x": null,
            "overflow_y": null,
            "padding": null,
            "right": null,
            "top": null,
            "visibility": null,
            "width": null
          }
        },
        "66ce9a649b794f33a7cf835126001917": {
          "model_module": "@jupyter-widgets/controls",
          "model_name": "ProgressStyleModel",
          "model_module_version": "1.5.0",
          "state": {
            "_model_module": "@jupyter-widgets/controls",
            "_model_module_version": "1.5.0",
            "_model_name": "ProgressStyleModel",
            "_view_count": null,
            "_view_module": "@jupyter-widgets/base",
            "_view_module_version": "1.2.0",
            "_view_name": "StyleView",
            "bar_color": null,
            "description_width": ""
          }
        },
        "386b9a9235784ac4897abed6802088be": {
          "model_module": "@jupyter-widgets/base",
          "model_name": "LayoutModel",
          "model_module_version": "1.2.0",
          "state": {
            "_model_module": "@jupyter-widgets/base",
            "_model_module_version": "1.2.0",
            "_model_name": "LayoutModel",
            "_view_count": null,
            "_view_module": "@jupyter-widgets/base",
            "_view_module_version": "1.2.0",
            "_view_name": "LayoutView",
            "align_content": null,
            "align_items": null,
            "align_self": null,
            "border": null,
            "bottom": null,
            "display": null,
            "flex": null,
            "flex_flow": null,
            "grid_area": null,
            "grid_auto_columns": null,
            "grid_auto_flow": null,
            "grid_auto_rows": null,
            "grid_column": null,
            "grid_gap": null,
            "grid_row": null,
            "grid_template_areas": null,
            "grid_template_columns": null,
            "grid_template_rows": null,
            "height": null,
            "justify_content": null,
            "justify_items": null,
            "left": null,
            "margin": null,
            "max_height": null,
            "max_width": null,
            "min_height": null,
            "min_width": null,
            "object_fit": null,
            "object_position": null,
            "order": null,
            "overflow": null,
            "overflow_x": null,
            "overflow_y": null,
            "padding": null,
            "right": null,
            "top": null,
            "visibility": null,
            "width": null
          }
        },
        "8de5671364b44a23a5fd3ad929fdc521": {
          "model_module": "@jupyter-widgets/controls",
          "model_name": "DescriptionStyleModel",
          "model_module_version": "1.5.0",
          "state": {
            "_model_module": "@jupyter-widgets/controls",
            "_model_module_version": "1.5.0",
            "_model_name": "DescriptionStyleModel",
            "_view_count": null,
            "_view_module": "@jupyter-widgets/base",
            "_view_module_version": "1.2.0",
            "_view_name": "StyleView",
            "description_width": ""
          }
        },
        "d845e36d1b3044138d663676e2add5ae": {
          "model_module": "@jupyter-widgets/controls",
          "model_name": "HBoxModel",
          "model_module_version": "1.5.0",
          "state": {
            "_dom_classes": [],
            "_model_module": "@jupyter-widgets/controls",
            "_model_module_version": "1.5.0",
            "_model_name": "HBoxModel",
            "_view_count": null,
            "_view_module": "@jupyter-widgets/controls",
            "_view_module_version": "1.5.0",
            "_view_name": "HBoxView",
            "box_style": "",
            "children": [
              "IPY_MODEL_425885fe79d34ec385776e3037d4bcd7",
              "IPY_MODEL_834b6d403ac54df7a1e1c7210e6dbeb9",
              "IPY_MODEL_41d437d4146b45be88ec4d0e47d76833"
            ],
            "layout": "IPY_MODEL_e809c4625d9f4c0ea7bef33a41eb42d9"
          }
        },
        "425885fe79d34ec385776e3037d4bcd7": {
          "model_module": "@jupyter-widgets/controls",
          "model_name": "HTMLModel",
          "model_module_version": "1.5.0",
          "state": {
            "_dom_classes": [],
            "_model_module": "@jupyter-widgets/controls",
            "_model_module_version": "1.5.0",
            "_model_name": "HTMLModel",
            "_view_count": null,
            "_view_module": "@jupyter-widgets/controls",
            "_view_module_version": "1.5.0",
            "_view_name": "HTMLView",
            "description": "",
            "description_tooltip": null,
            "layout": "IPY_MODEL_825e94888c3740b3a21420d82cbcfe85",
            "placeholder": "​",
            "style": "IPY_MODEL_7573f1f1816a4f9c96b70856896faaf8",
            "value": "Downloading: 100%"
          }
        },
        "834b6d403ac54df7a1e1c7210e6dbeb9": {
          "model_module": "@jupyter-widgets/controls",
          "model_name": "FloatProgressModel",
          "model_module_version": "1.5.0",
          "state": {
            "_dom_classes": [],
            "_model_module": "@jupyter-widgets/controls",
            "_model_module_version": "1.5.0",
            "_model_name": "FloatProgressModel",
            "_view_count": null,
            "_view_module": "@jupyter-widgets/controls",
            "_view_module_version": "1.5.0",
            "_view_name": "ProgressView",
            "bar_style": "success",
            "description": "",
            "description_tooltip": null,
            "layout": "IPY_MODEL_cb4830c72b7a402682701ac2fbee1477",
            "max": 28,
            "min": 0,
            "orientation": "horizontal",
            "style": "IPY_MODEL_c4a3cb86d87e4819950b1ca2dc89dbe2",
            "value": 28
          }
        },
        "41d437d4146b45be88ec4d0e47d76833": {
          "model_module": "@jupyter-widgets/controls",
          "model_name": "HTMLModel",
          "model_module_version": "1.5.0",
          "state": {
            "_dom_classes": [],
            "_model_module": "@jupyter-widgets/controls",
            "_model_module_version": "1.5.0",
            "_model_name": "HTMLModel",
            "_view_count": null,
            "_view_module": "@jupyter-widgets/controls",
            "_view_module_version": "1.5.0",
            "_view_name": "HTMLView",
            "description": "",
            "description_tooltip": null,
            "layout": "IPY_MODEL_4d9e0ef420004379969aaf20f7108510",
            "placeholder": "​",
            "style": "IPY_MODEL_d5240db62e3648c9bf004e2021100065",
            "value": " 28.0/28.0 [00:00&lt;00:00, 835B/s]"
          }
        },
        "e809c4625d9f4c0ea7bef33a41eb42d9": {
          "model_module": "@jupyter-widgets/base",
          "model_name": "LayoutModel",
          "model_module_version": "1.2.0",
          "state": {
            "_model_module": "@jupyter-widgets/base",
            "_model_module_version": "1.2.0",
            "_model_name": "LayoutModel",
            "_view_count": null,
            "_view_module": "@jupyter-widgets/base",
            "_view_module_version": "1.2.0",
            "_view_name": "LayoutView",
            "align_content": null,
            "align_items": null,
            "align_self": null,
            "border": null,
            "bottom": null,
            "display": null,
            "flex": null,
            "flex_flow": null,
            "grid_area": null,
            "grid_auto_columns": null,
            "grid_auto_flow": null,
            "grid_auto_rows": null,
            "grid_column": null,
            "grid_gap": null,
            "grid_row": null,
            "grid_template_areas": null,
            "grid_template_columns": null,
            "grid_template_rows": null,
            "height": null,
            "justify_content": null,
            "justify_items": null,
            "left": null,
            "margin": null,
            "max_height": null,
            "max_width": null,
            "min_height": null,
            "min_width": null,
            "object_fit": null,
            "object_position": null,
            "order": null,
            "overflow": null,
            "overflow_x": null,
            "overflow_y": null,
            "padding": null,
            "right": null,
            "top": null,
            "visibility": null,
            "width": null
          }
        },
        "825e94888c3740b3a21420d82cbcfe85": {
          "model_module": "@jupyter-widgets/base",
          "model_name": "LayoutModel",
          "model_module_version": "1.2.0",
          "state": {
            "_model_module": "@jupyter-widgets/base",
            "_model_module_version": "1.2.0",
            "_model_name": "LayoutModel",
            "_view_count": null,
            "_view_module": "@jupyter-widgets/base",
            "_view_module_version": "1.2.0",
            "_view_name": "LayoutView",
            "align_content": null,
            "align_items": null,
            "align_self": null,
            "border": null,
            "bottom": null,
            "display": null,
            "flex": null,
            "flex_flow": null,
            "grid_area": null,
            "grid_auto_columns": null,
            "grid_auto_flow": null,
            "grid_auto_rows": null,
            "grid_column": null,
            "grid_gap": null,
            "grid_row": null,
            "grid_template_areas": null,
            "grid_template_columns": null,
            "grid_template_rows": null,
            "height": null,
            "justify_content": null,
            "justify_items": null,
            "left": null,
            "margin": null,
            "max_height": null,
            "max_width": null,
            "min_height": null,
            "min_width": null,
            "object_fit": null,
            "object_position": null,
            "order": null,
            "overflow": null,
            "overflow_x": null,
            "overflow_y": null,
            "padding": null,
            "right": null,
            "top": null,
            "visibility": null,
            "width": null
          }
        },
        "7573f1f1816a4f9c96b70856896faaf8": {
          "model_module": "@jupyter-widgets/controls",
          "model_name": "DescriptionStyleModel",
          "model_module_version": "1.5.0",
          "state": {
            "_model_module": "@jupyter-widgets/controls",
            "_model_module_version": "1.5.0",
            "_model_name": "DescriptionStyleModel",
            "_view_count": null,
            "_view_module": "@jupyter-widgets/base",
            "_view_module_version": "1.2.0",
            "_view_name": "StyleView",
            "description_width": ""
          }
        },
        "cb4830c72b7a402682701ac2fbee1477": {
          "model_module": "@jupyter-widgets/base",
          "model_name": "LayoutModel",
          "model_module_version": "1.2.0",
          "state": {
            "_model_module": "@jupyter-widgets/base",
            "_model_module_version": "1.2.0",
            "_model_name": "LayoutModel",
            "_view_count": null,
            "_view_module": "@jupyter-widgets/base",
            "_view_module_version": "1.2.0",
            "_view_name": "LayoutView",
            "align_content": null,
            "align_items": null,
            "align_self": null,
            "border": null,
            "bottom": null,
            "display": null,
            "flex": null,
            "flex_flow": null,
            "grid_area": null,
            "grid_auto_columns": null,
            "grid_auto_flow": null,
            "grid_auto_rows": null,
            "grid_column": null,
            "grid_gap": null,
            "grid_row": null,
            "grid_template_areas": null,
            "grid_template_columns": null,
            "grid_template_rows": null,
            "height": null,
            "justify_content": null,
            "justify_items": null,
            "left": null,
            "margin": null,
            "max_height": null,
            "max_width": null,
            "min_height": null,
            "min_width": null,
            "object_fit": null,
            "object_position": null,
            "order": null,
            "overflow": null,
            "overflow_x": null,
            "overflow_y": null,
            "padding": null,
            "right": null,
            "top": null,
            "visibility": null,
            "width": null
          }
        },
        "c4a3cb86d87e4819950b1ca2dc89dbe2": {
          "model_module": "@jupyter-widgets/controls",
          "model_name": "ProgressStyleModel",
          "model_module_version": "1.5.0",
          "state": {
            "_model_module": "@jupyter-widgets/controls",
            "_model_module_version": "1.5.0",
            "_model_name": "ProgressStyleModel",
            "_view_count": null,
            "_view_module": "@jupyter-widgets/base",
            "_view_module_version": "1.2.0",
            "_view_name": "StyleView",
            "bar_color": null,
            "description_width": ""
          }
        },
        "4d9e0ef420004379969aaf20f7108510": {
          "model_module": "@jupyter-widgets/base",
          "model_name": "LayoutModel",
          "model_module_version": "1.2.0",
          "state": {
            "_model_module": "@jupyter-widgets/base",
            "_model_module_version": "1.2.0",
            "_model_name": "LayoutModel",
            "_view_count": null,
            "_view_module": "@jupyter-widgets/base",
            "_view_module_version": "1.2.0",
            "_view_name": "LayoutView",
            "align_content": null,
            "align_items": null,
            "align_self": null,
            "border": null,
            "bottom": null,
            "display": null,
            "flex": null,
            "flex_flow": null,
            "grid_area": null,
            "grid_auto_columns": null,
            "grid_auto_flow": null,
            "grid_auto_rows": null,
            "grid_column": null,
            "grid_gap": null,
            "grid_row": null,
            "grid_template_areas": null,
            "grid_template_columns": null,
            "grid_template_rows": null,
            "height": null,
            "justify_content": null,
            "justify_items": null,
            "left": null,
            "margin": null,
            "max_height": null,
            "max_width": null,
            "min_height": null,
            "min_width": null,
            "object_fit": null,
            "object_position": null,
            "order": null,
            "overflow": null,
            "overflow_x": null,
            "overflow_y": null,
            "padding": null,
            "right": null,
            "top": null,
            "visibility": null,
            "width": null
          }
        },
        "d5240db62e3648c9bf004e2021100065": {
          "model_module": "@jupyter-widgets/controls",
          "model_name": "DescriptionStyleModel",
          "model_module_version": "1.5.0",
          "state": {
            "_model_module": "@jupyter-widgets/controls",
            "_model_module_version": "1.5.0",
            "_model_name": "DescriptionStyleModel",
            "_view_count": null,
            "_view_module": "@jupyter-widgets/base",
            "_view_module_version": "1.2.0",
            "_view_name": "StyleView",
            "description_width": ""
          }
        },
        "ab9ea81450ec47eeaca1dc4d8c41ba43": {
          "model_module": "@jupyter-widgets/controls",
          "model_name": "HBoxModel",
          "model_module_version": "1.5.0",
          "state": {
            "_dom_classes": [],
            "_model_module": "@jupyter-widgets/controls",
            "_model_module_version": "1.5.0",
            "_model_name": "HBoxModel",
            "_view_count": null,
            "_view_module": "@jupyter-widgets/controls",
            "_view_module_version": "1.5.0",
            "_view_name": "HBoxView",
            "box_style": "",
            "children": [
              "IPY_MODEL_378f98fead7348c3bde29a4ed43e92a9",
              "IPY_MODEL_a2e2e103bb2b4e9baa4b83eea962c914",
              "IPY_MODEL_14345a889d3e4ddcb081f0d0a84168eb"
            ],
            "layout": "IPY_MODEL_fa86958b1f1141eb83e6b673dc431cea"
          }
        },
        "378f98fead7348c3bde29a4ed43e92a9": {
          "model_module": "@jupyter-widgets/controls",
          "model_name": "HTMLModel",
          "model_module_version": "1.5.0",
          "state": {
            "_dom_classes": [],
            "_model_module": "@jupyter-widgets/controls",
            "_model_module_version": "1.5.0",
            "_model_name": "HTMLModel",
            "_view_count": null,
            "_view_module": "@jupyter-widgets/controls",
            "_view_module_version": "1.5.0",
            "_view_name": "HTMLView",
            "description": "",
            "description_tooltip": null,
            "layout": "IPY_MODEL_821126e0c553475693d685711fe26521",
            "placeholder": "​",
            "style": "IPY_MODEL_9dbdbecf03824a519abbc4fde5d105a8",
            "value": "Downloading: 100%"
          }
        },
        "a2e2e103bb2b4e9baa4b83eea962c914": {
          "model_module": "@jupyter-widgets/controls",
          "model_name": "FloatProgressModel",
          "model_module_version": "1.5.0",
          "state": {
            "_dom_classes": [],
            "_model_module": "@jupyter-widgets/controls",
            "_model_module_version": "1.5.0",
            "_model_name": "FloatProgressModel",
            "_view_count": null,
            "_view_module": "@jupyter-widgets/controls",
            "_view_module_version": "1.5.0",
            "_view_name": "ProgressView",
            "bar_style": "success",
            "description": "",
            "description_tooltip": null,
            "layout": "IPY_MODEL_8de1846c35ad47c79846e74dadd6ec2c",
            "max": 363423424,
            "min": 0,
            "orientation": "horizontal",
            "style": "IPY_MODEL_ff4a4bfa4f4c44bd829b8e909968cfcc",
            "value": 363423424
          }
        },
        "14345a889d3e4ddcb081f0d0a84168eb": {
          "model_module": "@jupyter-widgets/controls",
          "model_name": "HTMLModel",
          "model_module_version": "1.5.0",
          "state": {
            "_dom_classes": [],
            "_model_module": "@jupyter-widgets/controls",
            "_model_module_version": "1.5.0",
            "_model_name": "HTMLModel",
            "_view_count": null,
            "_view_module": "@jupyter-widgets/controls",
            "_view_module_version": "1.5.0",
            "_view_name": "HTMLView",
            "description": "",
            "description_tooltip": null,
            "layout": "IPY_MODEL_130cfa8d86ba4a87888d63de3a17ab8c",
            "placeholder": "​",
            "style": "IPY_MODEL_20d4920739a64e1e902eb95ffae3bae9",
            "value": " 363M/363M [00:08&lt;00:00, 25.8MB/s]"
          }
        },
        "fa86958b1f1141eb83e6b673dc431cea": {
          "model_module": "@jupyter-widgets/base",
          "model_name": "LayoutModel",
          "model_module_version": "1.2.0",
          "state": {
            "_model_module": "@jupyter-widgets/base",
            "_model_module_version": "1.2.0",
            "_model_name": "LayoutModel",
            "_view_count": null,
            "_view_module": "@jupyter-widgets/base",
            "_view_module_version": "1.2.0",
            "_view_name": "LayoutView",
            "align_content": null,
            "align_items": null,
            "align_self": null,
            "border": null,
            "bottom": null,
            "display": null,
            "flex": null,
            "flex_flow": null,
            "grid_area": null,
            "grid_auto_columns": null,
            "grid_auto_flow": null,
            "grid_auto_rows": null,
            "grid_column": null,
            "grid_gap": null,
            "grid_row": null,
            "grid_template_areas": null,
            "grid_template_columns": null,
            "grid_template_rows": null,
            "height": null,
            "justify_content": null,
            "justify_items": null,
            "left": null,
            "margin": null,
            "max_height": null,
            "max_width": null,
            "min_height": null,
            "min_width": null,
            "object_fit": null,
            "object_position": null,
            "order": null,
            "overflow": null,
            "overflow_x": null,
            "overflow_y": null,
            "padding": null,
            "right": null,
            "top": null,
            "visibility": null,
            "width": null
          }
        },
        "821126e0c553475693d685711fe26521": {
          "model_module": "@jupyter-widgets/base",
          "model_name": "LayoutModel",
          "model_module_version": "1.2.0",
          "state": {
            "_model_module": "@jupyter-widgets/base",
            "_model_module_version": "1.2.0",
            "_model_name": "LayoutModel",
            "_view_count": null,
            "_view_module": "@jupyter-widgets/base",
            "_view_module_version": "1.2.0",
            "_view_name": "LayoutView",
            "align_content": null,
            "align_items": null,
            "align_self": null,
            "border": null,
            "bottom": null,
            "display": null,
            "flex": null,
            "flex_flow": null,
            "grid_area": null,
            "grid_auto_columns": null,
            "grid_auto_flow": null,
            "grid_auto_rows": null,
            "grid_column": null,
            "grid_gap": null,
            "grid_row": null,
            "grid_template_areas": null,
            "grid_template_columns": null,
            "grid_template_rows": null,
            "height": null,
            "justify_content": null,
            "justify_items": null,
            "left": null,
            "margin": null,
            "max_height": null,
            "max_width": null,
            "min_height": null,
            "min_width": null,
            "object_fit": null,
            "object_position": null,
            "order": null,
            "overflow": null,
            "overflow_x": null,
            "overflow_y": null,
            "padding": null,
            "right": null,
            "top": null,
            "visibility": null,
            "width": null
          }
        },
        "9dbdbecf03824a519abbc4fde5d105a8": {
          "model_module": "@jupyter-widgets/controls",
          "model_name": "DescriptionStyleModel",
          "model_module_version": "1.5.0",
          "state": {
            "_model_module": "@jupyter-widgets/controls",
            "_model_module_version": "1.5.0",
            "_model_name": "DescriptionStyleModel",
            "_view_count": null,
            "_view_module": "@jupyter-widgets/base",
            "_view_module_version": "1.2.0",
            "_view_name": "StyleView",
            "description_width": ""
          }
        },
        "8de1846c35ad47c79846e74dadd6ec2c": {
          "model_module": "@jupyter-widgets/base",
          "model_name": "LayoutModel",
          "model_module_version": "1.2.0",
          "state": {
            "_model_module": "@jupyter-widgets/base",
            "_model_module_version": "1.2.0",
            "_model_name": "LayoutModel",
            "_view_count": null,
            "_view_module": "@jupyter-widgets/base",
            "_view_module_version": "1.2.0",
            "_view_name": "LayoutView",
            "align_content": null,
            "align_items": null,
            "align_self": null,
            "border": null,
            "bottom": null,
            "display": null,
            "flex": null,
            "flex_flow": null,
            "grid_area": null,
            "grid_auto_columns": null,
            "grid_auto_flow": null,
            "grid_auto_rows": null,
            "grid_column": null,
            "grid_gap": null,
            "grid_row": null,
            "grid_template_areas": null,
            "grid_template_columns": null,
            "grid_template_rows": null,
            "height": null,
            "justify_content": null,
            "justify_items": null,
            "left": null,
            "margin": null,
            "max_height": null,
            "max_width": null,
            "min_height": null,
            "min_width": null,
            "object_fit": null,
            "object_position": null,
            "order": null,
            "overflow": null,
            "overflow_x": null,
            "overflow_y": null,
            "padding": null,
            "right": null,
            "top": null,
            "visibility": null,
            "width": null
          }
        },
        "ff4a4bfa4f4c44bd829b8e909968cfcc": {
          "model_module": "@jupyter-widgets/controls",
          "model_name": "ProgressStyleModel",
          "model_module_version": "1.5.0",
          "state": {
            "_model_module": "@jupyter-widgets/controls",
            "_model_module_version": "1.5.0",
            "_model_name": "ProgressStyleModel",
            "_view_count": null,
            "_view_module": "@jupyter-widgets/base",
            "_view_module_version": "1.2.0",
            "_view_name": "StyleView",
            "bar_color": null,
            "description_width": ""
          }
        },
        "130cfa8d86ba4a87888d63de3a17ab8c": {
          "model_module": "@jupyter-widgets/base",
          "model_name": "LayoutModel",
          "model_module_version": "1.2.0",
          "state": {
            "_model_module": "@jupyter-widgets/base",
            "_model_module_version": "1.2.0",
            "_model_name": "LayoutModel",
            "_view_count": null,
            "_view_module": "@jupyter-widgets/base",
            "_view_module_version": "1.2.0",
            "_view_name": "LayoutView",
            "align_content": null,
            "align_items": null,
            "align_self": null,
            "border": null,
            "bottom": null,
            "display": null,
            "flex": null,
            "flex_flow": null,
            "grid_area": null,
            "grid_auto_columns": null,
            "grid_auto_flow": null,
            "grid_auto_rows": null,
            "grid_column": null,
            "grid_gap": null,
            "grid_row": null,
            "grid_template_areas": null,
            "grid_template_columns": null,
            "grid_template_rows": null,
            "height": null,
            "justify_content": null,
            "justify_items": null,
            "left": null,
            "margin": null,
            "max_height": null,
            "max_width": null,
            "min_height": null,
            "min_width": null,
            "object_fit": null,
            "object_position": null,
            "order": null,
            "overflow": null,
            "overflow_x": null,
            "overflow_y": null,
            "padding": null,
            "right": null,
            "top": null,
            "visibility": null,
            "width": null
          }
        },
        "20d4920739a64e1e902eb95ffae3bae9": {
          "model_module": "@jupyter-widgets/controls",
          "model_name": "DescriptionStyleModel",
          "model_module_version": "1.5.0",
          "state": {
            "_model_module": "@jupyter-widgets/controls",
            "_model_module_version": "1.5.0",
            "_model_name": "DescriptionStyleModel",
            "_view_count": null,
            "_view_module": "@jupyter-widgets/base",
            "_view_module_version": "1.2.0",
            "_view_name": "StyleView",
            "description_width": ""
          }
        }
      }
    }
  },
  "nbformat": 4,
  "nbformat_minor": 0
}