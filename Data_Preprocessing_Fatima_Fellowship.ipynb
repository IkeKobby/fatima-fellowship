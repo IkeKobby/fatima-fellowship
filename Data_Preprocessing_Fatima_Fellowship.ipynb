{
  "cells": [
    {
      "cell_type": "markdown",
      "metadata": {
        "id": "view-in-github",
        "colab_type": "text"
      },
      "source": [
        "<a href=\"https://colab.research.google.com/github/IkeKobby/fatima-fellowship/blob/main/Data_Preprocessing_Fatima_Fellowship.ipynb\" target=\"_parent\"><img src=\"https://colab.research.google.com/assets/colab-badge.svg\" alt=\"Open In Colab\"/></a>"
      ]
    },
    {
      "cell_type": "markdown",
      "metadata": {
        "id": "eBpjBBZc6IvA"
      },
      "source": [
        "# Fatima Fellowship Quick Coding Challenge (Pick 1)\n",
        "\n",
        "Thank you for applying to the Fatima Fellowship. To help us select the Fellows and assess your ability to do machine learning research, we are asking that you complete a short coding challenge. Please pick **1 of these 5** coding challenges, whichever is most aligned with your interests. \n",
        "\n",
        "**Due date: 1 week**\n",
        "\n",
        "**How to submit**: Please make a copy of this colab notebook, add your code and results, and submit your colab notebook to the submission link below. If you have never used a colab notebook, [check out this video](https://www.youtube.com/watch?v=i-HnvsehuSw).\n",
        "\n",
        "**Submission link**: https://airtable.com/shrXy3QKSsO2yALd3"
      ]
    },
    {
      "cell_type": "markdown",
      "metadata": {
        "id": "sFU9LTOyMiMj"
      },
      "source": [
        "# 2. Deep Learning for NLP\n",
        "\n",
        "**Fake news classifier**: Train a text classification model to detect fake news articles!\n",
        "\n",
        "* Download the dataset here: https://www.kaggle.com/clmentbisaillon/fake-and-real-news-dataset\n",
        "* Develop an NLP model for classification that uses a pretrained language model\n",
        "* Finetune your model on the dataset, and generate an AUC curve of your model on the test set of your choice. \n",
        "* [Upload the the model to the Hugging Face Hub](https://huggingface.co/docs/hub/adding-a-model), and add a link to your model below.\n",
        "* *Answer the following question*: Look at some of the news articles that were classified incorrectly. Please explain what you might do to improve your model's performance on these news articles in the future (you do not need to impelement these suggestions)"
      ]
    },
    {
      "cell_type": "code",
      "execution_count": null,
      "metadata": {
        "colab": {
          "base_uri": "https://localhost:8080/"
        },
        "id": "E90i018KyJH3",
        "outputId": "83a3ba65-200f-4181-995b-cac3cbc165ac"
      },
      "outputs": [
        {
          "name": "stdout",
          "output_type": "stream",
          "text": [
            "Drive already mounted at /content/drive; to attempt to forcibly remount, call drive.mount(\"/content/drive\", force_remount=True).\n"
          ]
        }
      ],
      "source": [
        "from google.colab import drive\n",
        "drive.mount('/content/drive')"
      ]
    },
    {
      "cell_type": "code",
      "execution_count": null,
      "metadata": {
        "id": "R0Vv63BVpq-S"
      },
      "outputs": [],
      "source": [
        "from IPython.display import clear_output\n",
        "!pip install opendatasets\n",
        "clear_output()"
      ]
    },
    {
      "cell_type": "code",
      "execution_count": null,
      "metadata": {
        "id": "OaQ31nA3p0ny"
      },
      "outputs": [],
      "source": [
        "import opendatasets as od"
      ]
    },
    {
      "cell_type": "code",
      "execution_count": null,
      "metadata": {
        "id": "fm_RCeBLqBAR"
      },
      "outputs": [],
      "source": [
        "dataset_url = 'https://www.kaggle.com/clmentbisaillon/fake-and-real-news-dataset'\n",
        "\n",
        "od.download(dataset_url)"
      ]
    },
    {
      "cell_type": "code",
      "execution_count": null,
      "metadata": {
        "id": "w1uAIZeoulCg"
      },
      "outputs": [],
      "source": [
        "import pandas as pd\n",
        "import numpy as np"
      ]
    },
    {
      "cell_type": "code",
      "execution_count": null,
      "metadata": {
        "id": "mq20EdFOuYAt"
      },
      "outputs": [],
      "source": [
        "dataset_path = '/content/drive/MyDrive/fake-and-real-news-dataset'\n",
        "\n",
        "fake_dataset = pd.read_csv(dataset_path + '/Fake.csv')\n",
        "true_dataset = pd.read_csv(dataset_path + '/True.csv')"
      ]
    },
    {
      "cell_type": "markdown",
      "metadata": {
        "id": "BzdeqEBwwOd-"
      },
      "source": [
        "**Data exploration** "
      ]
    },
    {
      "cell_type": "code",
      "execution_count": null,
      "metadata": {
        "colab": {
          "base_uri": "https://localhost:8080/",
          "height": 206
        },
        "id": "q_V3r8_MvD--",
        "outputId": "2075c7af-598a-4bcc-83d1-0dea845b8765"
      },
      "outputs": [
        {
          "data": {
            "text/html": [
              "\n",
              "  <div id=\"df-b641e46b-d195-4534-8b66-a3b73e6c83ea\">\n",
              "    <div class=\"colab-df-container\">\n",
              "      <div>\n",
              "<style scoped>\n",
              "    .dataframe tbody tr th:only-of-type {\n",
              "        vertical-align: middle;\n",
              "    }\n",
              "\n",
              "    .dataframe tbody tr th {\n",
              "        vertical-align: top;\n",
              "    }\n",
              "\n",
              "    .dataframe thead th {\n",
              "        text-align: right;\n",
              "    }\n",
              "</style>\n",
              "<table border=\"1\" class=\"dataframe\">\n",
              "  <thead>\n",
              "    <tr style=\"text-align: right;\">\n",
              "      <th></th>\n",
              "      <th>title</th>\n",
              "      <th>text</th>\n",
              "      <th>subject</th>\n",
              "      <th>date</th>\n",
              "    </tr>\n",
              "  </thead>\n",
              "  <tbody>\n",
              "    <tr>\n",
              "      <th>0</th>\n",
              "      <td>Donald Trump Sends Out Embarrassing New Year’...</td>\n",
              "      <td>Donald Trump just couldn t wish all Americans ...</td>\n",
              "      <td>News</td>\n",
              "      <td>December 31, 2017</td>\n",
              "    </tr>\n",
              "    <tr>\n",
              "      <th>1</th>\n",
              "      <td>Drunk Bragging Trump Staffer Started Russian ...</td>\n",
              "      <td>House Intelligence Committee Chairman Devin Nu...</td>\n",
              "      <td>News</td>\n",
              "      <td>December 31, 2017</td>\n",
              "    </tr>\n",
              "    <tr>\n",
              "      <th>2</th>\n",
              "      <td>Sheriff David Clarke Becomes An Internet Joke...</td>\n",
              "      <td>On Friday, it was revealed that former Milwauk...</td>\n",
              "      <td>News</td>\n",
              "      <td>December 30, 2017</td>\n",
              "    </tr>\n",
              "    <tr>\n",
              "      <th>3</th>\n",
              "      <td>Trump Is So Obsessed He Even Has Obama’s Name...</td>\n",
              "      <td>On Christmas day, Donald Trump announced that ...</td>\n",
              "      <td>News</td>\n",
              "      <td>December 29, 2017</td>\n",
              "    </tr>\n",
              "    <tr>\n",
              "      <th>4</th>\n",
              "      <td>Pope Francis Just Called Out Donald Trump Dur...</td>\n",
              "      <td>Pope Francis used his annual Christmas Day mes...</td>\n",
              "      <td>News</td>\n",
              "      <td>December 25, 2017</td>\n",
              "    </tr>\n",
              "  </tbody>\n",
              "</table>\n",
              "</div>\n",
              "      <button class=\"colab-df-convert\" onclick=\"convertToInteractive('df-b641e46b-d195-4534-8b66-a3b73e6c83ea')\"\n",
              "              title=\"Convert this dataframe to an interactive table.\"\n",
              "              style=\"display:none;\">\n",
              "        \n",
              "  <svg xmlns=\"http://www.w3.org/2000/svg\" height=\"24px\"viewBox=\"0 0 24 24\"\n",
              "       width=\"24px\">\n",
              "    <path d=\"M0 0h24v24H0V0z\" fill=\"none\"/>\n",
              "    <path d=\"M18.56 5.44l.94 2.06.94-2.06 2.06-.94-2.06-.94-.94-2.06-.94 2.06-2.06.94zm-11 1L8.5 8.5l.94-2.06 2.06-.94-2.06-.94L8.5 2.5l-.94 2.06-2.06.94zm10 10l.94 2.06.94-2.06 2.06-.94-2.06-.94-.94-2.06-.94 2.06-2.06.94z\"/><path d=\"M17.41 7.96l-1.37-1.37c-.4-.4-.92-.59-1.43-.59-.52 0-1.04.2-1.43.59L10.3 9.45l-7.72 7.72c-.78.78-.78 2.05 0 2.83L4 21.41c.39.39.9.59 1.41.59.51 0 1.02-.2 1.41-.59l7.78-7.78 2.81-2.81c.8-.78.8-2.07 0-2.86zM5.41 20L4 18.59l7.72-7.72 1.47 1.35L5.41 20z\"/>\n",
              "  </svg>\n",
              "      </button>\n",
              "      \n",
              "  <style>\n",
              "    .colab-df-container {\n",
              "      display:flex;\n",
              "      flex-wrap:wrap;\n",
              "      gap: 12px;\n",
              "    }\n",
              "\n",
              "    .colab-df-convert {\n",
              "      background-color: #E8F0FE;\n",
              "      border: none;\n",
              "      border-radius: 50%;\n",
              "      cursor: pointer;\n",
              "      display: none;\n",
              "      fill: #1967D2;\n",
              "      height: 32px;\n",
              "      padding: 0 0 0 0;\n",
              "      width: 32px;\n",
              "    }\n",
              "\n",
              "    .colab-df-convert:hover {\n",
              "      background-color: #E2EBFA;\n",
              "      box-shadow: 0px 1px 2px rgba(60, 64, 67, 0.3), 0px 1px 3px 1px rgba(60, 64, 67, 0.15);\n",
              "      fill: #174EA6;\n",
              "    }\n",
              "\n",
              "    [theme=dark] .colab-df-convert {\n",
              "      background-color: #3B4455;\n",
              "      fill: #D2E3FC;\n",
              "    }\n",
              "\n",
              "    [theme=dark] .colab-df-convert:hover {\n",
              "      background-color: #434B5C;\n",
              "      box-shadow: 0px 1px 3px 1px rgba(0, 0, 0, 0.15);\n",
              "      filter: drop-shadow(0px 1px 2px rgba(0, 0, 0, 0.3));\n",
              "      fill: #FFFFFF;\n",
              "    }\n",
              "  </style>\n",
              "\n",
              "      <script>\n",
              "        const buttonEl =\n",
              "          document.querySelector('#df-b641e46b-d195-4534-8b66-a3b73e6c83ea button.colab-df-convert');\n",
              "        buttonEl.style.display =\n",
              "          google.colab.kernel.accessAllowed ? 'block' : 'none';\n",
              "\n",
              "        async function convertToInteractive(key) {\n",
              "          const element = document.querySelector('#df-b641e46b-d195-4534-8b66-a3b73e6c83ea');\n",
              "          const dataTable =\n",
              "            await google.colab.kernel.invokeFunction('convertToInteractive',\n",
              "                                                     [key], {});\n",
              "          if (!dataTable) return;\n",
              "\n",
              "          const docLinkHtml = 'Like what you see? Visit the ' +\n",
              "            '<a target=\"_blank\" href=https://colab.research.google.com/notebooks/data_table.ipynb>data table notebook</a>'\n",
              "            + ' to learn more about interactive tables.';\n",
              "          element.innerHTML = '';\n",
              "          dataTable['output_type'] = 'display_data';\n",
              "          await google.colab.output.renderOutput(dataTable, element);\n",
              "          const docLink = document.createElement('div');\n",
              "          docLink.innerHTML = docLinkHtml;\n",
              "          element.appendChild(docLink);\n",
              "        }\n",
              "      </script>\n",
              "    </div>\n",
              "  </div>\n",
              "  "
            ],
            "text/plain": [
              "                                               title  \\\n",
              "0   Donald Trump Sends Out Embarrassing New Year’...   \n",
              "1   Drunk Bragging Trump Staffer Started Russian ...   \n",
              "2   Sheriff David Clarke Becomes An Internet Joke...   \n",
              "3   Trump Is So Obsessed He Even Has Obama’s Name...   \n",
              "4   Pope Francis Just Called Out Donald Trump Dur...   \n",
              "\n",
              "                                                text subject  \\\n",
              "0  Donald Trump just couldn t wish all Americans ...    News   \n",
              "1  House Intelligence Committee Chairman Devin Nu...    News   \n",
              "2  On Friday, it was revealed that former Milwauk...    News   \n",
              "3  On Christmas day, Donald Trump announced that ...    News   \n",
              "4  Pope Francis used his annual Christmas Day mes...    News   \n",
              "\n",
              "                date  \n",
              "0  December 31, 2017  \n",
              "1  December 31, 2017  \n",
              "2  December 30, 2017  \n",
              "3  December 29, 2017  \n",
              "4  December 25, 2017  "
            ]
          },
          "execution_count": 4,
          "metadata": {},
          "output_type": "execute_result"
        }
      ],
      "source": [
        "fake_dataset.head(5)"
      ]
    },
    {
      "cell_type": "code",
      "execution_count": null,
      "metadata": {
        "colab": {
          "base_uri": "https://localhost:8080/"
        },
        "id": "lnVwpedE3JIR",
        "outputId": "05ecce92-c927-4591-8c61-270c2d615856"
      },
      "outputs": [
        {
          "data": {
            "text/plain": [
              "News               9050\n",
              "politics           6841\n",
              "left-news          4459\n",
              "Government News    1570\n",
              "US_News             783\n",
              "Middle-east         778\n",
              "Name: subject, dtype: int64"
            ]
          },
          "execution_count": 5,
          "metadata": {},
          "output_type": "execute_result"
        }
      ],
      "source": [
        "fake_dataset.subject.value_counts()"
      ]
    },
    {
      "cell_type": "code",
      "execution_count": null,
      "metadata": {
        "colab": {
          "base_uri": "https://localhost:8080/",
          "height": 206
        },
        "id": "rdWWnjKjvIj8",
        "outputId": "bde8d776-686d-4480-bf97-af0618836f71"
      },
      "outputs": [
        {
          "data": {
            "text/html": [
              "\n",
              "  <div id=\"df-4698cbde-ba4c-46d5-bab2-a749242444aa\">\n",
              "    <div class=\"colab-df-container\">\n",
              "      <div>\n",
              "<style scoped>\n",
              "    .dataframe tbody tr th:only-of-type {\n",
              "        vertical-align: middle;\n",
              "    }\n",
              "\n",
              "    .dataframe tbody tr th {\n",
              "        vertical-align: top;\n",
              "    }\n",
              "\n",
              "    .dataframe thead th {\n",
              "        text-align: right;\n",
              "    }\n",
              "</style>\n",
              "<table border=\"1\" class=\"dataframe\">\n",
              "  <thead>\n",
              "    <tr style=\"text-align: right;\">\n",
              "      <th></th>\n",
              "      <th>title</th>\n",
              "      <th>text</th>\n",
              "      <th>subject</th>\n",
              "      <th>date</th>\n",
              "    </tr>\n",
              "  </thead>\n",
              "  <tbody>\n",
              "    <tr>\n",
              "      <th>0</th>\n",
              "      <td>As U.S. budget fight looms, Republicans flip t...</td>\n",
              "      <td>WASHINGTON (Reuters) - The head of a conservat...</td>\n",
              "      <td>politicsNews</td>\n",
              "      <td>December 31, 2017</td>\n",
              "    </tr>\n",
              "    <tr>\n",
              "      <th>1</th>\n",
              "      <td>U.S. military to accept transgender recruits o...</td>\n",
              "      <td>WASHINGTON (Reuters) - Transgender people will...</td>\n",
              "      <td>politicsNews</td>\n",
              "      <td>December 29, 2017</td>\n",
              "    </tr>\n",
              "    <tr>\n",
              "      <th>2</th>\n",
              "      <td>Senior U.S. Republican senator: 'Let Mr. Muell...</td>\n",
              "      <td>WASHINGTON (Reuters) - The special counsel inv...</td>\n",
              "      <td>politicsNews</td>\n",
              "      <td>December 31, 2017</td>\n",
              "    </tr>\n",
              "    <tr>\n",
              "      <th>3</th>\n",
              "      <td>FBI Russia probe helped by Australian diplomat...</td>\n",
              "      <td>WASHINGTON (Reuters) - Trump campaign adviser ...</td>\n",
              "      <td>politicsNews</td>\n",
              "      <td>December 30, 2017</td>\n",
              "    </tr>\n",
              "    <tr>\n",
              "      <th>4</th>\n",
              "      <td>Trump wants Postal Service to charge 'much mor...</td>\n",
              "      <td>SEATTLE/WASHINGTON (Reuters) - President Donal...</td>\n",
              "      <td>politicsNews</td>\n",
              "      <td>December 29, 2017</td>\n",
              "    </tr>\n",
              "  </tbody>\n",
              "</table>\n",
              "</div>\n",
              "      <button class=\"colab-df-convert\" onclick=\"convertToInteractive('df-4698cbde-ba4c-46d5-bab2-a749242444aa')\"\n",
              "              title=\"Convert this dataframe to an interactive table.\"\n",
              "              style=\"display:none;\">\n",
              "        \n",
              "  <svg xmlns=\"http://www.w3.org/2000/svg\" height=\"24px\"viewBox=\"0 0 24 24\"\n",
              "       width=\"24px\">\n",
              "    <path d=\"M0 0h24v24H0V0z\" fill=\"none\"/>\n",
              "    <path d=\"M18.56 5.44l.94 2.06.94-2.06 2.06-.94-2.06-.94-.94-2.06-.94 2.06-2.06.94zm-11 1L8.5 8.5l.94-2.06 2.06-.94-2.06-.94L8.5 2.5l-.94 2.06-2.06.94zm10 10l.94 2.06.94-2.06 2.06-.94-2.06-.94-.94-2.06-.94 2.06-2.06.94z\"/><path d=\"M17.41 7.96l-1.37-1.37c-.4-.4-.92-.59-1.43-.59-.52 0-1.04.2-1.43.59L10.3 9.45l-7.72 7.72c-.78.78-.78 2.05 0 2.83L4 21.41c.39.39.9.59 1.41.59.51 0 1.02-.2 1.41-.59l7.78-7.78 2.81-2.81c.8-.78.8-2.07 0-2.86zM5.41 20L4 18.59l7.72-7.72 1.47 1.35L5.41 20z\"/>\n",
              "  </svg>\n",
              "      </button>\n",
              "      \n",
              "  <style>\n",
              "    .colab-df-container {\n",
              "      display:flex;\n",
              "      flex-wrap:wrap;\n",
              "      gap: 12px;\n",
              "    }\n",
              "\n",
              "    .colab-df-convert {\n",
              "      background-color: #E8F0FE;\n",
              "      border: none;\n",
              "      border-radius: 50%;\n",
              "      cursor: pointer;\n",
              "      display: none;\n",
              "      fill: #1967D2;\n",
              "      height: 32px;\n",
              "      padding: 0 0 0 0;\n",
              "      width: 32px;\n",
              "    }\n",
              "\n",
              "    .colab-df-convert:hover {\n",
              "      background-color: #E2EBFA;\n",
              "      box-shadow: 0px 1px 2px rgba(60, 64, 67, 0.3), 0px 1px 3px 1px rgba(60, 64, 67, 0.15);\n",
              "      fill: #174EA6;\n",
              "    }\n",
              "\n",
              "    [theme=dark] .colab-df-convert {\n",
              "      background-color: #3B4455;\n",
              "      fill: #D2E3FC;\n",
              "    }\n",
              "\n",
              "    [theme=dark] .colab-df-convert:hover {\n",
              "      background-color: #434B5C;\n",
              "      box-shadow: 0px 1px 3px 1px rgba(0, 0, 0, 0.15);\n",
              "      filter: drop-shadow(0px 1px 2px rgba(0, 0, 0, 0.3));\n",
              "      fill: #FFFFFF;\n",
              "    }\n",
              "  </style>\n",
              "\n",
              "      <script>\n",
              "        const buttonEl =\n",
              "          document.querySelector('#df-4698cbde-ba4c-46d5-bab2-a749242444aa button.colab-df-convert');\n",
              "        buttonEl.style.display =\n",
              "          google.colab.kernel.accessAllowed ? 'block' : 'none';\n",
              "\n",
              "        async function convertToInteractive(key) {\n",
              "          const element = document.querySelector('#df-4698cbde-ba4c-46d5-bab2-a749242444aa');\n",
              "          const dataTable =\n",
              "            await google.colab.kernel.invokeFunction('convertToInteractive',\n",
              "                                                     [key], {});\n",
              "          if (!dataTable) return;\n",
              "\n",
              "          const docLinkHtml = 'Like what you see? Visit the ' +\n",
              "            '<a target=\"_blank\" href=https://colab.research.google.com/notebooks/data_table.ipynb>data table notebook</a>'\n",
              "            + ' to learn more about interactive tables.';\n",
              "          element.innerHTML = '';\n",
              "          dataTable['output_type'] = 'display_data';\n",
              "          await google.colab.output.renderOutput(dataTable, element);\n",
              "          const docLink = document.createElement('div');\n",
              "          docLink.innerHTML = docLinkHtml;\n",
              "          element.appendChild(docLink);\n",
              "        }\n",
              "      </script>\n",
              "    </div>\n",
              "  </div>\n",
              "  "
            ],
            "text/plain": [
              "                                               title  \\\n",
              "0  As U.S. budget fight looms, Republicans flip t...   \n",
              "1  U.S. military to accept transgender recruits o...   \n",
              "2  Senior U.S. Republican senator: 'Let Mr. Muell...   \n",
              "3  FBI Russia probe helped by Australian diplomat...   \n",
              "4  Trump wants Postal Service to charge 'much mor...   \n",
              "\n",
              "                                                text       subject  \\\n",
              "0  WASHINGTON (Reuters) - The head of a conservat...  politicsNews   \n",
              "1  WASHINGTON (Reuters) - Transgender people will...  politicsNews   \n",
              "2  WASHINGTON (Reuters) - The special counsel inv...  politicsNews   \n",
              "3  WASHINGTON (Reuters) - Trump campaign adviser ...  politicsNews   \n",
              "4  SEATTLE/WASHINGTON (Reuters) - President Donal...  politicsNews   \n",
              "\n",
              "                 date  \n",
              "0  December 31, 2017   \n",
              "1  December 29, 2017   \n",
              "2  December 31, 2017   \n",
              "3  December 30, 2017   \n",
              "4  December 29, 2017   "
            ]
          },
          "execution_count": 6,
          "metadata": {},
          "output_type": "execute_result"
        }
      ],
      "source": [
        "true_dataset.head(5)"
      ]
    },
    {
      "cell_type": "code",
      "execution_count": null,
      "metadata": {
        "colab": {
          "base_uri": "https://localhost:8080/"
        },
        "id": "Axkb6YTZ3TKM",
        "outputId": "0b06294d-ff33-4167-a9f2-9ddf87afc947"
      },
      "outputs": [
        {
          "data": {
            "text/plain": [
              "politicsNews    11272\n",
              "worldnews       10145\n",
              "Name: subject, dtype: int64"
            ]
          },
          "execution_count": 7,
          "metadata": {},
          "output_type": "execute_result"
        }
      ],
      "source": [
        "true_dataset.subject.value_counts()"
      ]
    },
    {
      "cell_type": "code",
      "execution_count": null,
      "metadata": {
        "id": "GaarbEUhvsbO"
      },
      "outputs": [],
      "source": [
        "fake_news_body = fake_dataset['text']\n",
        "true_news_body = true_dataset['text']"
      ]
    },
    {
      "cell_type": "code",
      "execution_count": null,
      "metadata": {
        "colab": {
          "base_uri": "https://localhost:8080/"
        },
        "id": "-HiYz8HBwgl-",
        "outputId": "a0b2df2e-18c2-428c-8198-9727af0f2e60"
      },
      "outputs": [
        {
          "name": "stdout",
          "output_type": "stream",
          "text": [
            "SOME FAKE NEWS ARTICLES:  \n",
            "\n",
            "0 : How much more criminal activity are American voters willing to overlook? Have we, as Americans gotten to the point that no crime committed by Hillary or anyone attached to Hillary will disqualify her from being elected to the highest office in our nation? Are we willing to accept that we can no longer trust anyone working for a government organization in America? The political organization of Virginia Gov. Terry McAuliffe, an influential Democrat with longstanding ties to Bill and Hillary Clinton, gave nearly $500,000 to the election campaign of the wife of an official at the Federal Bureau of Investigation who later helped oversee the investigation into Mrs. Clinton s email use.Campaign finance records show Mr. McAuliffe s political-action committee donated $467,500 to the 2015 state Senate campaign of Dr. Jill McCabe, who is married to Andrew McCabe, now the deputy director of the FBI.The Virginia Democratic Party, over which Mr. McAuliffe exerts considerable control, donated an additional $207,788 worth of support to Dr. McCabe s campaign in the form of mailers, according to the records. That adds up to slightly more than $675,000 to her candidacy from entities either directly under Mr. McAuliffe s control or strongly influenced by him. The figure represents more than a third of all the campaign funds Dr. McCabe raised in the effort.Mr. McAuliffe and other state party leaders recruited Dr. McCabe to run, according to party officials. She lost the election to incumbent Republican Dick Black.A spokesman for the governor said he  supported Jill McCabe because he believed she would be a good state senator. This is a customary practice for Virginia governors  Any insinuation that his support was tied to anything other than his desire to elect candidates who would help pass his agenda is ridiculous. Among political candidates that year, Dr. McCabe was the third-largest recipient of funds from Common Good VA, the governor s PAC, according to campaign finance records. Dan Gecker received $781,500 from the PAC and $214,456 from the state party for a campaign that raised $2.9 million, according to records; and Jeremy McPike received $803,500 from the PAC and $535,162 from the state party, raising more $3.8 million that year for his candidacy.The governor could recall only one meeting with Mr. McCabe when he and other state Democrats met with the couple on March 7, 2015, to urge Dr. McCabe to run, according to the spokesman.The FBI said in a statement that during his wife s campaign Mr. McCabe  played no role, attended no events, and did not participate in fundraising or support of any kind. Months after the completion of her campaign, then-Associate Deputy Director McCabe was promoted to Deputy, where, in that position, he assumed for the first time, an oversight role in the investigation into Secretary Clinton s emails. FBI officials said that after that meeting with the governor in Richmond on March 7, Mr. McCabe sought ethics advice from the bureau and followed it, avoiding involvement with public corruption cases in Virginia, and avoiding any campaign activity or events.Mr. McCabe s supervision of the Clinton email case in 2016 wasn t seen as a conflict or an ethics issue because his wife s campaign was over by then and Mr. McAuliffe wasn t part of the email probe, officials said. Once I decided to run,  Dr. McCabe said,  my husband had no formal role in my campaign other than to be a supportive husband to me and our children. As a federal official everyone who participated in our campaign understood and respected that he could not participate. Mr. McCabe is a longtime FBI official who focused much of his career on terrorism. His wife is a hospital physician who campaigned in northern Virginia, where the couple live with their children.The 2015 Virginia State senate race was Dr. McCabe s first run for office and her campaign spent $1.8 million. The race was part of Mr. McAuliffe s failed effort to win a Democratic majority in the Virginia legislature, which would have given him significantly more sway in Richmond, the state capital.Mr. McAuliffe has been a central figure in the Clintons  political careers for decades. In the 1990s, he was Bill Clinton s chief fundraiser and he remains one of the couple s closest allies and public boosters. Mrs. Clinton appeared with him in northern Virginia in 2015 as he sought to increase the number of Democrats in the state legislature. For entire story: WSJ\n",
            "\n",
            "\n",
            "1 : Huckabee s not hiding his frustration with Trump s potential pick for Secretary of State. He tells Fox and Friends he believes thinks if Trump chooses Mitt Romney, it would be  a real insult  to those who voted for him. It s not about that I don t care for Mitt personally but I m still very unhappy that Mitt did everything he could to derail Donald Trump. He didn t just go after him from a standpoint that I disagree with his policy on immigration or I disagree with his policy on taxes. He attacked him on a personal level on his character and integrity  And so it would be a real insult to all those Donald Trump voters who worked really hard. That s what I believe he has to stop and consider.    Gateway Pundit.@GovMikeHuckabee: Choosing Mitt Romney as Secretary of State would be a big insult to all those who voted for Trump pic.twitter.com/hizFmHCEvJ  FOX & friends (@foxandfriends) November 23, 2016Trump supporters took to Twitter today to voice their opposition to a Secretary of State Romney. For a while #NeverRomney was trending on Twitter until suddenly, and for no apparent reason, Twitter removed it from the trending list. Here are a few examples, starting with our favorite conservative on Twitter, Paul Joseph Watson of InfoWars, who reminds us of the open disdain Romney had for Trump while Trump was fighting for his life against a tsunami of #NeverTrumper s and Hillary s coordinated media complex:#NeverRomney   let's get this trending! pic.twitter.com/FQ4qhsBlHi  Paul Joseph Watson (@PrisonPlanet) November 23, 2016Breaking: Trump Army BANS together to ask Trump to rethink his Sec.of State choice. We are 100% #NeverRomney!https://t.co/VLH8r5ah6T  Amy Moreno (@VivaLaAmes10) November 23, 2016I agree @realDonaldTrump, don t reward Mitt Romney. @transition2017 #NeverRomney pic.twitter.com/GFWee5KdtM  Asa J   (@asamjulian) November 23, 2016Newt Gingrich also shared his disappointment during an interview with Tucker Carlson regarding a potential Secretary of State Mitt Romney: I can think of 20 other people who would be more naturally compatible with the Trump vision of foreign policy,  Gingrich told Fox News   Tucker Carlson Tonight. Trump s decision has not come without any conflict. The choice for the secretary of state position has been delayed by an internal struggle between the supporters of Romney, and those suggesting the  former New York Mayor Rudy Giuliani.  American Lookout\n",
            "\n",
            "\n",
            "2 : If you re like me . . . it s probably been an entertaining year Full of liberal lunacy, hypocrisy, and fear. There s been so many  episodes , it s easy to forget. Luckily, they ve all been logged upon the internet.The circus added one more ring when Donald got the nod To represent the GOP . . . the libs cried  Oh my God.  The media assured them there s no way that Trump could win So they sat back on their parent s couch, enamored by the spin.Election Day was coming . . . entertainment getting slow, Thank God the folks in Hollywood maintained the status quo. A host of A-list wannabes began to trickle forth, And told us that if Trump should win . . . they d all be headed north.When Donald passed two-seventy . . . and victory was at hand, A Trump-induced psychosis sprouted up in Liberal land. The fireworks were cancelled, and purveyors of fake news Were left to invent reasons why their candidate would lose.They blamed it all on Comey, then they blamed a Russian hack A dog that ate their homework, and of course . . . the men in black. A unicorn, a sasquatch, and a faulty Gallup Poll Next . . . they ll blame the shooter who was on the grassy knoll.Those celebs that promised egress . . . failed to adhere We waited for the moving trucks, which never did appear. Yes, not a star left Hollywood, although we wished it so, Despite the fact that Rush and Sean would pay for them to go.So now we re stuck with Miley, and we re stuck with Barbra too, Several washed-up actors . . . and the women of The View. We still have Maddow s meltdowns, and Sharpton s brand of hate. And, we still have Lena Dunham . . . though she s lost a little weight.In Congress, you can bet there s more than one defective gene. Just climb on board the crazy train with Nancy and Maxine. They often make me wonder just how awesome it would be, If parts of California could just slide into the sea.I m watching Liberal journalists like Cooper, Wolf, and Tapper, Spew the Leftist mantra . . . as their careers go down the crapper. Deplorables will have their fun with Liberal rank and file, Watching rats abandon ship when Clinton goes on trial.When Debbie left the DNC, I thought we d lost our clown. Then, from the state of Idaho, came Sally Boynton Brown. The DNC will be reborn, no matter what it takes. And the mix will look like cereal . . . with fruit loops, nuts, and flakes.Then, I saw the women s march, a feministic treat. I watched with fascination as they spilled into the street. Among the more disturbing sights were  lady  Democrats Who dressed up as vaginas . . . others wore their  kitty  hats.An incoherent Ashley Judd paraded  round a stage Saying all those  nasty women  should demand a higher wage. Then ranting about blood-stained sheets upon those women s beds. Somewhere a doctor s wondering why he took her off her meds.Madonna parked her walker to begin her caustic din, Dreams of blowing up the Whitehouse as senility sets in. Even in her senior years . . . the party never ends. She dances  round her nursing home in Vera Wang Depends.The Liberals, you must admit, have done some crazy things. It s fun to see them come unhinged as Donald pulls the strings. So, if you feel you need a shot of petulance and mirth, Sit back and watch the Liberals, it s the greatest show on earth. This poem (Ode to Liberal Lunacy) is republished here with permission and attribution to author Tony Olson About the Author: Tony Olson is an American journalist, and bestselling author. His book SPIN GAME: Exposing Political Lies And Tactics was an Amazon Top Ten Bestseller. Tony also authored the recent poem  Twas The Night Before Inauguration.  Tony currently lives in Boise, Idaho.\n",
            "\n",
            "\n",
            "3 : A new ad from a conservative super PAC absolutely destroys Donald Trump, and it uses his own words to do the job. The commercial comes from Our Principles PAC, and it showcases ordinary everyday women reading a series of horribly sexist and misogynist quotes from current Republican presidential front-runner Donald Trump.A few choice quotes from the ad include:These are the sorts of quotes that have terrified the Republican establishment about what Trump would do to the party in the general election. Even with candidates without misogynist comments like these on the ballot, Republicans have struggled to convince female voters. In 2012, 55 percent of women voted for Barack Obama, a number that was almost the same at 56 percent in 2008. Even when John Kerry lost the election in 2004, he still got 51 percent of the women s vote.You can hear the audio of Trump himself making many of these sexist comments in a story compiled by Buzzfeed. They went through Trump s appearances on radio shows like Howard Stern:Trump appeared upwards of two dozen times from the late  90s through the 2000s with the shock jock, and BuzzFeed News has listened to hours of those conversations, which are not publically available. The most popular topic of conversation during these appearances, as is typical of Stern s program, was sex. In particular, Trump frequently discussed women he had sex with, wanted to have sex with, or wouldn t have sex with if given the opportunity. He also rated women on a 10-point scale.This Super PAC ad is designed to derail Trump s path to the Republican nomination, but it may be too late for that. But a similar ad, broadcast from coast to coast by Democrats and their affiliated super PACs would likely be extremely devastating.Featured image via YouTube\n",
            "\n",
            "\n",
            "4 : Donald Trump s White House is in chaos, and they are trying to cover it up. Their Russia problems are mounting by the hour, and they refuse to acknowledge that there are problems surrounding all of this. To them, it s  fake news,  or a  hoax.  However, the facts bear things out differently, and it seems that there are now cracks in the Congressional public leadership.Chuck Grassley (R-Iowa), who heads the Senate Judiciary Committee, is fed up. He is now demanding that Donald Trump, Jr. and former 2016 Trump Campaign Manager Paul Manafort testify before his committee regarding the now infamous shady meeting between Donald Trump and the shady Russian lawyer who promised dirt on 2016 Democratic Presidential nominee Hillary Clinton. In fact, this information is due, well, NOW. This demand sends a few signals to team Trump   most notably that they should not fire Special Counsel Robert Mueller under any circumstances, despite the fact that it seems that this seems to be what Trump s White House is laying the groundwork, so to speak, to do as we speak.Here is the tweet regarding Grassley s warning:Also, anyone who thinks that Senator Grassley and the rest of the Senate are not serious about this only needs to look at the warning that has already been given: Trump Jr. and Manafort will either follow orders, or be served with subpoenas that force them to comply. If they refuse, they will be held in contempt of Congress, which carries with it serious jail time.Even the cruel, craven creatures within the GOP are sick of Donald Trump s corruption and his scandal-ridden White House. They are angry that he staged a hostile takeover of their party, first with birtherism and giving them a permanently racist label all while decimating all efforts that were made to pretend the Republican Party isn t a hotbed of racism, and while turning their worlds upside down, and with it, the nation. It seems that old-timers like Grassley, who are clearly sick of Trump s bullshit, just might be the ones who could save the republic. All they need is a bit of courage.Featured image via Win McNamee/Getty Images\n",
            "\n",
            "\n"
          ]
        }
      ],
      "source": [
        "def randomly_read_some_articles(texts):\n",
        "  five_random_texts = np.random.choice(texts, 5)\n",
        "  for index, text in enumerate(five_random_texts):\n",
        "    print(index, ':', text)\n",
        "    print('\\n')\n",
        "\n",
        "print(\"SOME FAKE NEWS ARTICLES:  \\n\")\n",
        "randomly_read_some_articles(fake_news_body)"
      ]
    },
    {
      "cell_type": "code",
      "execution_count": null,
      "metadata": {
        "colab": {
          "base_uri": "https://localhost:8080/"
        },
        "id": "4Jj6N0d9y1xT",
        "outputId": "3487ec1a-fe1c-42da-a22b-fc2521546995"
      },
      "outputs": [
        {
          "name": "stdout",
          "output_type": "stream",
          "text": [
            "SOME TRUE NEWS ARTICLES:  \n",
            "\n",
            "0 : WASHINGTON/LONG BEACH, California (Reuters) - If Hillary Clinton ends up losing California to Bernie Sanders, it will be because of voters like Nallely Perez. Perez personifies what a Clinton supporter was supposed to look like: a 24-year-old Latina who grew up idolizing the former first lady as a groundbreaking woman in politics. But when she votes in California’s Democratic presidential nominating contest on Tuesday, Perez will be supporting Sanders.   “Everything that I would stand for, he has said it,” said Perez, a student at California State University, Long Beach, who said she likes Sanders’ promises of tuition-free college and universal healthcare. “We found our voice in him.”  California is the final big contest in the long, bitter fight for the Democratic nomination. Opinion polls show the Democratic race there tightening in recent weeks. Where Clinton, a former secretary of state, once held a big lead over Sanders, a U.S. senator from Vermont, the two now are nearly tied.  A University of Southern California/Los Angeles Times poll released on Friday showed Sanders with a one-percentage-point lead over Clinton in the state, 44 to 43 percent, a swing from March when Clinton held a nine-point edge.  On the Republican side, Donald Trump has earned the nomination for the Nov. 8 election, and Clinton is close to capturing the number of delegates she needs to head the Democratic ticket. Her campaign expects that a win in New Jersey earlier on Tuesday will secure the nomination.  But a loss in a populous Democratic stronghold like California could lend credence to Trump’s claim that she is a weakened candidate.  “Clinton would like to go to the nominating convention with the wind at her back and tamp down the perception that she doesn’t excite Democrats,” said Rodell Mollineau, a Democratic strategist in Washington. A Sanders victory will not clear the way to his nomination unless it triggers a defection by scores of superdelegates - party office-holders and officials - from Clinton’s camp, an unlikely outcome.  Sanders has vowed to use California as a springboard to the party convention in Philadelphia in July. A win, especially a big one, would validate the self-described democratic socialist’s decision to stay in the race to the end and give him leverage to influence Clinton’s policies and cabinet picks. “The game he is playing is to be able to draw as many concessions as he can out of the party and the Clinton campaign,” Mollineau said. The area around Long Beach, part of the 47th congressional district in California, has emerged as a key battleground. Sanders campaigned there a week ago; Clinton was in the area on Friday and may return again before Tuesday’s vote. The district’s congressman, Representative Alan Lowenthal, remains one of the few uncommitted Democratic members of the House of Representatives to either Clinton or Sanders. His district once leaned Republican, but is becoming increasingly liberal thanks to an influx of Latino and Asian-American voters who comprise the majority of  residents.  The large minority population might be expected to translate into an advantage for Clinton, who has consistently shown strength with such groups. But a Reuters reporter who toured the area observed an abundance of Sanders supporters.  In the Belmont Shore neighborhood of Long Beach, Sanders  volunteers Gordon Winiemko and Jon Fellman manned a table on the sidewalk outside a coffeehouse.  They had a long discussion with Shawn Coleman, a 24-year-old film student, who told them he preferred Sanders to Clinton because “I think I’m a little bit more for what Bernie has in mind for the future, I think he’s right, and Hillary doesn’t really seem on it.”  Lia Roldan, a 42-year-old set decorator in the film industry who lives in Long Beach, said she was voting for Sanders because “he has a lot of experience in standing up for causes that benefit the working class.” Roldan said she would reluctantly support Clinton in a contest against Trump. “I’ll vote for her only because I don’t want a Republican to win, but I don’t really feel in my heart that I would vote for her otherwise,” she said.  Stopping Trump was on the minds of those who said they would vote for Clinton on Tuesday. “I love Bernie,” said Sami Reed, 42, the CEO of a corporate wellness business, interviewed in a thrift shop, “but I’ll probably vote for Hillary just because I don’t want Trump to win.”  A second-term congressman, Lowenthal told Reuters he has come under a “tremendous amount of grief and pressure from Sanders people” to support him, but he would not say for whom he would vote. At California events, Clinton has been careful to focus her criticism on Trump, not Sanders, while talking up her national security experience. She will almost certainly need the support of passionate Sanders’ backers to defeat the outspoken Trump in November. \n",
            "\n",
            "\n",
            "1 : JOHANNESBURG (Reuters) - South Africa s High Court ruled on Friday that President Jacob Zuma s appointment of a state prosecutor to decide whether to reinstate corruption charges against him was not valid and should be set aside immediately. The court also ruled that Zuma should not make a new appointment and that Deputy President Cyril Ramaphosa should appoint a new public prosecutor within 60 days. The ruling is a stinging rebuke for Zuma, who is due to step down in 2019 after more than a decade in power. Zuma s office said he would appeal the decision. The National Prosecuting Authority (NPA), whose head prosecutor Shaun Abrahams was removed from his post by the High Court ruling, also said it would appeal. The rand was buoyed by the court ruling, with analysts saying markets saw Zuma s influence curtailed. Judge President Dunstan Mlambo said at the Pretoria High Court the appointment of Abrahams as the National Director of Public Prosecutions was  invalid and set aside.   In his ruling, Mlambo said:  In our view, President Zuma would be clearly conflicted in having to appoint a National Director of Public Prosecutions, given the background ... and particularly the ever present specter of the many criminal charges against him that have not gone away.  The charges against Zuma relate to a 30 billion rand ($2 billion) government arms deal arranged in the late 1990s and have amplified calls for Zuma to step down before his term as president ends in 2019. In October the Supreme Court of Appeal upheld an earlier decision by a lower court that the nearly 800 corruption charges filed against Zuma before he became president be reinstated. It then fell to Abrahams, appointed by Zuma as chief state prosecutor in 2015, to decide whether or not the NPA would pursue a case against Zuma.  Abrahams gave Zuma until the end of November to make representations to prevent the charges being brought against him. Abrahams has not commented on whether Zuma presented any submissions of what decision he has taken on the matter. The case in the Pretoria High Court had been brought by a trio of civil society organizations seeking an order declaring the previous state prosecutor s removal was invalid. Zuma has faced a string of corruption allegations during his time in office, many of them over leaked emails that suggest his friends the Gupta family may have used their influence to secure lucrative state contracts for their companies. Zuma and the Guptas deny wrongdoing. The African National Congress (ANC), which is set to elect Zuma s successor next week, said it would allow the parties involved to reflect on the judgment and its implications as well as decide whether to appeal or not.  \n",
            "\n",
            "\n",
            "2 : NEW YORK (Reuters) - A New York appeals court issued a ruling on Tuesday that apparently made it highly unlikely that a state fraud case against Trump University, Republican presidential candidate Donald Trump’s venture, will be heard before the Nov. 8 general election. The mid-level appeals court ruled that Trump’s lawyers can argue to the state’s highest court that the fraud claims against Trump University brought by the state attorney general should be dismissed.  Trump suffered a legal setback in the case in March when the appeals court allowed multimillion-dollar fraud claims against the now-defunct venture to proceed.  The claims are part of a state lawsuit filed in 2013 that accuses Trump University of misleading thousands of people who paid up to $35,000 for seminars to learn the billionaire businessman’s real estate investment strategies. The trial judge in the case had been waiting to hear whether the mid-level appeals court, the Appellate Division, First Department, in Manhattan, would give Trump permission to go to the state’s highest court, the Court of Appeals. “It’s no surprise that Donald Trump is using every legal option to avoid standing trial for operating a sham for-profit university,” New York Attorney General Eric Schneiderman said in a statement responding to the ruling.  “As our lawsuit makes clear, Mr. Trump’s phony university defrauded thousands of students through an illicit scheme that cost them millions of dollars,” Schneiderman continued. “I am confident that the Court of Appeals will agree with the lower court’s unanimous decision to reject virtually all of Mr. Trump’s claims.” Alan Garten, general counsel for the Trump Organization, said, “We are pleased with the court’s decision and look forward to going to the Court of Appeals.” Garten has said the claims are “without merit and baseless” and that almost all those who participated in the programs filled out written surveys giving the seminars high ratings. Class actions are pending in California on similar claims by Trump University students. One of those cases is scheduled for trial on Nov. 28. The fraud claims against Trump University were an issue early in the Republican primary campaign.  With Trump allowed to appeal the pretrial rulings to the state’s highest court, it is very unlikely the New York case will be resolved before November’s election. It takes an average of 12 months from the time an appeal is allowed for the Court of Appeals to hear oral arguments in a case, according to court spokesman Gary Spencer. A decision on whether or not the fraud claims can proceed would normally take another month and, if not dismissed, the case would then go back to the trial court.  In the March decision, Schneiderman was allowed to proceed on fraud claims that require proof of intent to defraud and those that do not. The court also ruled that the statute of limitations for the claims stretches back to 2007 instead of 2010. The program stopped taking students in 2010. \n",
            "\n",
            "\n",
            "3 : DUBLIN (Reuters) - Irish musician and activist Bob Geldof called Myanmar leader Aung San Suu Kyi  a hand maiden to genocide  on Monday as he returned his Freedom of the City of Dublin award in protest over his fellow recipient s response to the repression of Rohingya Muslims.  I don t want to be on a very select roll of wonderful people with a killer,  Geldof told state broadcaster RTE.      Someone who is at best a handmaiden to genocide and an accomplice to murder.   More than 600,000 Muslims from Myanmar s Rakhine state have fled to refugee camps in Bangladesh after military operations described by the United Nations as ethnic cleansing. Their plight has drawn outrage around the world. But Suu Kyi, long seen as a champion of human rights, has been criticized for failing to speak out against violence. There have been calls for her to be stripped of the Nobel Peace Prize she won in 1991. Suu Kyi was given the Freedom of Dublin in 1999 while she    was held under house arrest by Mayanmar s then military government. She received her award at a reception in Ireland in 2012, two years after her release.  Her association with our city shames us all and we should have no truck with it, even by default. We honored her, now she appals and shames us,  Geldof said in a statement.  The Lord Mayor of Dublin, Micheal Mac Donncha, said the city council had discussed taking away the honor and the matter was still under review. Last month she was stripped of a similar honor by the British university city of Oxford, where she was an undergraduate.  But Mac Donncha, a councillor for the Irish nationalist Sinn Fein party, also criticized Geldof s gesture, saying it was ironic as Geldof held a British knighthood despite  the shameful record of British imperialism across the globe .  The former Boomtown Rats singer was given an honorary knighted in 1986 in recognition of his charity work, including organizing the 1985 Live Aid concert to help those suffering from starvation and disease in Ethiopia. Other foreign recipients of the Freedom of Dublin include John F. Kennedy, Nelson Mandela and Mikhail Gorbachev. Irish rockers U2, who had campaigned for Suu Kyi s release while she was a political prisoner, also voiced disappointment and said her silence was  starting to look a lot like assent .  Who could have predicted that if more than 600,000 people were fleeing from a brutal army for fear of their lives, the woman who many of us believed would have the clearest and loudest voice on the crisis would go quiet,  the band said in a statement.  For these atrocities against the Rohingya people to be happening on her watch blows our minds and breaks our hearts.  The Myanmar military says it launched the crackdown in response to attacks by Rohingya militants. \n",
            "\n",
            "\n",
            "4 : WASHINGTON (Reuters) - The White House said on Wednesday that the directors of national intelligence and the Central Intelligence Agency would both be members of President Donald Trump’s Cabinet. The Senate has confirmed former U.S. Representative Mike Pompeo as CIA director, but the nomination of former Senator Dan Coats as national intelligence director is awaiting confirmation. The decision follows a political controversy over a decision by Trump not to make the director of national intelligence and the chairman of the Joint Chiefs of Staff regular members of the Principals Committee, a key White House decision-making body. David Priess, a historian of U.S. intelligence, said former President Ronald Reagan’s CIA director, William Casey, was the first U.S. spy chief to sit in a presidential Cabinet. Priess said one of Casey’s successors, William Webster, asked not to be in the Cabinet because he felt intelligence should be kept separate from policymaking.  Under President Bill Clinton, CIA Directors John Deutch and George Tenet were Cabinet members. When Tenet continued as CIA director after George W. Bush became president, he left the Cabinet. In his memoir, “At the Center of the Storm,” Tenet wrote: “I was relieved that, unlike in the Clinton administration, where my job had Cabinet status, I no longer was obliged to attend ritual events like the State of the Union,” referring to the president’s annual speech to Congress.      \n",
            "\n",
            "\n"
          ]
        }
      ],
      "source": [
        "print(\"SOME TRUE NEWS ARTICLES:  \\n\")\n",
        "randomly_read_some_articles(true_news_body)"
      ]
    },
    {
      "cell_type": "code",
      "execution_count": null,
      "metadata": {
        "id": "1HXr2IsEzZnY"
      },
      "outputs": [],
      "source": [
        "# turn series to dataframe\n",
        "fake_news_body_dataframe = pd.DataFrame(fake_dataset['title'] + '' + fake_dataset['text'] + '' + fake_dataset['subject'], columns = ['article'])\n",
        "true_news_body_dataframe = pd.DataFrame(true_dataset['title'] + '' + true_dataset['text'] + '' + true_dataset['subject'], columns = ['article'])\n",
        "\n",
        "# create labels\n",
        "fake_news_body_dataframe['label'] = 0 # `0` if fake and \n",
        "true_news_body_dataframe['label'] = 1 # `1` if real\n",
        "\n",
        "# concat both datasets\n",
        "news_article_dataset = pd.concat([fake_news_body_dataframe, true_news_body_dataframe], axis = 0).sample(frac = 1).reset_index(drop = True)"
      ]
    },
    {
      "cell_type": "code",
      "execution_count": null,
      "metadata": {
        "colab": {
          "base_uri": "https://localhost:8080/",
          "height": 206
        },
        "id": "p6tyF9sO0RW9",
        "outputId": "ee105e77-28f0-4c7a-81ac-0b13d8b23745"
      },
      "outputs": [
        {
          "data": {
            "text/html": [
              "\n",
              "  <div id=\"df-a38ae0a6-e4c6-4926-b40d-f342714e2ec8\">\n",
              "    <div class=\"colab-df-container\">\n",
              "      <div>\n",
              "<style scoped>\n",
              "    .dataframe tbody tr th:only-of-type {\n",
              "        vertical-align: middle;\n",
              "    }\n",
              "\n",
              "    .dataframe tbody tr th {\n",
              "        vertical-align: top;\n",
              "    }\n",
              "\n",
              "    .dataframe thead th {\n",
              "        text-align: right;\n",
              "    }\n",
              "</style>\n",
              "<table border=\"1\" class=\"dataframe\">\n",
              "  <thead>\n",
              "    <tr style=\"text-align: right;\">\n",
              "      <th></th>\n",
              "      <th>article</th>\n",
              "      <th>label</th>\n",
              "    </tr>\n",
              "  </thead>\n",
              "  <tbody>\n",
              "    <tr>\n",
              "      <th>0</th>\n",
              "      <td>Turkey threatens legal action after lawmaker c...</td>\n",
              "      <td>1</td>\n",
              "    </tr>\n",
              "    <tr>\n",
              "      <th>1</th>\n",
              "      <td>OBAMA MAKES STUNNING 11th Hour Gift Of Massive...</td>\n",
              "      <td>0</td>\n",
              "    </tr>\n",
              "    <tr>\n",
              "      <th>2</th>\n",
              "      <td>FBI Director Comey’s ‘Leaked’ Memo Explains Wh...</td>\n",
              "      <td>0</td>\n",
              "    </tr>\n",
              "    <tr>\n",
              "      <th>3</th>\n",
              "      <td>Newspapers aim to ride 'Trump Bump' to reach r...</td>\n",
              "      <td>1</td>\n",
              "    </tr>\n",
              "    <tr>\n",
              "      <th>4</th>\n",
              "      <td>THIS IS GREAT! ANTI-HILLARY STREET ART POPS UP...</td>\n",
              "      <td>0</td>\n",
              "    </tr>\n",
              "  </tbody>\n",
              "</table>\n",
              "</div>\n",
              "      <button class=\"colab-df-convert\" onclick=\"convertToInteractive('df-a38ae0a6-e4c6-4926-b40d-f342714e2ec8')\"\n",
              "              title=\"Convert this dataframe to an interactive table.\"\n",
              "              style=\"display:none;\">\n",
              "        \n",
              "  <svg xmlns=\"http://www.w3.org/2000/svg\" height=\"24px\"viewBox=\"0 0 24 24\"\n",
              "       width=\"24px\">\n",
              "    <path d=\"M0 0h24v24H0V0z\" fill=\"none\"/>\n",
              "    <path d=\"M18.56 5.44l.94 2.06.94-2.06 2.06-.94-2.06-.94-.94-2.06-.94 2.06-2.06.94zm-11 1L8.5 8.5l.94-2.06 2.06-.94-2.06-.94L8.5 2.5l-.94 2.06-2.06.94zm10 10l.94 2.06.94-2.06 2.06-.94-2.06-.94-.94-2.06-.94 2.06-2.06.94z\"/><path d=\"M17.41 7.96l-1.37-1.37c-.4-.4-.92-.59-1.43-.59-.52 0-1.04.2-1.43.59L10.3 9.45l-7.72 7.72c-.78.78-.78 2.05 0 2.83L4 21.41c.39.39.9.59 1.41.59.51 0 1.02-.2 1.41-.59l7.78-7.78 2.81-2.81c.8-.78.8-2.07 0-2.86zM5.41 20L4 18.59l7.72-7.72 1.47 1.35L5.41 20z\"/>\n",
              "  </svg>\n",
              "      </button>\n",
              "      \n",
              "  <style>\n",
              "    .colab-df-container {\n",
              "      display:flex;\n",
              "      flex-wrap:wrap;\n",
              "      gap: 12px;\n",
              "    }\n",
              "\n",
              "    .colab-df-convert {\n",
              "      background-color: #E8F0FE;\n",
              "      border: none;\n",
              "      border-radius: 50%;\n",
              "      cursor: pointer;\n",
              "      display: none;\n",
              "      fill: #1967D2;\n",
              "      height: 32px;\n",
              "      padding: 0 0 0 0;\n",
              "      width: 32px;\n",
              "    }\n",
              "\n",
              "    .colab-df-convert:hover {\n",
              "      background-color: #E2EBFA;\n",
              "      box-shadow: 0px 1px 2px rgba(60, 64, 67, 0.3), 0px 1px 3px 1px rgba(60, 64, 67, 0.15);\n",
              "      fill: #174EA6;\n",
              "    }\n",
              "\n",
              "    [theme=dark] .colab-df-convert {\n",
              "      background-color: #3B4455;\n",
              "      fill: #D2E3FC;\n",
              "    }\n",
              "\n",
              "    [theme=dark] .colab-df-convert:hover {\n",
              "      background-color: #434B5C;\n",
              "      box-shadow: 0px 1px 3px 1px rgba(0, 0, 0, 0.15);\n",
              "      filter: drop-shadow(0px 1px 2px rgba(0, 0, 0, 0.3));\n",
              "      fill: #FFFFFF;\n",
              "    }\n",
              "  </style>\n",
              "\n",
              "      <script>\n",
              "        const buttonEl =\n",
              "          document.querySelector('#df-a38ae0a6-e4c6-4926-b40d-f342714e2ec8 button.colab-df-convert');\n",
              "        buttonEl.style.display =\n",
              "          google.colab.kernel.accessAllowed ? 'block' : 'none';\n",
              "\n",
              "        async function convertToInteractive(key) {\n",
              "          const element = document.querySelector('#df-a38ae0a6-e4c6-4926-b40d-f342714e2ec8');\n",
              "          const dataTable =\n",
              "            await google.colab.kernel.invokeFunction('convertToInteractive',\n",
              "                                                     [key], {});\n",
              "          if (!dataTable) return;\n",
              "\n",
              "          const docLinkHtml = 'Like what you see? Visit the ' +\n",
              "            '<a target=\"_blank\" href=https://colab.research.google.com/notebooks/data_table.ipynb>data table notebook</a>'\n",
              "            + ' to learn more about interactive tables.';\n",
              "          element.innerHTML = '';\n",
              "          dataTable['output_type'] = 'display_data';\n",
              "          await google.colab.output.renderOutput(dataTable, element);\n",
              "          const docLink = document.createElement('div');\n",
              "          docLink.innerHTML = docLinkHtml;\n",
              "          element.appendChild(docLink);\n",
              "        }\n",
              "      </script>\n",
              "    </div>\n",
              "  </div>\n",
              "  "
            ],
            "text/plain": [
              "                                             article  label\n",
              "0  Turkey threatens legal action after lawmaker c...      1\n",
              "1  OBAMA MAKES STUNNING 11th Hour Gift Of Massive...      0\n",
              "2  FBI Director Comey’s ‘Leaked’ Memo Explains Wh...      0\n",
              "3  Newspapers aim to ride 'Trump Bump' to reach r...      1\n",
              "4  THIS IS GREAT! ANTI-HILLARY STREET ART POPS UP...      0"
            ]
          },
          "execution_count": 12,
          "metadata": {},
          "output_type": "execute_result"
        }
      ],
      "source": [
        "news_article_dataset.head()"
      ]
    },
    {
      "cell_type": "code",
      "execution_count": null,
      "metadata": {
        "colab": {
          "base_uri": "https://localhost:8080/"
        },
        "id": "9APXvmDj1ztT",
        "outputId": "57ca492a-8c01-49f4-b7c4-b416cdf5c828"
      },
      "outputs": [
        {
          "name": "stdout",
          "output_type": "stream",
          "text": [
            "New dataset shape: (44898, 2)\n"
          ]
        },
        {
          "data": {
            "text/plain": [
              "0    23481\n",
              "1    21417\n",
              "Name: label, dtype: int64"
            ]
          },
          "execution_count": 13,
          "metadata": {},
          "output_type": "execute_result"
        }
      ],
      "source": [
        "print(f\"New dataset shape: {news_article_dataset.shape}\")\n",
        "\n",
        "# check data distribution\n",
        "news_article_dataset.label.value_counts()"
      ]
    },
    {
      "cell_type": "markdown",
      "metadata": {
        "id": "SP0whP7bvU4C"
      },
      "source": [
        "### Preprocessing"
      ]
    },
    {
      "cell_type": "code",
      "execution_count": null,
      "metadata": {
        "colab": {
          "base_uri": "https://localhost:8080/"
        },
        "id": "aQbpTti9vcKp",
        "outputId": "e2640553-205e-41ea-f1ea-dc8e3aa4521b"
      },
      "outputs": [
        {
          "data": {
            "text/plain": [
              "article    0\n",
              "label      0\n",
              "dtype: int64"
            ]
          },
          "execution_count": 15,
          "metadata": {},
          "output_type": "execute_result"
        }
      ],
      "source": [
        "# check nan\n",
        "news_article_dataset.isna().sum()"
      ]
    },
    {
      "cell_type": "code",
      "execution_count": null,
      "metadata": {
        "id": "Ytn-OxzMxlo_"
      },
      "outputs": [],
      "source": [
        "# !pip install autocorrect\n",
        "# clear_output()"
      ]
    },
    {
      "cell_type": "code",
      "execution_count": null,
      "metadata": {
        "id": "P0iXr55uw8Lo"
      },
      "outputs": [],
      "source": [
        "# process the text \n",
        " # remove stopwords, remove special characters\n",
        "import nltk\n",
        "import re\n",
        "import string\n",
        "from nltk.corpus import stopwords, brown\n",
        "from nltk.tokenize import word_tokenize\n",
        "from autocorrect import Speller\n",
        "from nltk.tokenize import word_tokenize"
      ]
    },
    {
      "cell_type": "code",
      "execution_count": null,
      "metadata": {
        "colab": {
          "base_uri": "https://localhost:8080/"
        },
        "id": "pcnhZ8Ej2GuK",
        "outputId": "2b281223-c78a-49fa-9405-7b86d8a814d3"
      },
      "outputs": [
        {
          "name": "stderr",
          "output_type": "stream",
          "text": [
            "[nltk_data] Downloading package punkt to /Users/sugar/nltk_data...\n",
            "[nltk_data]   Package punkt is already up-to-date!\n",
            "[nltk_data] Downloading package stopwords to /Users/sugar/nltk_data...\n",
            "[nltk_data]   Package stopwords is already up-to-date!\n"
          ]
        },
        {
          "data": {
            "text/plain": [
              "True"
            ]
          },
          "execution_count": 18,
          "metadata": {},
          "output_type": "execute_result"
        }
      ],
      "source": [
        "nltk.download('punkt')\n",
        "nltk.download('stopwords')"
      ]
    },
    {
      "cell_type": "code",
      "execution_count": null,
      "metadata": {
        "id": "dLsj77Pq3isl"
      },
      "outputs": [],
      "source": [
        "# instance of spell checker\n",
        "spell  = Speller(lang='en')"
      ]
    },
    {
      "cell_type": "code",
      "execution_count": null,
      "metadata": {
        "id": "Am7vB_B0yKEe"
      },
      "outputs": [],
      "source": [
        "def clean_text(text):\n",
        "    # split text phrases into words\n",
        "    words  = nltk.word_tokenize(text)\n",
        "    \n",
        "    \n",
        "    # Create a list of all the punctuations to remove\n",
        "    punctuations = ['.', ',', '/', '!', '?', ';', ':', '(',')', '[',']', '-', '_', '%']\n",
        "    \n",
        "    # Remove all the special characters\n",
        "    punctuations = re.sub(r'\\W', ' ', str(text))\n",
        "    \n",
        "    # Initialize the stopwords variable, which is a list of words ('and', 'the', 'i', 'yourself', 'is') that do not hold much values as key words\n",
        "    stop_words  = stopwords.words('english')\n",
        "    \n",
        "    # Getting rid of all the words that contain numbers in them\n",
        "    w_num = re.sub('\\w*\\d\\w*', '', text).strip()\n",
        "    \n",
        "    # remove all single characters\n",
        "    text = re.sub(r'\\s+[a-zA-Z]\\s+', ' ', text)\n",
        "    \n",
        "    # Substituting multiple spaces with single space\n",
        "    text = re.sub(r'\\s+', ' ', text, flags=re.I)\n",
        "    \n",
        "    # Removing prefixed 'b'\n",
        "    text = re.sub(r'^b\\s+', '', text)\n",
        "    \n",
        "    \n",
        "    # Removing non-english characters\n",
        "    text = re.sub(\"[^a-zA-Z0-9]+\", \"\",text)\n",
        "    \n",
        "    # Return keywords which are not in stop words \n",
        "    keywords = [word for word in words if not word in stop_words  and word in punctuations and  word in w_num]\n",
        "\n",
        "    # join words and turn to lower cases\n",
        "    text = ' '.join([word.lower() for word in keywords])\n",
        "    \n",
        "    return spell(text)"
      ]
    },
    {
      "cell_type": "code",
      "execution_count": null,
      "metadata": {
        "id": "9SRsVJOf6JJe"
      },
      "outputs": [],
      "source": [
        "# This code takes 1304m, 5.6s to complete. The text has been cleaned, processed and saved to my google drive.  \n",
        "clean_texts = []\n",
        "for txt in news_article_dataset['article']:\n",
        "  clean_texts.append(clean_text(txt))"
      ]
    },
    {
      "cell_type": "markdown",
      "source": [
        " - You can request access to the data [here](https://drive.google.com/file/d/1uLZoXqARX35CPmLMeO0VaVAEu_Wl1c72/view?usp=sharing)"
      ],
      "metadata": {
        "id": "t0BCvVst58um"
      }
    },
    {
      "cell_type": "code",
      "execution_count": null,
      "metadata": {
        "id": "CVDqzs6yKzci"
      },
      "outputs": [],
      "source": [
        "news_article_dataset['clean_article'] = clean_texts\n",
        "news_article_dataset.to_csv('cleaned_text.csv', index = False)"
      ]
    },
    {
      "cell_type": "markdown",
      "metadata": {
        "id": "kpInVUMLyJ24"
      },
      "source": [
        "**Write up**: \n",
        "* Link to the model on Hugging Face Hub: \n",
        "* Include some examples of misclassified news articles. Please explain what you might do to improve your model's performance on these news articles in the future (you do not need to impelement these suggestions)"
      ]
    }
  ],
  "metadata": {
    "accelerator": "GPU",
    "colab": {
      "collapsed_sections": [],
      "name": "Data_Preprocessing_Fatima_Fellowship.ipynb",
      "provenance": [],
      "include_colab_link": true
    },
    "kernelspec": {
      "display_name": "Python 3",
      "name": "python3"
    },
    "language_info": {
      "codemirror_mode": {
        "name": "ipython",
        "version": 3
      },
      "file_extension": ".py",
      "mimetype": "text/x-python",
      "name": "python",
      "nbconvert_exporter": "python",
      "pygments_lexer": "ipython3",
      "version": "3.9.5"
    }
  },
  "nbformat": 4,
  "nbformat_minor": 0
}