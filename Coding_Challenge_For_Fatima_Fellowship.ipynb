{
  "cells": [
    {
      "cell_type": "markdown",
      "metadata": {
        "id": "view-in-github",
        "colab_type": "text"
      },
      "source": [
        "<a href=\"https://colab.research.google.com/github/IkeKobby/fatima-fellowship/blob/main/Coding_Challenge_For_Fatima_Fellowship.ipynb\" target=\"_parent\"><img src=\"https://colab.research.google.com/assets/colab-badge.svg\" alt=\"Open In Colab\"/></a>"
      ]
    },
    {
      "cell_type": "markdown",
      "metadata": {
        "id": "eBpjBBZc6IvA"
      },
      "source": [
        "# Fatima Fellowship Quick Coding Challenge (Pick 1)\n",
        "\n",
        "Thank you for applying to the Fatima Fellowship. To help us select the Fellows and assess your ability to do machine learning research, we are asking that you complete a short coding challenge. Please pick **1 of these 5** coding challenges, whichever is most aligned with your interests. \n",
        "\n",
        "**Due date: 1 week**\n",
        "\n",
        "**How to submit**: Please make a copy of this colab notebook, add your code and results, and submit your colab notebook to the submission link below. If you have never used a colab notebook, [check out this video](https://www.youtube.com/watch?v=i-HnvsehuSw).\n",
        "\n",
        "**Submission link**: https://airtable.com/shrXy3QKSsO2yALd3"
      ]
    },
    {
      "cell_type": "markdown",
      "metadata": {
        "id": "sFU9LTOyMiMj"
      },
      "source": [
        "# 2. Deep Learning for NLP\n",
        "\n",
        "**Fake news classifier**: Train a text classification model to detect fake news articles!\n",
        "\n",
        "* Download the dataset here: https://www.kaggle.com/clmentbisaillon/fake-and-real-news-dataset\n",
        "* Develop an NLP model for classification that uses a pretrained language model\n",
        "* Finetune your model on the dataset, and generate an AUC curve of your model on the test set of your choice. \n",
        "* [Upload the the model to the Hugging Face Hub](https://huggingface.co/docs/hub/adding-a-model), and add a link to your model below.\n",
        "* *Answer the following question*: Look at some of the news articles that were classified incorrectly. Please explain what you might do to improve your model's performance on these news articles in the future (you do not need to impelement these suggestions)"
      ]
    },
    {
      "cell_type": "code",
      "source": [
        "from google.colab import drive\n",
        "drive.mount('/content/drive')"
      ],
      "metadata": {
        "colab": {
          "base_uri": "https://localhost:8080/"
        },
        "id": "8fv3BSHxQ1mf",
        "outputId": "2c24a757-1f60-40d9-f22c-3c6a8b213f4f"
      },
      "execution_count": 83,
      "outputs": [
        {
          "output_type": "stream",
          "name": "stdout",
          "text": [
            "Drive already mounted at /content/drive; to attempt to forcibly remount, call drive.mount(\"/content/drive\", force_remount=True).\n"
          ]
        }
      ]
    },
    {
      "cell_type": "code",
      "execution_count": 84,
      "metadata": {
        "id": "X1Ou8UUH43Ji"
      },
      "outputs": [],
      "source": [
        "import pandas as pd\n",
        "import numpy as np"
      ]
    },
    {
      "cell_type": "code",
      "execution_count": 85,
      "metadata": {
        "id": "zkKx-1XdRPdY"
      },
      "outputs": [],
      "source": [
        "clean_data_path = '/content/drive/MyDrive/Fatima_fellowship/40_percent.csv'"
      ]
    },
    {
      "cell_type": "code",
      "execution_count": 86,
      "metadata": {
        "colab": {
          "base_uri": "https://localhost:8080/",
          "height": 359
        },
        "id": "8wkSCg9oKzci",
        "outputId": "a43cef91-897b-4304-868c-395c5a1146d5"
      },
      "outputs": [
        {
          "output_type": "execute_result",
          "data": {
            "text/plain": [
              "                                             article  label  \\\n",
              "0  MATT DAMON Says America Needs IMMEDIATE GUN BA...      0   \n",
              "1  SEE GEORGE STEPHANOPOULOS’ Reaction When Hilla...      0   \n",
              "2   Listen To Ann Coulter Pretend She Likes Jews ...      0   \n",
              "3  Transcripts of Clinton's Wall Street talks rel...      1   \n",
              "4  Jailed Cameroon writer who criticized governme...      1   \n",
              "5   Watch Bernie Sanders DESTROY Republican Ranti...      0   \n",
              "6  Kenya officials change way of announcing elect...      1   \n",
              "7  HYSTERICAL: Trump Warns “Sleepy Eyes” Chuck To...      0   \n",
              "8  AMERICANS FURIOUS, Lash Out After Liberals Use...      0   \n",
              "9   Dem Senator On Trump World: ‘They Lie As Easi...      0   \n",
              "\n",
              "                                       clean_article  \n",
              "0  matt damon says america needs immediate gun ba...  \n",
              "1  see george stephanopoulos reaction when hillar...  \n",
              "2  listen to ann counter pretend she likes jews w...  \n",
              "3  transcripts clinton wall street talks released...  \n",
              "4  jailed cameroon writer criticized government e...  \n",
              "5  watch bernie sanders destroy republican rantin...  \n",
              "6  kenya officials change way announcing election...  \n",
              "7  hysterical trump warns sleepy eyes chuck todd ...  \n",
              "8  americans furious lash out after liberals use ...  \n",
              "9  dem senator on trump world they lie as easily ...  "
            ],
            "text/html": [
              "\n",
              "  <div id=\"df-b9ab9bf7-bd61-47b4-9d7a-9fe007a9e62f\">\n",
              "    <div class=\"colab-df-container\">\n",
              "      <div>\n",
              "<style scoped>\n",
              "    .dataframe tbody tr th:only-of-type {\n",
              "        vertical-align: middle;\n",
              "    }\n",
              "\n",
              "    .dataframe tbody tr th {\n",
              "        vertical-align: top;\n",
              "    }\n",
              "\n",
              "    .dataframe thead th {\n",
              "        text-align: right;\n",
              "    }\n",
              "</style>\n",
              "<table border=\"1\" class=\"dataframe\">\n",
              "  <thead>\n",
              "    <tr style=\"text-align: right;\">\n",
              "      <th></th>\n",
              "      <th>article</th>\n",
              "      <th>label</th>\n",
              "      <th>clean_article</th>\n",
              "    </tr>\n",
              "  </thead>\n",
              "  <tbody>\n",
              "    <tr>\n",
              "      <th>0</th>\n",
              "      <td>MATT DAMON Says America Needs IMMEDIATE GUN BA...</td>\n",
              "      <td>0</td>\n",
              "      <td>matt damon says america needs immediate gun ba...</td>\n",
              "    </tr>\n",
              "    <tr>\n",
              "      <th>1</th>\n",
              "      <td>SEE GEORGE STEPHANOPOULOS’ Reaction When Hilla...</td>\n",
              "      <td>0</td>\n",
              "      <td>see george stephanopoulos reaction when hillar...</td>\n",
              "    </tr>\n",
              "    <tr>\n",
              "      <th>2</th>\n",
              "      <td>Listen To Ann Coulter Pretend She Likes Jews ...</td>\n",
              "      <td>0</td>\n",
              "      <td>listen to ann counter pretend she likes jews w...</td>\n",
              "    </tr>\n",
              "    <tr>\n",
              "      <th>3</th>\n",
              "      <td>Transcripts of Clinton's Wall Street talks rel...</td>\n",
              "      <td>1</td>\n",
              "      <td>transcripts clinton wall street talks released...</td>\n",
              "    </tr>\n",
              "    <tr>\n",
              "      <th>4</th>\n",
              "      <td>Jailed Cameroon writer who criticized governme...</td>\n",
              "      <td>1</td>\n",
              "      <td>jailed cameroon writer criticized government e...</td>\n",
              "    </tr>\n",
              "    <tr>\n",
              "      <th>5</th>\n",
              "      <td>Watch Bernie Sanders DESTROY Republican Ranti...</td>\n",
              "      <td>0</td>\n",
              "      <td>watch bernie sanders destroy republican rantin...</td>\n",
              "    </tr>\n",
              "    <tr>\n",
              "      <th>6</th>\n",
              "      <td>Kenya officials change way of announcing elect...</td>\n",
              "      <td>1</td>\n",
              "      <td>kenya officials change way announcing election...</td>\n",
              "    </tr>\n",
              "    <tr>\n",
              "      <th>7</th>\n",
              "      <td>HYSTERICAL: Trump Warns “Sleepy Eyes” Chuck To...</td>\n",
              "      <td>0</td>\n",
              "      <td>hysterical trump warns sleepy eyes chuck todd ...</td>\n",
              "    </tr>\n",
              "    <tr>\n",
              "      <th>8</th>\n",
              "      <td>AMERICANS FURIOUS, Lash Out After Liberals Use...</td>\n",
              "      <td>0</td>\n",
              "      <td>americans furious lash out after liberals use ...</td>\n",
              "    </tr>\n",
              "    <tr>\n",
              "      <th>9</th>\n",
              "      <td>Dem Senator On Trump World: ‘They Lie As Easi...</td>\n",
              "      <td>0</td>\n",
              "      <td>dem senator on trump world they lie as easily ...</td>\n",
              "    </tr>\n",
              "  </tbody>\n",
              "</table>\n",
              "</div>\n",
              "      <button class=\"colab-df-convert\" onclick=\"convertToInteractive('df-b9ab9bf7-bd61-47b4-9d7a-9fe007a9e62f')\"\n",
              "              title=\"Convert this dataframe to an interactive table.\"\n",
              "              style=\"display:none;\">\n",
              "        \n",
              "  <svg xmlns=\"http://www.w3.org/2000/svg\" height=\"24px\"viewBox=\"0 0 24 24\"\n",
              "       width=\"24px\">\n",
              "    <path d=\"M0 0h24v24H0V0z\" fill=\"none\"/>\n",
              "    <path d=\"M18.56 5.44l.94 2.06.94-2.06 2.06-.94-2.06-.94-.94-2.06-.94 2.06-2.06.94zm-11 1L8.5 8.5l.94-2.06 2.06-.94-2.06-.94L8.5 2.5l-.94 2.06-2.06.94zm10 10l.94 2.06.94-2.06 2.06-.94-2.06-.94-.94-2.06-.94 2.06-2.06.94z\"/><path d=\"M17.41 7.96l-1.37-1.37c-.4-.4-.92-.59-1.43-.59-.52 0-1.04.2-1.43.59L10.3 9.45l-7.72 7.72c-.78.78-.78 2.05 0 2.83L4 21.41c.39.39.9.59 1.41.59.51 0 1.02-.2 1.41-.59l7.78-7.78 2.81-2.81c.8-.78.8-2.07 0-2.86zM5.41 20L4 18.59l7.72-7.72 1.47 1.35L5.41 20z\"/>\n",
              "  </svg>\n",
              "      </button>\n",
              "      \n",
              "  <style>\n",
              "    .colab-df-container {\n",
              "      display:flex;\n",
              "      flex-wrap:wrap;\n",
              "      gap: 12px;\n",
              "    }\n",
              "\n",
              "    .colab-df-convert {\n",
              "      background-color: #E8F0FE;\n",
              "      border: none;\n",
              "      border-radius: 50%;\n",
              "      cursor: pointer;\n",
              "      display: none;\n",
              "      fill: #1967D2;\n",
              "      height: 32px;\n",
              "      padding: 0 0 0 0;\n",
              "      width: 32px;\n",
              "    }\n",
              "\n",
              "    .colab-df-convert:hover {\n",
              "      background-color: #E2EBFA;\n",
              "      box-shadow: 0px 1px 2px rgba(60, 64, 67, 0.3), 0px 1px 3px 1px rgba(60, 64, 67, 0.15);\n",
              "      fill: #174EA6;\n",
              "    }\n",
              "\n",
              "    [theme=dark] .colab-df-convert {\n",
              "      background-color: #3B4455;\n",
              "      fill: #D2E3FC;\n",
              "    }\n",
              "\n",
              "    [theme=dark] .colab-df-convert:hover {\n",
              "      background-color: #434B5C;\n",
              "      box-shadow: 0px 1px 3px 1px rgba(0, 0, 0, 0.15);\n",
              "      filter: drop-shadow(0px 1px 2px rgba(0, 0, 0, 0.3));\n",
              "      fill: #FFFFFF;\n",
              "    }\n",
              "  </style>\n",
              "\n",
              "      <script>\n",
              "        const buttonEl =\n",
              "          document.querySelector('#df-b9ab9bf7-bd61-47b4-9d7a-9fe007a9e62f button.colab-df-convert');\n",
              "        buttonEl.style.display =\n",
              "          google.colab.kernel.accessAllowed ? 'block' : 'none';\n",
              "\n",
              "        async function convertToInteractive(key) {\n",
              "          const element = document.querySelector('#df-b9ab9bf7-bd61-47b4-9d7a-9fe007a9e62f');\n",
              "          const dataTable =\n",
              "            await google.colab.kernel.invokeFunction('convertToInteractive',\n",
              "                                                     [key], {});\n",
              "          if (!dataTable) return;\n",
              "\n",
              "          const docLinkHtml = 'Like what you see? Visit the ' +\n",
              "            '<a target=\"_blank\" href=https://colab.research.google.com/notebooks/data_table.ipynb>data table notebook</a>'\n",
              "            + ' to learn more about interactive tables.';\n",
              "          element.innerHTML = '';\n",
              "          dataTable['output_type'] = 'display_data';\n",
              "          await google.colab.output.renderOutput(dataTable, element);\n",
              "          const docLink = document.createElement('div');\n",
              "          docLink.innerHTML = docLinkHtml;\n",
              "          element.appendChild(docLink);\n",
              "        }\n",
              "      </script>\n",
              "    </div>\n",
              "  </div>\n",
              "  "
            ]
          },
          "metadata": {},
          "execution_count": 86
        }
      ],
      "source": [
        "# Loading cleaned text. \n",
        "cleaned_data = pd.read_csv(clean_data_path)\n",
        "cleaned_data.head(10)"
      ]
    },
    {
      "cell_type": "code",
      "execution_count": 87,
      "metadata": {
        "colab": {
          "base_uri": "https://localhost:8080/"
        },
        "id": "xUm_g6Uhr8rU",
        "outputId": "e4c764c3-0dc4-4ac3-debb-d0e244691a99"
      },
      "outputs": [
        {
          "output_type": "execute_result",
          "data": {
            "text/plain": [
              "(17959, 3)"
            ]
          },
          "metadata": {},
          "execution_count": 87
        }
      ],
      "source": [
        "data_for_modeling = cleaned_data#[: int(len(cleaned_data) * .4)]\n",
        "data_for_modeling.shape"
      ]
    },
    {
      "cell_type": "code",
      "execution_count": 88,
      "metadata": {
        "id": "91qCXOcPReJv"
      },
      "outputs": [],
      "source": [
        "# data_for_modeling.to_csv('40_percent.csv', index=False)"
      ]
    },
    {
      "cell_type": "code",
      "execution_count": 89,
      "metadata": {
        "id": "-0RiLVCjKzci"
      },
      "outputs": [],
      "source": [
        "# data splitting \n",
        "train_input, validation_input, test_input = np.split(data_for_modeling['clean_article'], [int(.70 * len(data_for_modeling)), int(.90 * len(data_for_modeling))])\n",
        "train_label, validation_label, test_label = np.split(data_for_modeling['label'], [int(.70 * len(data_for_modeling)), int(.90 * len(data_for_modeling))])"
      ]
    },
    {
      "cell_type": "code",
      "execution_count": 90,
      "metadata": {
        "id": "1dpxjcjoiRLr"
      },
      "outputs": [],
      "source": [
        "# reset indexes for validation and training\n",
        "train_input = train_input.values\n",
        "train_label = train_label.values\n",
        "validation_input = validation_input.reset_index(drop = True).values\n",
        "validation_label = validation_label.reset_index(drop = True).values\n",
        "test_input = test_input.reset_index(drop = True).values\n",
        "test_label = test_label.reset_index(drop = True).values"
      ]
    },
    {
      "cell_type": "code",
      "execution_count": 91,
      "metadata": {
        "colab": {
          "base_uri": "https://localhost:8080/"
        },
        "id": "aw9JsTVBxxR9",
        "outputId": "17115008-5d63-4765-ccd0-4c1c7cb45f6f"
      },
      "outputs": [
        {
          "output_type": "stream",
          "name": "stdout",
          "text": [
            "Train data: (12571,) and Label: 12571\n",
            "Validation data: (3592,) and Label: 3592\n",
            "Test data: (1796,) and Label: 1796\n",
            "17959\n"
          ]
        }
      ],
      "source": [
        "# check shapes\n",
        "print(f\"Train data: {train_input.shape} and Label: {len(train_label)}\")\n",
        "print(f\"Validation data: {validation_input.shape} and Label: {len(validation_label)}\")\n",
        "print(f\"Test data: {test_input.shape} and Label: {len(test_label)}\")\n",
        "\n",
        "assert len(data_for_modeling['clean_article']) == len(train_input) + len(validation_input) + len(test_input)\n",
        "print(len(data_for_modeling['clean_article']))"
      ]
    },
    {
      "cell_type": "code",
      "source": [
        "!pip install transformers"
      ],
      "metadata": {
        "colab": {
          "base_uri": "https://localhost:8080/"
        },
        "id": "43-9m_p0RKqX",
        "outputId": "f40dc0fe-7655-436c-d762-a1ba4021dfb3"
      },
      "execution_count": 92,
      "outputs": [
        {
          "output_type": "stream",
          "name": "stdout",
          "text": [
            "Requirement already satisfied: transformers in /usr/local/lib/python3.7/dist-packages (4.17.0)\n",
            "Requirement already satisfied: numpy>=1.17 in /usr/local/lib/python3.7/dist-packages (from transformers) (1.21.5)\n",
            "Requirement already satisfied: requests in /usr/local/lib/python3.7/dist-packages (from transformers) (2.23.0)\n",
            "Requirement already satisfied: packaging>=20.0 in /usr/local/lib/python3.7/dist-packages (from transformers) (21.3)\n",
            "Requirement already satisfied: importlib-metadata in /usr/local/lib/python3.7/dist-packages (from transformers) (4.11.3)\n",
            "Requirement already satisfied: sacremoses in /usr/local/lib/python3.7/dist-packages (from transformers) (0.0.49)\n",
            "Requirement already satisfied: filelock in /usr/local/lib/python3.7/dist-packages (from transformers) (3.6.0)\n",
            "Requirement already satisfied: pyyaml>=5.1 in /usr/local/lib/python3.7/dist-packages (from transformers) (6.0)\n",
            "Requirement already satisfied: tqdm>=4.27 in /usr/local/lib/python3.7/dist-packages (from transformers) (4.63.0)\n",
            "Requirement already satisfied: tokenizers!=0.11.3,>=0.11.1 in /usr/local/lib/python3.7/dist-packages (from transformers) (0.11.6)\n",
            "Requirement already satisfied: huggingface-hub<1.0,>=0.1.0 in /usr/local/lib/python3.7/dist-packages (from transformers) (0.4.0)\n",
            "Requirement already satisfied: regex!=2019.12.17 in /usr/local/lib/python3.7/dist-packages (from transformers) (2019.12.20)\n",
            "Requirement already satisfied: typing-extensions>=3.7.4.3 in /usr/local/lib/python3.7/dist-packages (from huggingface-hub<1.0,>=0.1.0->transformers) (3.10.0.2)\n",
            "Requirement already satisfied: pyparsing!=3.0.5,>=2.0.2 in /usr/local/lib/python3.7/dist-packages (from packaging>=20.0->transformers) (3.0.7)\n",
            "Requirement already satisfied: zipp>=0.5 in /usr/local/lib/python3.7/dist-packages (from importlib-metadata->transformers) (3.7.0)\n",
            "Requirement already satisfied: chardet<4,>=3.0.2 in /usr/local/lib/python3.7/dist-packages (from requests->transformers) (3.0.4)\n",
            "Requirement already satisfied: urllib3!=1.25.0,!=1.25.1,<1.26,>=1.21.1 in /usr/local/lib/python3.7/dist-packages (from requests->transformers) (1.24.3)\n",
            "Requirement already satisfied: certifi>=2017.4.17 in /usr/local/lib/python3.7/dist-packages (from requests->transformers) (2021.10.8)\n",
            "Requirement already satisfied: idna<3,>=2.5 in /usr/local/lib/python3.7/dist-packages (from requests->transformers) (2.10)\n",
            "Requirement already satisfied: click in /usr/local/lib/python3.7/dist-packages (from sacremoses->transformers) (7.1.2)\n",
            "Requirement already satisfied: six in /usr/local/lib/python3.7/dist-packages (from sacremoses->transformers) (1.15.0)\n",
            "Requirement already satisfied: joblib in /usr/local/lib/python3.7/dist-packages (from sacremoses->transformers) (1.1.0)\n"
          ]
        }
      ]
    },
    {
      "cell_type": "code",
      "execution_count": 93,
      "metadata": {
        "id": "iPr68g3GjETD"
      },
      "outputs": [],
      "source": [
        "import torch\n",
        "import torch.nn as nn\n",
        "import torch.optim as optim\n",
        "from torch.utils.data import Dataset\n",
        "from torch.utils.data import DataLoader\n",
        "from transformers import DistilBertTokenizer, DistilBertForSequenceClassification, DistilBertConfig\n",
        "from sklearn.metrics import roc_auc_score\n",
        "\n",
        "# set device\n",
        "device = torch.device(\"cuda\" if torch.cuda.is_available() else \"cpu\")"
      ]
    },
    {
      "cell_type": "code",
      "execution_count": 94,
      "metadata": {
        "colab": {
          "base_uri": "https://localhost:8080/"
        },
        "id": "U87QUgQzWzLA",
        "outputId": "96a651f7-5ddb-4059-e87f-3c20b2236d5d"
      },
      "outputs": [
        {
          "output_type": "execute_result",
          "data": {
            "text/plain": [
              "device(type='cuda')"
            ]
          },
          "metadata": {},
          "execution_count": 94
        }
      ],
      "source": [
        "device"
      ]
    },
    {
      "cell_type": "code",
      "execution_count": 95,
      "metadata": {
        "id": "iNxisj2bKcKj"
      },
      "outputs": [],
      "source": [
        "MODEL_NAME = \"distilbert-base-uncased\"\n",
        "TOKENIZER_NAME = \"distilbert-base-uncased\"\n",
        "DISTILBERT_DROPOUT = 0.5\n",
        "DISTILBERT_ATT_DROPOUT = 0.1\n",
        "EPOCH = 2\n",
        "MAX_SEQ_LEN = 512\n",
        "BATCH_SIZE = 16\n",
        " \n",
        "# Configure DistilBERT's initialization\n",
        "config = DistilBertConfig(dropout=DISTILBERT_DROPOUT, \n",
        "                          attention_dropout=DISTILBERT_ATT_DROPOUT, \n",
        "                          output_hidden_states=True)"
      ]
    },
    {
      "cell_type": "code",
      "execution_count": 96,
      "metadata": {
        "id": "Oht5onmEr6-F"
      },
      "outputs": [],
      "source": [
        "# custom dataset\n",
        "class customTextDataset(Dataset):\n",
        "  def __init__(self, input_text, text_label):\n",
        "    self.input_text = input_text\n",
        "    self.text_label = text_label\n",
        "\n",
        "  def __len__(self,):\n",
        "    return len(self.text_label)\n",
        "\n",
        "  def __getitem__(self, index):\n",
        "    text = self.input_text[index]\n",
        "    label = self.text_label[index]\n",
        "    return text, label"
      ]
    },
    {
      "cell_type": "code",
      "execution_count": 97,
      "metadata": {
        "id": "YjwJ_N9YYMN_"
      },
      "outputs": [],
      "source": [
        "# ensuring conformity of the sequence length with collate function.\n",
        "class batchCollate_function:\n",
        "  def __init__(self, tokenizer_name):\n",
        "    self.tokenizer_name = tokenizer_name\n",
        "    self.tokenizer = DistilBertTokenizer.from_pretrained(self.tokenizer_name)\n",
        "\n",
        "  def __call__(self, batch):\n",
        "    batch_text  = [text[0] for text in batch]\n",
        "    batch_labels = torch.tensor([label[1] for label in batch]).unsqueeze(0)\n",
        "    encoded_texts = self.tokenizer(batch_text, padding=True, truncation=True, return_tensors=\"pt\")\n",
        "    return encoded_texts.to(device), batch_labels.to(device)"
      ]
    },
    {
      "cell_type": "code",
      "execution_count": 98,
      "metadata": {
        "id": "HI5wB3rOzr61"
      },
      "outputs": [],
      "source": [
        "# Create instance for the dataset.\n",
        "train_set = customTextDataset(train_input, train_label)\n",
        "validation_set = customTextDataset(validation_input, validation_label)\n",
        "test_set = customTextDataset(test_input, test_label,)"
      ]
    },
    {
      "cell_type": "code",
      "execution_count": 99,
      "metadata": {
        "id": "Jz_MW5OXz631"
      },
      "outputs": [],
      "source": [
        "# create dataloaders\n",
        "train_dataloader = DataLoader(train_set, batch_size=BATCH_SIZE, shuffle=True, collate_fn=batchCollate_function(tokenizer_name = TOKENIZER_NAME))\n",
        "validation_dataloader = DataLoader(validation_set, batch_size=BATCH_SIZE, shuffle=True, collate_fn=batchCollate_function(tokenizer_name = TOKENIZER_NAME))\n",
        "test_dataloader = DataLoader(test_set, batch_size=BATCH_SIZE, shuffle=True, collate_fn=batchCollate_function(tokenizer_name = TOKENIZER_NAME))"
      ]
    },
    {
      "cell_type": "code",
      "execution_count": 100,
      "metadata": {
        "colab": {
          "base_uri": "https://localhost:8080/"
        },
        "id": "T-3KziZf0Jnk",
        "outputId": "2acdb194-4f85-481c-b1bf-0132ff3f5226"
      },
      "outputs": [
        {
          "output_type": "stream",
          "name": "stdout",
          "text": [
            "Text batch: tensor([[  101,  3422,  7252,  ...,     0,     0,     0],\n",
            "        [  101,  2645,  2058,  ..., 22028,  2994,   102]], device='cuda:0')\n",
            "Labels batch: tensor([[0, 0, 0, 1, 0, 1, 0, 1, 1, 1, 0, 0, 1, 0, 1, 0]], device='cuda:0')\n"
          ]
        }
      ],
      "source": [
        "encoded_input, train_labels = next(iter(train_dataloader))\n",
        "print(f\"Text batch: {encoded_input['input_ids'][:2]}\")\n",
        "print(f\"Labels batch: {train_labels}\")"
      ]
    },
    {
      "cell_type": "code",
      "execution_count": 101,
      "metadata": {
        "id": "YbZMWu32exlY"
      },
      "outputs": [],
      "source": [
        "# Customed pretrained model\n",
        "class fakeNewsDistilBertClassifier(nn.Module):\n",
        "  def __init__(self, model_name):\n",
        "    super(fakeNewsDistilBertClassifier, self).__init__()\n",
        "\n",
        "    self.model_name = model_name\n",
        "    self.pretrained_distilbert = DistilBertForSequenceClassification.from_pretrained(model_name)\n",
        "\n",
        "  def forward(self, inputs, labels):\n",
        "    outputs = self.pretrained_distilbert(**inputs, labels=labels)\n",
        "    return outputs"
      ]
    },
    {
      "cell_type": "code",
      "execution_count": 102,
      "metadata": {
        "colab": {
          "base_uri": "https://localhost:8080/"
        },
        "id": "jo6EgU1tJvEh",
        "outputId": "7f7bdf39-2576-471b-c545-e6feb74f4ecf"
      },
      "outputs": [
        {
          "output_type": "stream",
          "name": "stderr",
          "text": [
            "Some weights of the model checkpoint at distilbert-base-uncased were not used when initializing DistilBertForSequenceClassification: ['vocab_transform.weight', 'vocab_transform.bias', 'vocab_projector.weight', 'vocab_projector.bias', 'vocab_layer_norm.bias', 'vocab_layer_norm.weight']\n",
            "- This IS expected if you are initializing DistilBertForSequenceClassification from the checkpoint of a model trained on another task or with another architecture (e.g. initializing a BertForSequenceClassification model from a BertForPreTraining model).\n",
            "- This IS NOT expected if you are initializing DistilBertForSequenceClassification from the checkpoint of a model that you expect to be exactly identical (initializing a BertForSequenceClassification model from a BertForSequenceClassification model).\n",
            "Some weights of DistilBertForSequenceClassification were not initialized from the model checkpoint at distilbert-base-uncased and are newly initialized: ['classifier.bias', 'pre_classifier.bias', 'classifier.weight', 'pre_classifier.weight']\n",
            "You should probably TRAIN this model on a down-stream task to be able to use it for predictions and inference.\n"
          ]
        }
      ],
      "source": [
        "distilbert = fakeNewsDistilBertClassifier(model_name = MODEL_NAME).to(device)"
      ]
    },
    {
      "cell_type": "code",
      "execution_count": 104,
      "metadata": {
        "id": "T6F7JdC59ho4",
        "colab": {
          "base_uri": "https://localhost:8080/"
        },
        "outputId": "c883f2ce-30e0-47fb-c472-2d1b9d419113"
      },
      "outputs": [
        {
          "output_type": "execute_result",
          "data": {
            "text/plain": [
              "tensor([[-0.0733,  0.1357]], device='cuda:0')"
            ]
          },
          "metadata": {},
          "execution_count": 104
        }
      ],
      "source": [
        "token = DistilBertTokenizer.from_pretrained(TOKENIZER_NAME)\n",
        "inp_ = token(\"I am Kobby, the tech Boss of TechSol Inc.\", return_tensors=\"pt\")\n",
        "label = torch.tensor([1])\n",
        "\n",
        "out = distilbert(inp_.to(device), label.to(device))\n",
        "out.logits.data"
      ]
    },
    {
      "cell_type": "code",
      "execution_count": 105,
      "metadata": {
        "id": "9ItyVneaIVAw"
      },
      "outputs": [],
      "source": [
        "# from helper_functions import *\n",
        "optimizer = optim.Adam(distilbert.parameters(), lr=2e-5)\n",
        "\n",
        "def save_checkpoint(save_path, model, valid_loss):\n",
        "\n",
        "    if save_path is None:\n",
        "        return\n",
        "\n",
        "    state_dict = {'model_state_dict': model.state_dict(),\n",
        "                  'valid_loss': valid_loss}\n",
        "\n",
        "    torch.save(state_dict, save_path)\n",
        "    print(f'Model saved to ==> {save_path}')\n",
        "\n",
        "def save_metrics(save_path, train_loss_list, valid_loss_list, global_steps_list):\n",
        "\n",
        "    if save_path is None:\n",
        "        return\n",
        "\n",
        "    state_dict = {'train_loss_list': train_loss_list,\n",
        "                  'valid_loss_list': valid_loss_list,\n",
        "                  'global_steps_list': global_steps_list}\n",
        "\n",
        "    torch.save(state_dict, save_path)\n",
        "    print(f'Metrics saved to ==> {save_path}')"
      ]
    },
    {
      "cell_type": "code",
      "execution_count": 106,
      "metadata": {
        "id": "DOY1Gfp452BB"
      },
      "outputs": [],
      "source": [
        "destination_folder = '/content/drive/MyDrive/Fatima_fellowship/training'\n",
        "\n",
        "# Training Function\n",
        "def train(model,\n",
        "          optimizer,\n",
        "          criterion = nn.BCELoss(),\n",
        "          train_loader = train_dataloader,\n",
        "          valid_loader = validation_dataloader,\n",
        "          num_epochs = EPOCH,\n",
        "          eval_every = len(train_dataloader) // 2,\n",
        "          file_path = destination_folder,\n",
        "          best_valid_loss = float(\"Inf\")):\n",
        "  \n",
        "    \n",
        "    # initialize running values\n",
        "    running_loss = 0.0\n",
        "    valid_running_loss = 0.0\n",
        "    global_step = 0\n",
        "    train_loss_list = []\n",
        "    valid_loss_list = []\n",
        "    global_steps_list = []\n",
        "    # roc_auc = 0.0\n",
        "\n",
        "    # training loop\n",
        "    model.train()\n",
        "    for epoch in range(num_epochs):\n",
        "      for (input_ids, labels) in train_loader:\n",
        "        # forward pass\n",
        "        outputs = model(input_ids, labels)\n",
        "        # compute loss\n",
        "        loss = outputs.loss\n",
        "        # zero the parameter gradients\n",
        "        optimizer.zero_grad()\n",
        "        # compute gradient\n",
        "        loss.backward()\n",
        "        # update gradient\n",
        "        optimizer.step()\n",
        "\n",
        "        # update running values\n",
        "        running_loss += loss.item()\n",
        "        global_step += 1\n",
        "\n",
        "        # evaluation step\n",
        "        if global_step % eval_every == 0:\n",
        "          model.eval()\n",
        "          with torch.no_grad():\n",
        "            for (valid_input_ids, valid_labels) in valid_loader:\n",
        "                valid_outputs = model(valid_input_ids, valid_labels)\n",
        "                \n",
        "                loss = valid_outputs.loss\n",
        "                valid_running_loss += loss.item()\n",
        "\n",
        "          # evaluation metrics\n",
        "          average_train_loss = running_loss / eval_every\n",
        "          average_valid_loss = valid_running_loss / len(valid_loader)\n",
        "          train_loss_list.append(average_train_loss)\n",
        "          valid_loss_list.append(average_valid_loss)\n",
        "          global_steps_list.append(global_step)\n",
        "\n",
        "          # resetting running values\n",
        "          running_loss = 0.0                \n",
        "          valid_running_loss = 0.0\n",
        "          # roc_auc = 0.0\n",
        "          model.train()\n",
        "\n",
        "          # print progress\n",
        "          print('Epoch [{}/{}], Step [{}/{}], Train Loss: {:.4f}, Valid Loss: {:.4f}'\n",
        "                .format(epoch+1, num_epochs, global_step, num_epochs*len(train_loader),\n",
        "                        average_train_loss, average_valid_loss))\n",
        "            \n",
        "          # checkpoint\n",
        "          if best_valid_loss > average_valid_loss:\n",
        "              best_valid_loss = average_valid_loss\n",
        "              save_checkpoint(file_path + '/' + 'model.pt', model, best_valid_loss)\n",
        "              save_metrics(file_path + '/' + 'metrics.pt', train_loss_list, valid_loss_list, global_steps_list)\n",
        "\n",
        "    save_metrics(file_path + '/' + 'metrics.pt', train_loss_list, valid_loss_list, global_steps_list)\n",
        "    print('Finished Training!')"
      ]
    },
    {
      "cell_type": "code",
      "execution_count": null,
      "metadata": {
        "colab": {
          "base_uri": "https://localhost:8080/"
        },
        "id": "rsnL_HweEeFS",
        "outputId": "68a76b08-6c72-45d5-aaa7-95153ebea84f"
      },
      "outputs": [
        {
          "output_type": "stream",
          "name": "stdout",
          "text": [
            "Epoch [1/2], Step [393/1572], Train Loss: 0.0101, Valid Loss: 0.0031\n",
            "Model saved to ==> /content/drive/MyDrive/Fatima_fellowship/training/model.pt\n",
            "Metrics saved to ==> /content/drive/MyDrive/Fatima_fellowship/training/metrics.pt\n",
            "Epoch [1/2], Step [786/1572], Train Loss: 0.0091, Valid Loss: 0.0039\n",
            "Epoch [2/2], Step [1179/1572], Train Loss: 0.0031, Valid Loss: 0.0018\n",
            "Model saved to ==> /content/drive/MyDrive/Fatima_fellowship/training/model.pt\n",
            "Metrics saved to ==> /content/drive/MyDrive/Fatima_fellowship/training/metrics.pt\n",
            "Epoch [2/2], Step [1572/1572], Train Loss: 0.0023, Valid Loss: 0.0026\n",
            "Metrics saved to ==> /content/drive/MyDrive/Fatima_fellowship/training/metrics.pt\n",
            "Finished Training!\n"
          ]
        }
      ],
      "source": [
        "#training\n",
        "train(model=distilbert, optimizer=optimizer)"
      ]
    },
    {
      "cell_type": "code",
      "source": [
        "def load_checkpoint(load_path, model):\n",
        "    \n",
        "    if load_path is None:\n",
        "        return\n",
        "\n",
        "    state_dict = torch.load(load_path, map_location=device)\n",
        "    print(f'Model loaded from <== {load_path}')\n",
        "\n",
        "    model.load_state_dict(state_dict['model_state_dict'])\n",
        "    return state_dict['valid_loss']"
      ],
      "metadata": {
        "id": "B4CHBVz1hrQO"
      },
      "execution_count": 107,
      "outputs": []
    },
    {
      "cell_type": "code",
      "source": [
        "from sklearn.metrics import classification_report, confusion_matrix\n",
        "import matplotlib.pyplot as plt\n",
        "import seaborn as sns"
      ],
      "metadata": {
        "id": "D_KVDNLomd5l"
      },
      "execution_count": 108,
      "outputs": []
    },
    {
      "cell_type": "code",
      "source": [
        "def evalaute(model, test_loader):\n",
        "  y_pred = []\n",
        "  y_true = []\n",
        "\n",
        "  model.eval()\n",
        "  with torch.no_grad():\n",
        "    for (test_inputs, test_label) in test_loader:\n",
        "      output = model(test_inputs, test_label)\n",
        "      output = output.logits.data\n",
        "      y_pred.extend(torch.argmax(output, 1).tolist())\n",
        "      y_true.extend(test_label[0].tolist())\n",
        "  return y_true, y_pred\n",
        "\n",
        "model_ = distilbert\n",
        "load_checkpoint(destination_folder + '/model.pt', model_)\n",
        "\n",
        "y_true, y_pred = evalaute(model_, test_dataloader)"
      ],
      "metadata": {
        "colab": {
          "base_uri": "https://localhost:8080/"
        },
        "id": "tQZDeir7jC_z",
        "outputId": "aa4bc76f-5f59-4c57-970e-ab04cb9ff12b"
      },
      "execution_count": 109,
      "outputs": [
        {
          "output_type": "stream",
          "name": "stdout",
          "text": [
            "Model loaded from <== /content/drive/MyDrive/Fatima_fellowship/training/model.pt\n"
          ]
        }
      ]
    },
    {
      "cell_type": "code",
      "source": [
        "def visualize_evaluation(y_true, y_pred):\n",
        "  print(f\"ROC-AUC Score: {round(roc_auc_score(y_true, y_pred), 2)}\")\n",
        "  print('Classification report: ')\n",
        "  print(classification_report(y_true, y_pred))\n",
        "\n",
        "  cm = confusion_matrix(y_true, y_pred)\n",
        "  ax =plt.subplot()\n",
        "  sns.heatmap(cm, annot=True, ax=ax, cmap = 'Blues', fmt ='d')\n",
        "  ax.set_title('Confusion Matrix')\n",
        "  ax.set_xlabel('Predicted Labels')\n",
        "  ax.set_ylabel('True Labels')\n",
        "  ax.xaxis.set_ticklabels(['Fake', 'Real'])\n",
        "  ax.yaxis.set_ticklabels(['Fake', 'Real'])\n",
        "visualize_evaluation(y_true, y_pred)"
      ],
      "metadata": {
        "colab": {
          "base_uri": "https://localhost:8080/",
          "height": 482
        },
        "id": "_-4gFA5irDCr",
        "outputId": "6d3f266a-1d0d-4761-d728-b08dc1d868fb"
      },
      "execution_count": 110,
      "outputs": [
        {
          "output_type": "stream",
          "name": "stdout",
          "text": [
            "ROC-AUC Score: 1.0\n",
            "Classification report: \n",
            "              precision    recall  f1-score   support\n",
            "\n",
            "           0       1.00      1.00      1.00       936\n",
            "           1       1.00      1.00      1.00       860\n",
            "\n",
            "    accuracy                           1.00      1796\n",
            "   macro avg       1.00      1.00      1.00      1796\n",
            "weighted avg       1.00      1.00      1.00      1796\n",
            "\n"
          ]
        },
        {
          "output_type": "display_data",
          "data": {
            "text/plain": [
              "<Figure size 432x288 with 2 Axes>"
            ],
            "image/png": "[encoded data removed]"
          },
          "metadata": {
            "needs_background": "light"
          }
        }
      ]
    },
    {
      "cell_type": "code",
      "source": [
        "int(.90 * len(data_for_modeling))"
      ],
      "metadata": {
        "id": "-Lp_tA0v8Zea",
        "colab": {
          "base_uri": "https://localhost:8080/"
        },
        "outputId": "56b5be3d-c4cc-48f1-f3ba-a874de101ba9"
      },
      "execution_count": 113,
      "outputs": [
        {
          "output_type": "execute_result",
          "data": {
            "text/plain": [
              "16163"
            ]
          },
          "metadata": {},
          "execution_count": 113
        }
      ]
    },
    {
      "cell_type": "code",
      "source": [
        "# Get the orignal article\n",
        "data_with_predictions = data_for_modeling[['article']]\n",
        "data_with_predictions = data_with_predictions[int(.90 * len(data_for_modeling)):].reset_index(drop = True)\n",
        "data_with_predictions['predictions'] = y_pred\n",
        "data_with_predictions['true_labels'] = y_true\n",
        "data_with_predictions"
      ],
      "metadata": {
        "colab": {
          "base_uri": "https://localhost:8080/",
          "height": 419
        },
        "id": "WPG3wVFdrAoH",
        "outputId": "a73114b4-422c-43c5-9965-bb1da9b953e5"
      },
      "execution_count": 121,
      "outputs": [
        {
          "output_type": "execute_result",
          "data": {
            "text/plain": [
              "                                                article  predictions  \\\n",
              "0     COLIN POWELL SAYS HILLARY LYING About Private ...            1   \n",
              "1      Oregon Ranchers Who Started Bundy Occupation ...            0   \n",
              "2     80 YEAR OLD MAN Writes MUST READ Letter To RNC...            1   \n",
              "3      WATCH: Trump Misses Deadline To Provide Proof...            1   \n",
              "4     Mexico enacts law to help find thousands missi...            1   \n",
              "...                                                 ...          ...   \n",
              "1791  WOW! Watch Former Democrat Hammer Obama On His...            0   \n",
              "1792  BILL CLINTON STEPS IN IT: Accuses FBI Of Servi...            0   \n",
              "1793  Indian tycoon's extradition hearing told of ab...            1   \n",
              "1794  Russian 'propaganda on steroids' aimed at 2016...            1   \n",
              "1795  Go home, Tillerson tells Iranian-backed militi...            0   \n",
              "\n",
              "      true_labels  \n",
              "0               1  \n",
              "1               0  \n",
              "2               1  \n",
              "3               1  \n",
              "4               1  \n",
              "...           ...  \n",
              "1791            0  \n",
              "1792            0  \n",
              "1793            1  \n",
              "1794            1  \n",
              "1795            0  \n",
              "\n",
              "[1796 rows x 3 columns]"
            ],
            "text/html": [
              "\n",
              "  <div id=\"df-5343e5b6-2476-45c9-915f-8fcba18b7503\">\n",
              "    <div class=\"colab-df-container\">\n",
              "      <div>\n",
              "<style scoped>\n",
              "    .dataframe tbody tr th:only-of-type {\n",
              "        vertical-align: middle;\n",
              "    }\n",
              "\n",
              "    .dataframe tbody tr th {\n",
              "        vertical-align: top;\n",
              "    }\n",
              "\n",
              "    .dataframe thead th {\n",
              "        text-align: right;\n",
              "    }\n",
              "</style>\n",
              "<table border=\"1\" class=\"dataframe\">\n",
              "  <thead>\n",
              "    <tr style=\"text-align: right;\">\n",
              "      <th></th>\n",
              "      <th>article</th>\n",
              "      <th>predictions</th>\n",
              "      <th>true_labels</th>\n",
              "    </tr>\n",
              "  </thead>\n",
              "  <tbody>\n",
              "    <tr>\n",
              "      <th>0</th>\n",
              "      <td>COLIN POWELL SAYS HILLARY LYING About Private ...</td>\n",
              "      <td>1</td>\n",
              "      <td>1</td>\n",
              "    </tr>\n",
              "    <tr>\n",
              "      <th>1</th>\n",
              "      <td>Oregon Ranchers Who Started Bundy Occupation ...</td>\n",
              "      <td>0</td>\n",
              "      <td>0</td>\n",
              "    </tr>\n",
              "    <tr>\n",
              "      <th>2</th>\n",
              "      <td>80 YEAR OLD MAN Writes MUST READ Letter To RNC...</td>\n",
              "      <td>1</td>\n",
              "      <td>1</td>\n",
              "    </tr>\n",
              "    <tr>\n",
              "      <th>3</th>\n",
              "      <td>WATCH: Trump Misses Deadline To Provide Proof...</td>\n",
              "      <td>1</td>\n",
              "      <td>1</td>\n",
              "    </tr>\n",
              "    <tr>\n",
              "      <th>4</th>\n",
              "      <td>Mexico enacts law to help find thousands missi...</td>\n",
              "      <td>1</td>\n",
              "      <td>1</td>\n",
              "    </tr>\n",
              "    <tr>\n",
              "      <th>...</th>\n",
              "      <td>...</td>\n",
              "      <td>...</td>\n",
              "      <td>...</td>\n",
              "    </tr>\n",
              "    <tr>\n",
              "      <th>1791</th>\n",
              "      <td>WOW! Watch Former Democrat Hammer Obama On His...</td>\n",
              "      <td>0</td>\n",
              "      <td>0</td>\n",
              "    </tr>\n",
              "    <tr>\n",
              "      <th>1792</th>\n",
              "      <td>BILL CLINTON STEPS IN IT: Accuses FBI Of Servi...</td>\n",
              "      <td>0</td>\n",
              "      <td>0</td>\n",
              "    </tr>\n",
              "    <tr>\n",
              "      <th>1793</th>\n",
              "      <td>Indian tycoon's extradition hearing told of ab...</td>\n",
              "      <td>1</td>\n",
              "      <td>1</td>\n",
              "    </tr>\n",
              "    <tr>\n",
              "      <th>1794</th>\n",
              "      <td>Russian 'propaganda on steroids' aimed at 2016...</td>\n",
              "      <td>1</td>\n",
              "      <td>1</td>\n",
              "    </tr>\n",
              "    <tr>\n",
              "      <th>1795</th>\n",
              "      <td>Go home, Tillerson tells Iranian-backed militi...</td>\n",
              "      <td>0</td>\n",
              "      <td>0</td>\n",
              "    </tr>\n",
              "  </tbody>\n",
              "</table>\n",
              "<p>1796 rows × 3 columns</p>\n",
              "</div>\n",
              "      <button class=\"colab-df-convert\" onclick=\"convertToInteractive('df-5343e5b6-2476-45c9-915f-8fcba18b7503')\"\n",
              "              title=\"Convert this dataframe to an interactive table.\"\n",
              "              style=\"display:none;\">\n",
              "        \n",
              "  <svg xmlns=\"http://www.w3.org/2000/svg\" height=\"24px\"viewBox=\"0 0 24 24\"\n",
              "       width=\"24px\">\n",
              "    <path d=\"M0 0h24v24H0V0z\" fill=\"none\"/>\n",
              "    <path d=\"M18.56 5.44l.94 2.06.94-2.06 2.06-.94-2.06-.94-.94-2.06-.94 2.06-2.06.94zm-11 1L8.5 8.5l.94-2.06 2.06-.94-2.06-.94L8.5 2.5l-.94 2.06-2.06.94zm10 10l.94 2.06.94-2.06 2.06-.94-2.06-.94-.94-2.06-.94 2.06-2.06.94z\"/><path d=\"M17.41 7.96l-1.37-1.37c-.4-.4-.92-.59-1.43-.59-.52 0-1.04.2-1.43.59L10.3 9.45l-7.72 7.72c-.78.78-.78 2.05 0 2.83L4 21.41c.39.39.9.59 1.41.59.51 0 1.02-.2 1.41-.59l7.78-7.78 2.81-2.81c.8-.78.8-2.07 0-2.86zM5.41 20L4 18.59l7.72-7.72 1.47 1.35L5.41 20z\"/>\n",
              "  </svg>\n",
              "      </button>\n",
              "      \n",
              "  <style>\n",
              "    .colab-df-container {\n",
              "      display:flex;\n",
              "      flex-wrap:wrap;\n",
              "      gap: 12px;\n",
              "    }\n",
              "\n",
              "    .colab-df-convert {\n",
              "      background-color: #E8F0FE;\n",
              "      border: none;\n",
              "      border-radius: 50%;\n",
              "      cursor: pointer;\n",
              "      display: none;\n",
              "      fill: #1967D2;\n",
              "      height: 32px;\n",
              "      padding: 0 0 0 0;\n",
              "      width: 32px;\n",
              "    }\n",
              "\n",
              "    .colab-df-convert:hover {\n",
              "      background-color: #E2EBFA;\n",
              "      box-shadow: 0px 1px 2px rgba(60, 64, 67, 0.3), 0px 1px 3px 1px rgba(60, 64, 67, 0.15);\n",
              "      fill: #174EA6;\n",
              "    }\n",
              "\n",
              "    [theme=dark] .colab-df-convert {\n",
              "      background-color: #3B4455;\n",
              "      fill: #D2E3FC;\n",
              "    }\n",
              "\n",
              "    [theme=dark] .colab-df-convert:hover {\n",
              "      background-color: #434B5C;\n",
              "      box-shadow: 0px 1px 3px 1px rgba(0, 0, 0, 0.15);\n",
              "      filter: drop-shadow(0px 1px 2px rgba(0, 0, 0, 0.3));\n",
              "      fill: #FFFFFF;\n",
              "    }\n",
              "  </style>\n",
              "\n",
              "      <script>\n",
              "        const buttonEl =\n",
              "          document.querySelector('#df-5343e5b6-2476-45c9-915f-8fcba18b7503 button.colab-df-convert');\n",
              "        buttonEl.style.display =\n",
              "          google.colab.kernel.accessAllowed ? 'block' : 'none';\n",
              "\n",
              "        async function convertToInteractive(key) {\n",
              "          const element = document.querySelector('#df-5343e5b6-2476-45c9-915f-8fcba18b7503');\n",
              "          const dataTable =\n",
              "            await google.colab.kernel.invokeFunction('convertToInteractive',\n",
              "                                                     [key], {});\n",
              "          if (!dataTable) return;\n",
              "\n",
              "          const docLinkHtml = 'Like what you see? Visit the ' +\n",
              "            '<a target=\"_blank\" href=https://colab.research.google.com/notebooks/data_table.ipynb>data table notebook</a>'\n",
              "            + ' to learn more about interactive tables.';\n",
              "          element.innerHTML = '';\n",
              "          dataTable['output_type'] = 'display_data';\n",
              "          await google.colab.output.renderOutput(dataTable, element);\n",
              "          const docLink = document.createElement('div');\n",
              "          docLink.innerHTML = docLinkHtml;\n",
              "          element.appendChild(docLink);\n",
              "        }\n",
              "      </script>\n",
              "    </div>\n",
              "  </div>\n",
              "  "
            ]
          },
          "metadata": {},
          "execution_count": 121
        }
      ]
    },
    {
      "cell_type": "code",
      "source": [
        "# confirm the true data\n",
        "pd.DataFrame(test_input, columns = ['article'])"
      ],
      "metadata": {
        "colab": {
          "base_uri": "https://localhost:8080/",
          "height": 419
        },
        "id": "tOP00niH_JI9",
        "outputId": "b790d2c4-9b1a-4361-d790-44bb52fed85e"
      },
      "execution_count": 124,
      "outputs": [
        {
          "output_type": "execute_result",
          "data": {
            "text/plain": [
              "                                                article\n",
              "0     colin powell says hillary lying about private ...\n",
              "1     oregon ranchers who started buddy occupation t...\n",
              "2     year old man writes must read letter to rnc to...\n",
              "3     watch trump misses deadline to provide proof o...\n",
              "4     mexico enact law help find thousands missing g...\n",
              "...                                                 ...\n",
              "1791  wow watch former democrat hammer obama on his ...\n",
              "1792  bill clinton steps in it accuses fbi of servin...\n",
              "1793  indian tycoon extradition hearing told abuse u...\n",
              "1794  russian steroids aimed election lawmakerwashin...\n",
              "1795  go home tillerson tells militias reuters secre...\n",
              "\n",
              "[1796 rows x 1 columns]"
            ],
            "text/html": [
              "\n",
              "  <div id=\"df-26af4ae1-be6d-45fb-b1a9-fb579e5ab16e\">\n",
              "    <div class=\"colab-df-container\">\n",
              "      <div>\n",
              "<style scoped>\n",
              "    .dataframe tbody tr th:only-of-type {\n",
              "        vertical-align: middle;\n",
              "    }\n",
              "\n",
              "    .dataframe tbody tr th {\n",
              "        vertical-align: top;\n",
              "    }\n",
              "\n",
              "    .dataframe thead th {\n",
              "        text-align: right;\n",
              "    }\n",
              "</style>\n",
              "<table border=\"1\" class=\"dataframe\">\n",
              "  <thead>\n",
              "    <tr style=\"text-align: right;\">\n",
              "      <th></th>\n",
              "      <th>article</th>\n",
              "    </tr>\n",
              "  </thead>\n",
              "  <tbody>\n",
              "    <tr>\n",
              "      <th>0</th>\n",
              "      <td>colin powell says hillary lying about private ...</td>\n",
              "    </tr>\n",
              "    <tr>\n",
              "      <th>1</th>\n",
              "      <td>oregon ranchers who started buddy occupation t...</td>\n",
              "    </tr>\n",
              "    <tr>\n",
              "      <th>2</th>\n",
              "      <td>year old man writes must read letter to rnc to...</td>\n",
              "    </tr>\n",
              "    <tr>\n",
              "      <th>3</th>\n",
              "      <td>watch trump misses deadline to provide proof o...</td>\n",
              "    </tr>\n",
              "    <tr>\n",
              "      <th>4</th>\n",
              "      <td>mexico enact law help find thousands missing g...</td>\n",
              "    </tr>\n",
              "    <tr>\n",
              "      <th>...</th>\n",
              "      <td>...</td>\n",
              "    </tr>\n",
              "    <tr>\n",
              "      <th>1791</th>\n",
              "      <td>wow watch former democrat hammer obama on his ...</td>\n",
              "    </tr>\n",
              "    <tr>\n",
              "      <th>1792</th>\n",
              "      <td>bill clinton steps in it accuses fbi of servin...</td>\n",
              "    </tr>\n",
              "    <tr>\n",
              "      <th>1793</th>\n",
              "      <td>indian tycoon extradition hearing told abuse u...</td>\n",
              "    </tr>\n",
              "    <tr>\n",
              "      <th>1794</th>\n",
              "      <td>russian steroids aimed election lawmakerwashin...</td>\n",
              "    </tr>\n",
              "    <tr>\n",
              "      <th>1795</th>\n",
              "      <td>go home tillerson tells militias reuters secre...</td>\n",
              "    </tr>\n",
              "  </tbody>\n",
              "</table>\n",
              "<p>1796 rows × 1 columns</p>\n",
              "</div>\n",
              "      <button class=\"colab-df-convert\" onclick=\"convertToInteractive('df-26af4ae1-be6d-45fb-b1a9-fb579e5ab16e')\"\n",
              "              title=\"Convert this dataframe to an interactive table.\"\n",
              "              style=\"display:none;\">\n",
              "        \n",
              "  <svg xmlns=\"http://www.w3.org/2000/svg\" height=\"24px\"viewBox=\"0 0 24 24\"\n",
              "       width=\"24px\">\n",
              "    <path d=\"M0 0h24v24H0V0z\" fill=\"none\"/>\n",
              "    <path d=\"M18.56 5.44l.94 2.06.94-2.06 2.06-.94-2.06-.94-.94-2.06-.94 2.06-2.06.94zm-11 1L8.5 8.5l.94-2.06 2.06-.94-2.06-.94L8.5 2.5l-.94 2.06-2.06.94zm10 10l.94 2.06.94-2.06 2.06-.94-2.06-.94-.94-2.06-.94 2.06-2.06.94z\"/><path d=\"M17.41 7.96l-1.37-1.37c-.4-.4-.92-.59-1.43-.59-.52 0-1.04.2-1.43.59L10.3 9.45l-7.72 7.72c-.78.78-.78 2.05 0 2.83L4 21.41c.39.39.9.59 1.41.59.51 0 1.02-.2 1.41-.59l7.78-7.78 2.81-2.81c.8-.78.8-2.07 0-2.86zM5.41 20L4 18.59l7.72-7.72 1.47 1.35L5.41 20z\"/>\n",
              "  </svg>\n",
              "      </button>\n",
              "      \n",
              "  <style>\n",
              "    .colab-df-container {\n",
              "      display:flex;\n",
              "      flex-wrap:wrap;\n",
              "      gap: 12px;\n",
              "    }\n",
              "\n",
              "    .colab-df-convert {\n",
              "      background-color: #E8F0FE;\n",
              "      border: none;\n",
              "      border-radius: 50%;\n",
              "      cursor: pointer;\n",
              "      display: none;\n",
              "      fill: #1967D2;\n",
              "      height: 32px;\n",
              "      padding: 0 0 0 0;\n",
              "      width: 32px;\n",
              "    }\n",
              "\n",
              "    .colab-df-convert:hover {\n",
              "      background-color: #E2EBFA;\n",
              "      box-shadow: 0px 1px 2px rgba(60, 64, 67, 0.3), 0px 1px 3px 1px rgba(60, 64, 67, 0.15);\n",
              "      fill: #174EA6;\n",
              "    }\n",
              "\n",
              "    [theme=dark] .colab-df-convert {\n",
              "      background-color: #3B4455;\n",
              "      fill: #D2E3FC;\n",
              "    }\n",
              "\n",
              "    [theme=dark] .colab-df-convert:hover {\n",
              "      background-color: #434B5C;\n",
              "      box-shadow: 0px 1px 3px 1px rgba(0, 0, 0, 0.15);\n",
              "      filter: drop-shadow(0px 1px 2px rgba(0, 0, 0, 0.3));\n",
              "      fill: #FFFFFF;\n",
              "    }\n",
              "  </style>\n",
              "\n",
              "      <script>\n",
              "        const buttonEl =\n",
              "          document.querySelector('#df-26af4ae1-be6d-45fb-b1a9-fb579e5ab16e button.colab-df-convert');\n",
              "        buttonEl.style.display =\n",
              "          google.colab.kernel.accessAllowed ? 'block' : 'none';\n",
              "\n",
              "        async function convertToInteractive(key) {\n",
              "          const element = document.querySelector('#df-26af4ae1-be6d-45fb-b1a9-fb579e5ab16e');\n",
              "          const dataTable =\n",
              "            await google.colab.kernel.invokeFunction('convertToInteractive',\n",
              "                                                     [key], {});\n",
              "          if (!dataTable) return;\n",
              "\n",
              "          const docLinkHtml = 'Like what you see? Visit the ' +\n",
              "            '<a target=\"_blank\" href=https://colab.research.google.com/notebooks/data_table.ipynb>data table notebook</a>'\n",
              "            + ' to learn more about interactive tables.';\n",
              "          element.innerHTML = '';\n",
              "          dataTable['output_type'] = 'display_data';\n",
              "          await google.colab.output.renderOutput(dataTable, element);\n",
              "          const docLink = document.createElement('div');\n",
              "          docLink.innerHTML = docLinkHtml;\n",
              "          element.appendChild(docLink);\n",
              "        }\n",
              "      </script>\n",
              "    </div>\n",
              "  </div>\n",
              "  "
            ]
          },
          "metadata": {},
          "execution_count": 124
        }
      ]
    },
    {
      "cell_type": "code",
      "source": [
        "# Wrong predictions\n",
        "wrong_predictions = data_with_predictions[data_with_predictions['true_labels'] != data_with_predictions['predictions']]\n",
        "wrong_predictions"
      ],
      "metadata": {
        "id": "d4vuLtQ984nu",
        "colab": {
          "base_uri": "https://localhost:8080/",
          "height": 142
        },
        "outputId": "617a0427-49e2-4d77-deb7-8fe9a75c1b12"
      },
      "execution_count": 127,
      "outputs": [
        {
          "output_type": "execute_result",
          "data": {
            "text/plain": [
              "                                                article  predictions  \\\n",
              "73    Trump pulls out of Republican debate in IowaMA...            0   \n",
              "799   OBAMA WILL GIVE AWAY FREE INTERNET (To Those H...            0   \n",
              "1305  HOW A SINGLE FEDERAL BUREAUCRAT OPENED THE DOO...            0   \n",
              "\n",
              "      true_labels  \n",
              "73              1  \n",
              "799             1  \n",
              "1305            1  "
            ],
            "text/html": [
              "\n",
              "  <div id=\"df-998ee10a-bcd9-4db5-bb2a-ed78537b909e\">\n",
              "    <div class=\"colab-df-container\">\n",
              "      <div>\n",
              "<style scoped>\n",
              "    .dataframe tbody tr th:only-of-type {\n",
              "        vertical-align: middle;\n",
              "    }\n",
              "\n",
              "    .dataframe tbody tr th {\n",
              "        vertical-align: top;\n",
              "    }\n",
              "\n",
              "    .dataframe thead th {\n",
              "        text-align: right;\n",
              "    }\n",
              "</style>\n",
              "<table border=\"1\" class=\"dataframe\">\n",
              "  <thead>\n",
              "    <tr style=\"text-align: right;\">\n",
              "      <th></th>\n",
              "      <th>article</th>\n",
              "      <th>predictions</th>\n",
              "      <th>true_labels</th>\n",
              "    </tr>\n",
              "  </thead>\n",
              "  <tbody>\n",
              "    <tr>\n",
              "      <th>73</th>\n",
              "      <td>Trump pulls out of Republican debate in IowaMA...</td>\n",
              "      <td>0</td>\n",
              "      <td>1</td>\n",
              "    </tr>\n",
              "    <tr>\n",
              "      <th>799</th>\n",
              "      <td>OBAMA WILL GIVE AWAY FREE INTERNET (To Those H...</td>\n",
              "      <td>0</td>\n",
              "      <td>1</td>\n",
              "    </tr>\n",
              "    <tr>\n",
              "      <th>1305</th>\n",
              "      <td>HOW A SINGLE FEDERAL BUREAUCRAT OPENED THE DOO...</td>\n",
              "      <td>0</td>\n",
              "      <td>1</td>\n",
              "    </tr>\n",
              "  </tbody>\n",
              "</table>\n",
              "</div>\n",
              "      <button class=\"colab-df-convert\" onclick=\"convertToInteractive('df-998ee10a-bcd9-4db5-bb2a-ed78537b909e')\"\n",
              "              title=\"Convert this dataframe to an interactive table.\"\n",
              "              style=\"display:none;\">\n",
              "        \n",
              "  <svg xmlns=\"http://www.w3.org/2000/svg\" height=\"24px\"viewBox=\"0 0 24 24\"\n",
              "       width=\"24px\">\n",
              "    <path d=\"M0 0h24v24H0V0z\" fill=\"none\"/>\n",
              "    <path d=\"M18.56 5.44l.94 2.06.94-2.06 2.06-.94-2.06-.94-.94-2.06-.94 2.06-2.06.94zm-11 1L8.5 8.5l.94-2.06 2.06-.94-2.06-.94L8.5 2.5l-.94 2.06-2.06.94zm10 10l.94 2.06.94-2.06 2.06-.94-2.06-.94-.94-2.06-.94 2.06-2.06.94z\"/><path d=\"M17.41 7.96l-1.37-1.37c-.4-.4-.92-.59-1.43-.59-.52 0-1.04.2-1.43.59L10.3 9.45l-7.72 7.72c-.78.78-.78 2.05 0 2.83L4 21.41c.39.39.9.59 1.41.59.51 0 1.02-.2 1.41-.59l7.78-7.78 2.81-2.81c.8-.78.8-2.07 0-2.86zM5.41 20L4 18.59l7.72-7.72 1.47 1.35L5.41 20z\"/>\n",
              "  </svg>\n",
              "      </button>\n",
              "      \n",
              "  <style>\n",
              "    .colab-df-container {\n",
              "      display:flex;\n",
              "      flex-wrap:wrap;\n",
              "      gap: 12px;\n",
              "    }\n",
              "\n",
              "    .colab-df-convert {\n",
              "      background-color: #E8F0FE;\n",
              "      border: none;\n",
              "      border-radius: 50%;\n",
              "      cursor: pointer;\n",
              "      display: none;\n",
              "      fill: #1967D2;\n",
              "      height: 32px;\n",
              "      padding: 0 0 0 0;\n",
              "      width: 32px;\n",
              "    }\n",
              "\n",
              "    .colab-df-convert:hover {\n",
              "      background-color: #E2EBFA;\n",
              "      box-shadow: 0px 1px 2px rgba(60, 64, 67, 0.3), 0px 1px 3px 1px rgba(60, 64, 67, 0.15);\n",
              "      fill: #174EA6;\n",
              "    }\n",
              "\n",
              "    [theme=dark] .colab-df-convert {\n",
              "      background-color: #3B4455;\n",
              "      fill: #D2E3FC;\n",
              "    }\n",
              "\n",
              "    [theme=dark] .colab-df-convert:hover {\n",
              "      background-color: #434B5C;\n",
              "      box-shadow: 0px 1px 3px 1px rgba(0, 0, 0, 0.15);\n",
              "      filter: drop-shadow(0px 1px 2px rgba(0, 0, 0, 0.3));\n",
              "      fill: #FFFFFF;\n",
              "    }\n",
              "  </style>\n",
              "\n",
              "      <script>\n",
              "        const buttonEl =\n",
              "          document.querySelector('#df-998ee10a-bcd9-4db5-bb2a-ed78537b909e button.colab-df-convert');\n",
              "        buttonEl.style.display =\n",
              "          google.colab.kernel.accessAllowed ? 'block' : 'none';\n",
              "\n",
              "        async function convertToInteractive(key) {\n",
              "          const element = document.querySelector('#df-998ee10a-bcd9-4db5-bb2a-ed78537b909e');\n",
              "          const dataTable =\n",
              "            await google.colab.kernel.invokeFunction('convertToInteractive',\n",
              "                                                     [key], {});\n",
              "          if (!dataTable) return;\n",
              "\n",
              "          const docLinkHtml = 'Like what you see? Visit the ' +\n",
              "            '<a target=\"_blank\" href=https://colab.research.google.com/notebooks/data_table.ipynb>data table notebook</a>'\n",
              "            + ' to learn more about interactive tables.';\n",
              "          element.innerHTML = '';\n",
              "          dataTable['output_type'] = 'display_data';\n",
              "          await google.colab.output.renderOutput(dataTable, element);\n",
              "          const docLink = document.createElement('div');\n",
              "          docLink.innerHTML = docLinkHtml;\n",
              "          element.appendChild(docLink);\n",
              "        }\n",
              "      </script>\n",
              "    </div>\n",
              "  </div>\n",
              "  "
            ]
          },
          "metadata": {},
          "execution_count": 127
        }
      ]
    },
    {
      "cell_type": "markdown",
      "source": [
        "- These three articles the model misclassified them. Interestingly there is some kind of a particular confusion the models has learned in that it predicts almost all three `real` articles as `fake`. But I am curious because the model seem to predict the text with `id --> 799` right as `fake`. "
      ],
      "metadata": {
        "id": "quQ4wDHxASfP"
      }
    },
    {
      "cell_type": "code",
      "source": [
        "# id 799\n",
        "wrong_predictions.iloc[1, : ][0]"
      ],
      "metadata": {
        "colab": {
          "base_uri": "https://localhost:8080/",
          "height": 140
        },
        "id": "YrnVTD3WA8Jd",
        "outputId": "7b0c4502-cf3d-45a0-a79b-e0a07284a25d"
      },
      "execution_count": 136,
      "outputs": [
        {
          "output_type": "execute_result",
          "data": {
            "text/plain": [
              "'OBAMA WILL GIVE AWAY FREE INTERNET (To Those He Deems Worthy) : “The internet is not a luxury”Don t turn off your paid internet service quite yet. If you have a job and contribute to our tax base, you won t qualify. You also have to be living in cities the Obama regime considers worthy of free internet service. Those cities have likely provided some form of support for Obama s radical agenda for America.Because internet service is a human right or something like that Calling the Internet a 21st century necessity, President Barack Obama on Wednesday unveiled a program to bring faster Internet connections to more low-income households, particularly to help students living in public and assisted housing stay ahead in school.Under ConnectHome, the public, private and nonprofit sectors have pledged to work together to provide high-speed connections and digital devices to more families at lower cost.More than 90 percent of households headed by a college graduate have Internet access, Obama said. But fewer than half of low-income households have similar access.In this day and age, Obama said the  digital divide  puts these individuals at a disadvantage by limiting their educational and economic opportunities because the Internet is increasingly needed to find a job, finish homework or keep in touch with family and friends. In this digital age, when you can apply for a job, take a course, pay your bills   with a tap of your phone, the Internet is not a luxury. It s a necessity,  Obama said in Durant, Oklahoma, on the first day of a two-day visit to the state. You cannot connect with today s economy without having access to the Internet,  he said.ConnectHome is similar to ConnectEd, a federal program that Obama said is on track to wire 99 percent of K-12 classrooms and libraries with high-speed Internet by the end of 2017.ConnectHome will begin in 27 cities and the Choctaw Nation of Oklahoma, which is headquartered in Durant. With about 200,000 members spread across much of southeastern Oklahoma, the Choctaw Nation is the nation s third-largest Native American tribe.The Choctaw Nation was also among the administration s first  Promise Zones,  a designation that makes it eligible for tax incentives and grants to help fight poverty.The only federal money expected to be spent on ConnectHome is a $50,000 Agriculture Department grant to the Choctaw Nation, officials said.The 27 cities the U.S. Department of Housing and Urban Development selected for ConnectHome are: Albany, Georgia; Atlanta; Baltimore; Baton Rouge, Louisiana; Boston; Camden, New Jersey; Cleveland; Denver; Durham, North Carolina; Fresno, California; Kansas City, Missouri; Little Rock, Arkansas; Los Angeles; Macon, Georgia; Memphis, Tennessee; Meriden, Connecticut; Nashville, Tennessee; New Orleans; New York; Newark, New Jersey; Philadelphia; Rockford, Illinois; San Antonio; Seattle; Springfield, Massachusetts; Tampa, Florida; and the District of Columbia.Obama was spending the night in Oklahoma and on Thursday continuing a weeklong focus on making the criminal justice system fairer.He planned to meet Thursday with law enforcement officials and inmates during a historic tour of the El Reno Federal Correctional Institution, a medium-security facility west of Oklahoma City that holds about 1,300 male offenders.  I will be the first sitting president to visit a federal prison,  Obama said in a speech Tuesday to the NAACP meeting in Philadelphia.politics'"
            ],
            "application/vnd.google.colaboratory.intrinsic+json": {
              "type": "string"
            }
          },
          "metadata": {},
          "execution_count": 136
        }
      ]
    },
    {
      "cell_type": "markdown",
      "source": [
        "- Well, I don't know when exactly this happened in the US though but it looks so good to be true anyway.  How those rather contributing to tax base and have jobs not qualify? You think the model is indeed wrong or the labeling is wrong. Indeed I think a better way to get the right answers is to google the authenticity of this news article to know whether or this did happen. \n",
        "- Oh guess what, after fidgeting with my keyboard on google, [here](https://100percentfedup.com/obama-will-give-away-free-internet-to-those-he-deems-worthy-the-internet-is-not-a-luxury/) is what I found, a 2015 based article. What I think is that the context of the news was more reasonable as it was shown here in the text. It suffice to say that the source and the conveyance of the news also matters because humanly thinking, if I saw this at a first glance I'd have same doubts like my model too. Hahahahah 🤣!!!!\n",
        "\n",
        "\n",
        "- Finally, here's what I think I would do. I had earlier trained tensorflow based model using `distilbert-base-uncased` and achieved incredible results on a `30%` of the same data. Almost the model get confused in a similar way. I will find myself some good `gpu` and utilize all on the data. This model is performance on only `40%` of the dataset. "
      ],
      "metadata": {
        "id": "s_pvOPDmCITJ"
      }
    },
    {
      "cell_type": "markdown",
      "metadata": {
        "id": "kpInVUMLyJ24"
      },
      "source": [
        "**Write up**: \n",
        "* Link to the model on Hugging Face Hub: \n",
        "* Include some examples of misclassified news articles. Please explain what you might do to improve your model's performance on these news articles in the future (you do not need to impelement these suggestions)"
      ]
    }
  ],
  "metadata": {
    "accelerator": "GPU",
    "colab": {
      "collapsed_sections": [],
      "name": "Coding_Challenge_For_Fatima_Fellowship.ipynb",
      "provenance": [],
      "include_colab_link": true
    },
    "kernelspec": {
      "display_name": "Python 3",
      "name": "python3"
    },
    "language_info": {
      "codemirror_mode": {
        "name": "ipython",
        "version": 3
      },
      "file_extension": ".py",
      "mimetype": "text/x-python",
      "name": "python",
      "nbconvert_exporter": "python",
      "pygments_lexer": "ipython3",
      "version": "3.9.12"
    }
  },
  "nbformat": 4,
  "nbformat_minor": 0
}